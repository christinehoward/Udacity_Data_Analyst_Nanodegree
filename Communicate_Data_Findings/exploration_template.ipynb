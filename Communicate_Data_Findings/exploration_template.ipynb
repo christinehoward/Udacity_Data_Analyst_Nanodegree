{
 "cells": [
  {
   "cell_type": "markdown",
   "metadata": {},
   "source": [
    "# Dataset Exploration of BTS Flight Data\n",
    "## by Christine Howard\n",
    "\n",
    "## Preliminary Wrangling\n",
    "\n",
    "> I will be working with the Flights dataset, which looks at millions of flights over nearly 2 decades to see what factors may contribute to flight delays. I have chosen to look mainly at the flight data from 2005, while making a comparison of delays between 1990 and 2005. The files are extremely large, so comparing multiple years would make this analysis very slow and difficult. I will focus my analysis on looking to see what contributing factors there are on both arrival and departure flight delays."
   ]
  },
  {
   "cell_type": "code",
   "execution_count": 1,
   "metadata": {},
   "outputs": [],
   "source": [
    "# import all packages and set plots to be embedded inline\n",
    "import numpy as np\n",
    "import pandas as pd\n",
    "import matplotlib.pyplot as plt\n",
    "import seaborn as sb\n",
    "\n",
    "%matplotlib inline"
   ]
  },
  {
   "cell_type": "markdown",
   "metadata": {},
   "source": [
    "> First, I will load in my datasets and take a look at their properties."
   ]
  },
  {
   "cell_type": "code",
   "execution_count": 2,
   "metadata": {},
   "outputs": [],
   "source": [
    "df_airports = pd.read_csv('airports.csv')\n",
    "df_carriers = pd.read_csv('carriers.csv') \n",
    "df_1990 = pd.read_csv('1990.csv')\n",
    "df_2005 = pd.read_csv('2005.csv')"
   ]
  },
  {
   "cell_type": "markdown",
   "metadata": {},
   "source": [
    "There are 4 datasets within this single dataset: 1 with airport information, 1 with carrier information, and 2 with 1990 and 2005 flight data. I will start by taking a look at the shape/head of the 2 flight datasets.<br><br>I have not yet determined if I will be using the airports or carriers datasets, so I will not explore them at this stage."
   ]
  },
  {
   "cell_type": "code",
   "execution_count": 3,
   "metadata": {},
   "outputs": [
    {
     "data": {
      "text/plain": [
       "(5270893, 29)"
      ]
     },
     "execution_count": 3,
     "metadata": {},
     "output_type": "execute_result"
    }
   ],
   "source": [
    "df_1990.shape"
   ]
  },
  {
   "cell_type": "code",
   "execution_count": 4,
   "metadata": {},
   "outputs": [
    {
     "data": {
      "text/plain": [
       "(7140596, 29)"
      ]
     },
     "execution_count": 4,
     "metadata": {},
     "output_type": "execute_result"
    }
   ],
   "source": [
    "df_2005.shape"
   ]
  },
  {
   "cell_type": "markdown",
   "metadata": {},
   "source": [
    "These datasets are huge! Both have several million rows, no wonder downloading them was a slow process!"
   ]
  },
  {
   "cell_type": "code",
   "execution_count": 5,
   "metadata": {},
   "outputs": [
    {
     "data": {
      "text/html": [
       "<div>\n",
       "<style scoped>\n",
       "    .dataframe tbody tr th:only-of-type {\n",
       "        vertical-align: middle;\n",
       "    }\n",
       "\n",
       "    .dataframe tbody tr th {\n",
       "        vertical-align: top;\n",
       "    }\n",
       "\n",
       "    .dataframe thead th {\n",
       "        text-align: right;\n",
       "    }\n",
       "</style>\n",
       "<table border=\"1\" class=\"dataframe\">\n",
       "  <thead>\n",
       "    <tr style=\"text-align: right;\">\n",
       "      <th></th>\n",
       "      <th>Year</th>\n",
       "      <th>Month</th>\n",
       "      <th>DayofMonth</th>\n",
       "      <th>DayOfWeek</th>\n",
       "      <th>DepTime</th>\n",
       "      <th>CRSDepTime</th>\n",
       "      <th>ArrTime</th>\n",
       "      <th>CRSArrTime</th>\n",
       "      <th>UniqueCarrier</th>\n",
       "      <th>FlightNum</th>\n",
       "      <th>...</th>\n",
       "      <th>TaxiIn</th>\n",
       "      <th>TaxiOut</th>\n",
       "      <th>Cancelled</th>\n",
       "      <th>CancellationCode</th>\n",
       "      <th>Diverted</th>\n",
       "      <th>CarrierDelay</th>\n",
       "      <th>WeatherDelay</th>\n",
       "      <th>NASDelay</th>\n",
       "      <th>SecurityDelay</th>\n",
       "      <th>LateAircraftDelay</th>\n",
       "    </tr>\n",
       "  </thead>\n",
       "  <tbody>\n",
       "    <tr>\n",
       "      <th>0</th>\n",
       "      <td>1990</td>\n",
       "      <td>1</td>\n",
       "      <td>3</td>\n",
       "      <td>3</td>\n",
       "      <td>1707.0</td>\n",
       "      <td>1630</td>\n",
       "      <td>1755.0</td>\n",
       "      <td>1723</td>\n",
       "      <td>US</td>\n",
       "      <td>29</td>\n",
       "      <td>...</td>\n",
       "      <td>NaN</td>\n",
       "      <td>NaN</td>\n",
       "      <td>0</td>\n",
       "      <td>NaN</td>\n",
       "      <td>0</td>\n",
       "      <td>NaN</td>\n",
       "      <td>NaN</td>\n",
       "      <td>NaN</td>\n",
       "      <td>NaN</td>\n",
       "      <td>NaN</td>\n",
       "    </tr>\n",
       "    <tr>\n",
       "      <th>1</th>\n",
       "      <td>1990</td>\n",
       "      <td>1</td>\n",
       "      <td>4</td>\n",
       "      <td>4</td>\n",
       "      <td>1706.0</td>\n",
       "      <td>1630</td>\n",
       "      <td>1807.0</td>\n",
       "      <td>1723</td>\n",
       "      <td>US</td>\n",
       "      <td>29</td>\n",
       "      <td>...</td>\n",
       "      <td>NaN</td>\n",
       "      <td>NaN</td>\n",
       "      <td>0</td>\n",
       "      <td>NaN</td>\n",
       "      <td>0</td>\n",
       "      <td>NaN</td>\n",
       "      <td>NaN</td>\n",
       "      <td>NaN</td>\n",
       "      <td>NaN</td>\n",
       "      <td>NaN</td>\n",
       "    </tr>\n",
       "    <tr>\n",
       "      <th>2</th>\n",
       "      <td>1990</td>\n",
       "      <td>1</td>\n",
       "      <td>5</td>\n",
       "      <td>5</td>\n",
       "      <td>1629.0</td>\n",
       "      <td>1630</td>\n",
       "      <td>1715.0</td>\n",
       "      <td>1723</td>\n",
       "      <td>US</td>\n",
       "      <td>29</td>\n",
       "      <td>...</td>\n",
       "      <td>NaN</td>\n",
       "      <td>NaN</td>\n",
       "      <td>0</td>\n",
       "      <td>NaN</td>\n",
       "      <td>0</td>\n",
       "      <td>NaN</td>\n",
       "      <td>NaN</td>\n",
       "      <td>NaN</td>\n",
       "      <td>NaN</td>\n",
       "      <td>NaN</td>\n",
       "    </tr>\n",
       "    <tr>\n",
       "      <th>3</th>\n",
       "      <td>1990</td>\n",
       "      <td>1</td>\n",
       "      <td>6</td>\n",
       "      <td>6</td>\n",
       "      <td>1633.0</td>\n",
       "      <td>1630</td>\n",
       "      <td>1718.0</td>\n",
       "      <td>1723</td>\n",
       "      <td>US</td>\n",
       "      <td>29</td>\n",
       "      <td>...</td>\n",
       "      <td>NaN</td>\n",
       "      <td>NaN</td>\n",
       "      <td>0</td>\n",
       "      <td>NaN</td>\n",
       "      <td>0</td>\n",
       "      <td>NaN</td>\n",
       "      <td>NaN</td>\n",
       "      <td>NaN</td>\n",
       "      <td>NaN</td>\n",
       "      <td>NaN</td>\n",
       "    </tr>\n",
       "    <tr>\n",
       "      <th>4</th>\n",
       "      <td>1990</td>\n",
       "      <td>1</td>\n",
       "      <td>8</td>\n",
       "      <td>1</td>\n",
       "      <td>1630.0</td>\n",
       "      <td>1630</td>\n",
       "      <td>1726.0</td>\n",
       "      <td>1723</td>\n",
       "      <td>US</td>\n",
       "      <td>29</td>\n",
       "      <td>...</td>\n",
       "      <td>NaN</td>\n",
       "      <td>NaN</td>\n",
       "      <td>0</td>\n",
       "      <td>NaN</td>\n",
       "      <td>0</td>\n",
       "      <td>NaN</td>\n",
       "      <td>NaN</td>\n",
       "      <td>NaN</td>\n",
       "      <td>NaN</td>\n",
       "      <td>NaN</td>\n",
       "    </tr>\n",
       "  </tbody>\n",
       "</table>\n",
       "<p>5 rows × 29 columns</p>\n",
       "</div>"
      ],
      "text/plain": [
       "   Year  Month  DayofMonth  DayOfWeek  DepTime  CRSDepTime  ArrTime  \\\n",
       "0  1990      1           3          3   1707.0        1630   1755.0   \n",
       "1  1990      1           4          4   1706.0        1630   1807.0   \n",
       "2  1990      1           5          5   1629.0        1630   1715.0   \n",
       "3  1990      1           6          6   1633.0        1630   1718.0   \n",
       "4  1990      1           8          1   1630.0        1630   1726.0   \n",
       "\n",
       "   CRSArrTime UniqueCarrier  FlightNum  ...  TaxiIn  TaxiOut  Cancelled  \\\n",
       "0        1723            US         29  ...     NaN      NaN          0   \n",
       "1        1723            US         29  ...     NaN      NaN          0   \n",
       "2        1723            US         29  ...     NaN      NaN          0   \n",
       "3        1723            US         29  ...     NaN      NaN          0   \n",
       "4        1723            US         29  ...     NaN      NaN          0   \n",
       "\n",
       "   CancellationCode  Diverted  CarrierDelay WeatherDelay NASDelay  \\\n",
       "0               NaN         0           NaN          NaN      NaN   \n",
       "1               NaN         0           NaN          NaN      NaN   \n",
       "2               NaN         0           NaN          NaN      NaN   \n",
       "3               NaN         0           NaN          NaN      NaN   \n",
       "4               NaN         0           NaN          NaN      NaN   \n",
       "\n",
       "   SecurityDelay  LateAircraftDelay  \n",
       "0            NaN                NaN  \n",
       "1            NaN                NaN  \n",
       "2            NaN                NaN  \n",
       "3            NaN                NaN  \n",
       "4            NaN                NaN  \n",
       "\n",
       "[5 rows x 29 columns]"
      ]
     },
     "execution_count": 5,
     "metadata": {},
     "output_type": "execute_result"
    }
   ],
   "source": [
    "df_1990.head()"
   ]
  },
  {
   "cell_type": "code",
   "execution_count": 6,
   "metadata": {},
   "outputs": [
    {
     "data": {
      "text/html": [
       "<div>\n",
       "<style scoped>\n",
       "    .dataframe tbody tr th:only-of-type {\n",
       "        vertical-align: middle;\n",
       "    }\n",
       "\n",
       "    .dataframe tbody tr th {\n",
       "        vertical-align: top;\n",
       "    }\n",
       "\n",
       "    .dataframe thead th {\n",
       "        text-align: right;\n",
       "    }\n",
       "</style>\n",
       "<table border=\"1\" class=\"dataframe\">\n",
       "  <thead>\n",
       "    <tr style=\"text-align: right;\">\n",
       "      <th></th>\n",
       "      <th>Year</th>\n",
       "      <th>Month</th>\n",
       "      <th>DayofMonth</th>\n",
       "      <th>DayOfWeek</th>\n",
       "      <th>DepTime</th>\n",
       "      <th>CRSDepTime</th>\n",
       "      <th>ArrTime</th>\n",
       "      <th>CRSArrTime</th>\n",
       "      <th>UniqueCarrier</th>\n",
       "      <th>FlightNum</th>\n",
       "      <th>...</th>\n",
       "      <th>TaxiIn</th>\n",
       "      <th>TaxiOut</th>\n",
       "      <th>Cancelled</th>\n",
       "      <th>CancellationCode</th>\n",
       "      <th>Diverted</th>\n",
       "      <th>CarrierDelay</th>\n",
       "      <th>WeatherDelay</th>\n",
       "      <th>NASDelay</th>\n",
       "      <th>SecurityDelay</th>\n",
       "      <th>LateAircraftDelay</th>\n",
       "    </tr>\n",
       "  </thead>\n",
       "  <tbody>\n",
       "    <tr>\n",
       "      <th>0</th>\n",
       "      <td>2005</td>\n",
       "      <td>1</td>\n",
       "      <td>28</td>\n",
       "      <td>5</td>\n",
       "      <td>1603.0</td>\n",
       "      <td>1605</td>\n",
       "      <td>1741.0</td>\n",
       "      <td>1759</td>\n",
       "      <td>UA</td>\n",
       "      <td>541</td>\n",
       "      <td>...</td>\n",
       "      <td>4</td>\n",
       "      <td>23</td>\n",
       "      <td>0</td>\n",
       "      <td>NaN</td>\n",
       "      <td>0</td>\n",
       "      <td>0</td>\n",
       "      <td>0</td>\n",
       "      <td>0</td>\n",
       "      <td>0</td>\n",
       "      <td>0</td>\n",
       "    </tr>\n",
       "    <tr>\n",
       "      <th>1</th>\n",
       "      <td>2005</td>\n",
       "      <td>1</td>\n",
       "      <td>29</td>\n",
       "      <td>6</td>\n",
       "      <td>1559.0</td>\n",
       "      <td>1605</td>\n",
       "      <td>1736.0</td>\n",
       "      <td>1759</td>\n",
       "      <td>UA</td>\n",
       "      <td>541</td>\n",
       "      <td>...</td>\n",
       "      <td>6</td>\n",
       "      <td>15</td>\n",
       "      <td>0</td>\n",
       "      <td>NaN</td>\n",
       "      <td>0</td>\n",
       "      <td>0</td>\n",
       "      <td>0</td>\n",
       "      <td>0</td>\n",
       "      <td>0</td>\n",
       "      <td>0</td>\n",
       "    </tr>\n",
       "    <tr>\n",
       "      <th>2</th>\n",
       "      <td>2005</td>\n",
       "      <td>1</td>\n",
       "      <td>30</td>\n",
       "      <td>7</td>\n",
       "      <td>1603.0</td>\n",
       "      <td>1610</td>\n",
       "      <td>1741.0</td>\n",
       "      <td>1805</td>\n",
       "      <td>UA</td>\n",
       "      <td>541</td>\n",
       "      <td>...</td>\n",
       "      <td>9</td>\n",
       "      <td>18</td>\n",
       "      <td>0</td>\n",
       "      <td>NaN</td>\n",
       "      <td>0</td>\n",
       "      <td>0</td>\n",
       "      <td>0</td>\n",
       "      <td>0</td>\n",
       "      <td>0</td>\n",
       "      <td>0</td>\n",
       "    </tr>\n",
       "    <tr>\n",
       "      <th>3</th>\n",
       "      <td>2005</td>\n",
       "      <td>1</td>\n",
       "      <td>31</td>\n",
       "      <td>1</td>\n",
       "      <td>1556.0</td>\n",
       "      <td>1605</td>\n",
       "      <td>1726.0</td>\n",
       "      <td>1759</td>\n",
       "      <td>UA</td>\n",
       "      <td>541</td>\n",
       "      <td>...</td>\n",
       "      <td>11</td>\n",
       "      <td>10</td>\n",
       "      <td>0</td>\n",
       "      <td>NaN</td>\n",
       "      <td>0</td>\n",
       "      <td>0</td>\n",
       "      <td>0</td>\n",
       "      <td>0</td>\n",
       "      <td>0</td>\n",
       "      <td>0</td>\n",
       "    </tr>\n",
       "    <tr>\n",
       "      <th>4</th>\n",
       "      <td>2005</td>\n",
       "      <td>1</td>\n",
       "      <td>2</td>\n",
       "      <td>7</td>\n",
       "      <td>1934.0</td>\n",
       "      <td>1900</td>\n",
       "      <td>2235.0</td>\n",
       "      <td>2232</td>\n",
       "      <td>UA</td>\n",
       "      <td>542</td>\n",
       "      <td>...</td>\n",
       "      <td>5</td>\n",
       "      <td>10</td>\n",
       "      <td>0</td>\n",
       "      <td>NaN</td>\n",
       "      <td>0</td>\n",
       "      <td>0</td>\n",
       "      <td>0</td>\n",
       "      <td>0</td>\n",
       "      <td>0</td>\n",
       "      <td>0</td>\n",
       "    </tr>\n",
       "  </tbody>\n",
       "</table>\n",
       "<p>5 rows × 29 columns</p>\n",
       "</div>"
      ],
      "text/plain": [
       "   Year  Month  DayofMonth  DayOfWeek  DepTime  CRSDepTime  ArrTime  \\\n",
       "0  2005      1          28          5   1603.0        1605   1741.0   \n",
       "1  2005      1          29          6   1559.0        1605   1736.0   \n",
       "2  2005      1          30          7   1603.0        1610   1741.0   \n",
       "3  2005      1          31          1   1556.0        1605   1726.0   \n",
       "4  2005      1           2          7   1934.0        1900   2235.0   \n",
       "\n",
       "   CRSArrTime UniqueCarrier  FlightNum  ... TaxiIn  TaxiOut  Cancelled  \\\n",
       "0        1759            UA        541  ...      4       23          0   \n",
       "1        1759            UA        541  ...      6       15          0   \n",
       "2        1805            UA        541  ...      9       18          0   \n",
       "3        1759            UA        541  ...     11       10          0   \n",
       "4        2232            UA        542  ...      5       10          0   \n",
       "\n",
       "   CancellationCode  Diverted  CarrierDelay WeatherDelay NASDelay  \\\n",
       "0               NaN         0             0            0        0   \n",
       "1               NaN         0             0            0        0   \n",
       "2               NaN         0             0            0        0   \n",
       "3               NaN         0             0            0        0   \n",
       "4               NaN         0             0            0        0   \n",
       "\n",
       "   SecurityDelay  LateAircraftDelay  \n",
       "0              0                  0  \n",
       "1              0                  0  \n",
       "2              0                  0  \n",
       "3              0                  0  \n",
       "4              0                  0  \n",
       "\n",
       "[5 rows x 29 columns]"
      ]
     },
     "execution_count": 6,
     "metadata": {},
     "output_type": "execute_result"
    }
   ],
   "source": [
    "df_2005.head()"
   ]
  },
  {
   "cell_type": "markdown",
   "metadata": {},
   "source": [
    "df_2005 and df_2990 each have millions of rows, and a lot of columns (29). I want to try to remove some unnecessary information to make these datasets smaller, such as any duplicates or columns I will likely not be using for my analysis."
   ]
  },
  {
   "cell_type": "code",
   "execution_count": 7,
   "metadata": {},
   "outputs": [
    {
     "data": {
      "text/plain": [
       "0"
      ]
     },
     "execution_count": 7,
     "metadata": {},
     "output_type": "execute_result"
    }
   ],
   "source": [
    "df_1990.duplicated().sum()"
   ]
  },
  {
   "cell_type": "code",
   "execution_count": 8,
   "metadata": {},
   "outputs": [
    {
     "data": {
      "text/plain": [
       "11"
      ]
     },
     "execution_count": 8,
     "metadata": {},
     "output_type": "execute_result"
    }
   ],
   "source": [
    "df_2005.duplicated().sum()"
   ]
  },
  {
   "cell_type": "markdown",
   "metadata": {},
   "source": [
    "Surprisingly, there are a minimal number of duplicates considering the massive size of the dfs. I will delete these 1 duplicates shortly."
   ]
  },
  {
   "cell_type": "markdown",
   "metadata": {},
   "source": [
    "Before making any changes to the dfs, I want to make copies of each so I can refer back to these if needed."
   ]
  },
  {
   "cell_type": "code",
   "execution_count": 9,
   "metadata": {},
   "outputs": [],
   "source": [
    "df_1990_clean = df_1990.copy()\n",
    "df_2005_clean = df_2005.copy()"
   ]
  },
  {
   "cell_type": "code",
   "execution_count": 10,
   "metadata": {},
   "outputs": [],
   "source": [
    "df_2005_clean.drop_duplicates(inplace=True) # dropping duplicates"
   ]
  },
  {
   "cell_type": "code",
   "execution_count": 11,
   "metadata": {},
   "outputs": [
    {
     "data": {
      "text/plain": [
       "(7140585, 29)"
      ]
     },
     "execution_count": 11,
     "metadata": {},
     "output_type": "execute_result"
    }
   ],
   "source": [
    "df_2005_clean.shape # looks like that worked"
   ]
  },
  {
   "cell_type": "markdown",
   "metadata": {},
   "source": [
    "Next I will look at the columns to see which I want to drop, in order to make the dataset smaller. As it stands now, when I look at the head I can only see a portion of the columns."
   ]
  },
  {
   "cell_type": "code",
   "execution_count": 12,
   "metadata": {},
   "outputs": [
    {
     "data": {
      "text/plain": [
       "Index(['Year', 'Month', 'DayofMonth', 'DayOfWeek', 'DepTime', 'CRSDepTime',\n",
       "       'ArrTime', 'CRSArrTime', 'UniqueCarrier', 'FlightNum', 'TailNum',\n",
       "       'ActualElapsedTime', 'CRSElapsedTime', 'AirTime', 'ArrDelay',\n",
       "       'DepDelay', 'Origin', 'Dest', 'Distance', 'TaxiIn', 'TaxiOut',\n",
       "       'Cancelled', 'CancellationCode', 'Diverted', 'CarrierDelay',\n",
       "       'WeatherDelay', 'NASDelay', 'SecurityDelay', 'LateAircraftDelay'],\n",
       "      dtype='object')"
      ]
     },
     "execution_count": 12,
     "metadata": {},
     "output_type": "execute_result"
    }
   ],
   "source": [
    "df_1990_clean.columns"
   ]
  },
  {
   "cell_type": "code",
   "execution_count": 13,
   "metadata": {},
   "outputs": [
    {
     "data": {
      "text/plain": [
       "Index(['Year', 'Month', 'DayofMonth', 'DayOfWeek', 'DepTime', 'CRSDepTime',\n",
       "       'ArrTime', 'CRSArrTime', 'UniqueCarrier', 'FlightNum', 'TailNum',\n",
       "       'ActualElapsedTime', 'CRSElapsedTime', 'AirTime', 'ArrDelay',\n",
       "       'DepDelay', 'Origin', 'Dest', 'Distance', 'TaxiIn', 'TaxiOut',\n",
       "       'Cancelled', 'CancellationCode', 'Diverted', 'CarrierDelay',\n",
       "       'WeatherDelay', 'NASDelay', 'SecurityDelay', 'LateAircraftDelay'],\n",
       "      dtype='object')"
      ]
     },
     "execution_count": 13,
     "metadata": {},
     "output_type": "execute_result"
    }
   ],
   "source": [
    "df_2005_clean.columns"
   ]
  },
  {
   "cell_type": "markdown",
   "metadata": {},
   "source": [
    "It looks like all columns match in both datasets, which is great. I will refer to this link which has more information about each column to find out more information about what each means: https://www.transtats.bts.gov/Fields.asp?Table_ID=236"
   ]
  },
  {
   "cell_type": "markdown",
   "metadata": {},
   "source": [
    "I do not think I will be needing the following rows: FlightNum and TailNum. I am not sure about cancelled: I want to see how many rows had flights that were cancelled then decide to drop this column or not. But it does not seem to make sense to look at reasons for flight delays for any flights that were cancelled, as they would not have actually taken off, so I will likely drop any rows that were cancelled flights and then drop these 2 cancellation columns."
   ]
  },
  {
   "cell_type": "code",
   "execution_count": 14,
   "metadata": {
    "scrolled": true
   },
   "outputs": [
    {
     "data": {
      "text/plain": [
       "0    5218435\n",
       "1      52458\n",
       "Name: Cancelled, dtype: int64"
      ]
     },
     "execution_count": 14,
     "metadata": {},
     "output_type": "execute_result"
    }
   ],
   "source": [
    "df_1990_clean.Cancelled.value_counts()"
   ]
  },
  {
   "cell_type": "code",
   "execution_count": 15,
   "metadata": {},
   "outputs": [
    {
     "data": {
      "text/plain": [
       "0    7006855\n",
       "1     133730\n",
       "Name: Cancelled, dtype: int64"
      ]
     },
     "execution_count": 15,
     "metadata": {},
     "output_type": "execute_result"
    }
   ],
   "source": [
    "df_2005_clean.Cancelled.value_counts()"
   ]
  },
  {
   "cell_type": "markdown",
   "metadata": {},
   "source": [
    "There are a significant number of flights in the datasets that were cancelled. I am interested to have a quick look to see why they were cancelled."
   ]
  },
  {
   "cell_type": "code",
   "execution_count": 16,
   "metadata": {},
   "outputs": [
    {
     "data": {
      "text/plain": [
       "Series([], Name: CancellationCode, dtype: int64)"
      ]
     },
     "execution_count": 16,
     "metadata": {},
     "output_type": "execute_result"
    }
   ],
   "source": [
    "df_1990_clean.CancellationCode.value_counts()\n",
    "# there are no cancellation codes in the 1990 dataset"
   ]
  },
  {
   "cell_type": "code",
   "execution_count": 17,
   "metadata": {},
   "outputs": [
    {
     "data": {
      "text/plain": [
       "A    59350\n",
       "B    51205\n",
       "C    23084\n",
       "D       92\n",
       "Name: CancellationCode, dtype: int64"
      ]
     },
     "execution_count": 17,
     "metadata": {},
     "output_type": "execute_result"
    }
   ],
   "source": [
    "df_2005_clean.CancellationCode.value_counts()"
   ]
  },
  {
   "cell_type": "markdown",
   "metadata": {},
   "source": [
    "I will need to load another csv file that I did not load at the start in order to find out what these codes mean."
   ]
  },
  {
   "cell_type": "code",
   "execution_count": 18,
   "metadata": {},
   "outputs": [],
   "source": [
    "df_var_descript = pd.read_csv('variable-descriptions.csv')"
   ]
  },
  {
   "cell_type": "code",
   "execution_count": 19,
   "metadata": {},
   "outputs": [
    {
     "data": {
      "text/html": [
       "<div>\n",
       "<style scoped>\n",
       "    .dataframe tbody tr th:only-of-type {\n",
       "        vertical-align: middle;\n",
       "    }\n",
       "\n",
       "    .dataframe tbody tr th {\n",
       "        vertical-align: top;\n",
       "    }\n",
       "\n",
       "    .dataframe thead th {\n",
       "        text-align: right;\n",
       "    }\n",
       "</style>\n",
       "<table border=\"1\" class=\"dataframe\">\n",
       "  <thead>\n",
       "    <tr style=\"text-align: right;\">\n",
       "      <th></th>\n",
       "      <th>Variable descriptions</th>\n",
       "      <th>Unnamed: 1</th>\n",
       "      <th>Unnamed: 2</th>\n",
       "    </tr>\n",
       "  </thead>\n",
       "  <tbody>\n",
       "    <tr>\n",
       "      <th>0</th>\n",
       "      <td>NaN</td>\n",
       "      <td>NaN</td>\n",
       "      <td>NaN</td>\n",
       "    </tr>\n",
       "    <tr>\n",
       "      <th>1</th>\n",
       "      <td>NaN</td>\n",
       "      <td>Name</td>\n",
       "      <td>Description</td>\n",
       "    </tr>\n",
       "    <tr>\n",
       "      <th>2</th>\n",
       "      <td>1.0</td>\n",
       "      <td>Year</td>\n",
       "      <td>1987-2008</td>\n",
       "    </tr>\n",
       "    <tr>\n",
       "      <th>3</th>\n",
       "      <td>2.0</td>\n",
       "      <td>Month</td>\n",
       "      <td>12-Jan</td>\n",
       "    </tr>\n",
       "    <tr>\n",
       "      <th>4</th>\n",
       "      <td>3.0</td>\n",
       "      <td>DayofMonth</td>\n",
       "      <td>31-Jan</td>\n",
       "    </tr>\n",
       "    <tr>\n",
       "      <th>5</th>\n",
       "      <td>4.0</td>\n",
       "      <td>DayOfWeek</td>\n",
       "      <td>1 (Monday) - 7 (Sunday)</td>\n",
       "    </tr>\n",
       "    <tr>\n",
       "      <th>6</th>\n",
       "      <td>5.0</td>\n",
       "      <td>DepTime</td>\n",
       "      <td>actual departure time (local, hhmm)</td>\n",
       "    </tr>\n",
       "    <tr>\n",
       "      <th>7</th>\n",
       "      <td>6.0</td>\n",
       "      <td>CRSDepTime</td>\n",
       "      <td>scheduled departure time (local, hhmm)</td>\n",
       "    </tr>\n",
       "    <tr>\n",
       "      <th>8</th>\n",
       "      <td>7.0</td>\n",
       "      <td>ArrTime</td>\n",
       "      <td>actual arrival time (local, hhmm)</td>\n",
       "    </tr>\n",
       "    <tr>\n",
       "      <th>9</th>\n",
       "      <td>8.0</td>\n",
       "      <td>CRSArrTime</td>\n",
       "      <td>scheduled arrival time (local, hhmm)</td>\n",
       "    </tr>\n",
       "    <tr>\n",
       "      <th>10</th>\n",
       "      <td>9.0</td>\n",
       "      <td>UniqueCarrier</td>\n",
       "      <td>unique carrier code</td>\n",
       "    </tr>\n",
       "    <tr>\n",
       "      <th>11</th>\n",
       "      <td>10.0</td>\n",
       "      <td>FlightNum</td>\n",
       "      <td>flight number</td>\n",
       "    </tr>\n",
       "    <tr>\n",
       "      <th>12</th>\n",
       "      <td>11.0</td>\n",
       "      <td>TailNum</td>\n",
       "      <td>plane tail number</td>\n",
       "    </tr>\n",
       "    <tr>\n",
       "      <th>13</th>\n",
       "      <td>12.0</td>\n",
       "      <td>ActualElapsedTime</td>\n",
       "      <td>in minutes</td>\n",
       "    </tr>\n",
       "    <tr>\n",
       "      <th>14</th>\n",
       "      <td>13.0</td>\n",
       "      <td>CRSElapsedTime</td>\n",
       "      <td>in minutes</td>\n",
       "    </tr>\n",
       "    <tr>\n",
       "      <th>15</th>\n",
       "      <td>14.0</td>\n",
       "      <td>AirTime</td>\n",
       "      <td>in minutes</td>\n",
       "    </tr>\n",
       "    <tr>\n",
       "      <th>16</th>\n",
       "      <td>15.0</td>\n",
       "      <td>ArrDelay</td>\n",
       "      <td>arrival delay, in minutes</td>\n",
       "    </tr>\n",
       "    <tr>\n",
       "      <th>17</th>\n",
       "      <td>16.0</td>\n",
       "      <td>DepDelay</td>\n",
       "      <td>departure delay, in minutes</td>\n",
       "    </tr>\n",
       "    <tr>\n",
       "      <th>18</th>\n",
       "      <td>17.0</td>\n",
       "      <td>Origin</td>\n",
       "      <td>origin IATA airport code</td>\n",
       "    </tr>\n",
       "    <tr>\n",
       "      <th>19</th>\n",
       "      <td>18.0</td>\n",
       "      <td>Dest</td>\n",
       "      <td>destination IATA airport code</td>\n",
       "    </tr>\n",
       "    <tr>\n",
       "      <th>20</th>\n",
       "      <td>19.0</td>\n",
       "      <td>Distance</td>\n",
       "      <td>in miles</td>\n",
       "    </tr>\n",
       "    <tr>\n",
       "      <th>21</th>\n",
       "      <td>20.0</td>\n",
       "      <td>TaxiIn</td>\n",
       "      <td>taxi in time, in minutes</td>\n",
       "    </tr>\n",
       "    <tr>\n",
       "      <th>22</th>\n",
       "      <td>21.0</td>\n",
       "      <td>TaxiOut</td>\n",
       "      <td>taxi out time in minutes</td>\n",
       "    </tr>\n",
       "    <tr>\n",
       "      <th>23</th>\n",
       "      <td>22.0</td>\n",
       "      <td>Cancelled</td>\n",
       "      <td>was the flight cancelled?</td>\n",
       "    </tr>\n",
       "    <tr>\n",
       "      <th>24</th>\n",
       "      <td>23.0</td>\n",
       "      <td>CancellationCode</td>\n",
       "      <td>reason for cancellation (A = carrier, B = weat...</td>\n",
       "    </tr>\n",
       "    <tr>\n",
       "      <th>25</th>\n",
       "      <td>24.0</td>\n",
       "      <td>Diverted</td>\n",
       "      <td>1 = yes, 0 = no</td>\n",
       "    </tr>\n",
       "    <tr>\n",
       "      <th>26</th>\n",
       "      <td>25.0</td>\n",
       "      <td>CarrierDelay</td>\n",
       "      <td>in minutes</td>\n",
       "    </tr>\n",
       "    <tr>\n",
       "      <th>27</th>\n",
       "      <td>26.0</td>\n",
       "      <td>WeatherDelay</td>\n",
       "      <td>in minutes</td>\n",
       "    </tr>\n",
       "    <tr>\n",
       "      <th>28</th>\n",
       "      <td>27.0</td>\n",
       "      <td>NASDelay</td>\n",
       "      <td>in minutes</td>\n",
       "    </tr>\n",
       "    <tr>\n",
       "      <th>29</th>\n",
       "      <td>28.0</td>\n",
       "      <td>SecurityDelay</td>\n",
       "      <td>in minutes</td>\n",
       "    </tr>\n",
       "    <tr>\n",
       "      <th>30</th>\n",
       "      <td>29.0</td>\n",
       "      <td>LateAircraftDelay</td>\n",
       "      <td>in minutes</td>\n",
       "    </tr>\n",
       "  </tbody>\n",
       "</table>\n",
       "</div>"
      ],
      "text/plain": [
       "    Variable descriptions         Unnamed: 1  \\\n",
       "0                     NaN                NaN   \n",
       "1                     NaN               Name   \n",
       "2                     1.0               Year   \n",
       "3                     2.0              Month   \n",
       "4                     3.0         DayofMonth   \n",
       "5                     4.0          DayOfWeek   \n",
       "6                     5.0            DepTime   \n",
       "7                     6.0         CRSDepTime   \n",
       "8                     7.0            ArrTime   \n",
       "9                     8.0         CRSArrTime   \n",
       "10                    9.0      UniqueCarrier   \n",
       "11                   10.0          FlightNum   \n",
       "12                   11.0            TailNum   \n",
       "13                   12.0  ActualElapsedTime   \n",
       "14                   13.0     CRSElapsedTime   \n",
       "15                   14.0            AirTime   \n",
       "16                   15.0           ArrDelay   \n",
       "17                   16.0           DepDelay   \n",
       "18                   17.0             Origin   \n",
       "19                   18.0               Dest   \n",
       "20                   19.0           Distance   \n",
       "21                   20.0             TaxiIn   \n",
       "22                   21.0            TaxiOut   \n",
       "23                   22.0          Cancelled   \n",
       "24                   23.0   CancellationCode   \n",
       "25                   24.0           Diverted   \n",
       "26                   25.0       CarrierDelay   \n",
       "27                   26.0       WeatherDelay   \n",
       "28                   27.0           NASDelay   \n",
       "29                   28.0      SecurityDelay   \n",
       "30                   29.0  LateAircraftDelay   \n",
       "\n",
       "                                           Unnamed: 2  \n",
       "0                                                 NaN  \n",
       "1                                         Description  \n",
       "2                                           1987-2008  \n",
       "3                                              12-Jan  \n",
       "4                                              31-Jan  \n",
       "5                             1 (Monday) - 7 (Sunday)  \n",
       "6                 actual departure time (local, hhmm)  \n",
       "7              scheduled departure time (local, hhmm)  \n",
       "8                   actual arrival time (local, hhmm)  \n",
       "9                scheduled arrival time (local, hhmm)  \n",
       "10                                unique carrier code  \n",
       "11                                      flight number  \n",
       "12                                  plane tail number  \n",
       "13                                         in minutes  \n",
       "14                                         in minutes  \n",
       "15                                         in minutes  \n",
       "16                          arrival delay, in minutes  \n",
       "17                        departure delay, in minutes  \n",
       "18                           origin IATA airport code  \n",
       "19                      destination IATA airport code  \n",
       "20                                           in miles  \n",
       "21                           taxi in time, in minutes  \n",
       "22                           taxi out time in minutes  \n",
       "23                          was the flight cancelled?  \n",
       "24  reason for cancellation (A = carrier, B = weat...  \n",
       "25                                    1 = yes, 0 = no  \n",
       "26                                         in minutes  \n",
       "27                                         in minutes  \n",
       "28                                         in minutes  \n",
       "29                                         in minutes  \n",
       "30                                         in minutes  "
      ]
     },
     "execution_count": 19,
     "metadata": {},
     "output_type": "execute_result"
    }
   ],
   "source": [
    "df_var_descript"
   ]
  },
  {
   "cell_type": "markdown",
   "metadata": {},
   "source": [
    "I need to expand column width in order to read all the cancellation reasons."
   ]
  },
  {
   "cell_type": "code",
   "execution_count": 20,
   "metadata": {},
   "outputs": [
    {
     "name": "stderr",
     "output_type": "stream",
     "text": [
      "<ipython-input-20-0891b765a168>:1: FutureWarning: Passing a negative integer is deprecated in version 1.0 and will not be supported in future version. Instead, use None to not limit the column width.\n",
      "  pd.set_option('display.max_colwidth', -1)\n"
     ]
    }
   ],
   "source": [
    "pd.set_option('display.max_colwidth', -1)"
   ]
  },
  {
   "cell_type": "code",
   "execution_count": 21,
   "metadata": {},
   "outputs": [
    {
     "data": {
      "text/html": [
       "<div>\n",
       "<style scoped>\n",
       "    .dataframe tbody tr th:only-of-type {\n",
       "        vertical-align: middle;\n",
       "    }\n",
       "\n",
       "    .dataframe tbody tr th {\n",
       "        vertical-align: top;\n",
       "    }\n",
       "\n",
       "    .dataframe thead th {\n",
       "        text-align: right;\n",
       "    }\n",
       "</style>\n",
       "<table border=\"1\" class=\"dataframe\">\n",
       "  <thead>\n",
       "    <tr style=\"text-align: right;\">\n",
       "      <th></th>\n",
       "      <th>Variable descriptions</th>\n",
       "      <th>Unnamed: 1</th>\n",
       "      <th>Unnamed: 2</th>\n",
       "    </tr>\n",
       "  </thead>\n",
       "  <tbody>\n",
       "    <tr>\n",
       "      <th>0</th>\n",
       "      <td>NaN</td>\n",
       "      <td>NaN</td>\n",
       "      <td>NaN</td>\n",
       "    </tr>\n",
       "    <tr>\n",
       "      <th>1</th>\n",
       "      <td>NaN</td>\n",
       "      <td>Name</td>\n",
       "      <td>Description</td>\n",
       "    </tr>\n",
       "    <tr>\n",
       "      <th>2</th>\n",
       "      <td>1.0</td>\n",
       "      <td>Year</td>\n",
       "      <td>1987-2008</td>\n",
       "    </tr>\n",
       "    <tr>\n",
       "      <th>3</th>\n",
       "      <td>2.0</td>\n",
       "      <td>Month</td>\n",
       "      <td>12-Jan</td>\n",
       "    </tr>\n",
       "    <tr>\n",
       "      <th>4</th>\n",
       "      <td>3.0</td>\n",
       "      <td>DayofMonth</td>\n",
       "      <td>31-Jan</td>\n",
       "    </tr>\n",
       "    <tr>\n",
       "      <th>5</th>\n",
       "      <td>4.0</td>\n",
       "      <td>DayOfWeek</td>\n",
       "      <td>1 (Monday) - 7 (Sunday)</td>\n",
       "    </tr>\n",
       "    <tr>\n",
       "      <th>6</th>\n",
       "      <td>5.0</td>\n",
       "      <td>DepTime</td>\n",
       "      <td>actual departure time (local, hhmm)</td>\n",
       "    </tr>\n",
       "    <tr>\n",
       "      <th>7</th>\n",
       "      <td>6.0</td>\n",
       "      <td>CRSDepTime</td>\n",
       "      <td>scheduled departure time (local, hhmm)</td>\n",
       "    </tr>\n",
       "    <tr>\n",
       "      <th>8</th>\n",
       "      <td>7.0</td>\n",
       "      <td>ArrTime</td>\n",
       "      <td>actual arrival time (local, hhmm)</td>\n",
       "    </tr>\n",
       "    <tr>\n",
       "      <th>9</th>\n",
       "      <td>8.0</td>\n",
       "      <td>CRSArrTime</td>\n",
       "      <td>scheduled arrival time (local, hhmm)</td>\n",
       "    </tr>\n",
       "    <tr>\n",
       "      <th>10</th>\n",
       "      <td>9.0</td>\n",
       "      <td>UniqueCarrier</td>\n",
       "      <td>unique carrier code</td>\n",
       "    </tr>\n",
       "    <tr>\n",
       "      <th>11</th>\n",
       "      <td>10.0</td>\n",
       "      <td>FlightNum</td>\n",
       "      <td>flight number</td>\n",
       "    </tr>\n",
       "    <tr>\n",
       "      <th>12</th>\n",
       "      <td>11.0</td>\n",
       "      <td>TailNum</td>\n",
       "      <td>plane tail number</td>\n",
       "    </tr>\n",
       "    <tr>\n",
       "      <th>13</th>\n",
       "      <td>12.0</td>\n",
       "      <td>ActualElapsedTime</td>\n",
       "      <td>in minutes</td>\n",
       "    </tr>\n",
       "    <tr>\n",
       "      <th>14</th>\n",
       "      <td>13.0</td>\n",
       "      <td>CRSElapsedTime</td>\n",
       "      <td>in minutes</td>\n",
       "    </tr>\n",
       "    <tr>\n",
       "      <th>15</th>\n",
       "      <td>14.0</td>\n",
       "      <td>AirTime</td>\n",
       "      <td>in minutes</td>\n",
       "    </tr>\n",
       "    <tr>\n",
       "      <th>16</th>\n",
       "      <td>15.0</td>\n",
       "      <td>ArrDelay</td>\n",
       "      <td>arrival delay, in minutes</td>\n",
       "    </tr>\n",
       "    <tr>\n",
       "      <th>17</th>\n",
       "      <td>16.0</td>\n",
       "      <td>DepDelay</td>\n",
       "      <td>departure delay, in minutes</td>\n",
       "    </tr>\n",
       "    <tr>\n",
       "      <th>18</th>\n",
       "      <td>17.0</td>\n",
       "      <td>Origin</td>\n",
       "      <td>origin IATA airport code</td>\n",
       "    </tr>\n",
       "    <tr>\n",
       "      <th>19</th>\n",
       "      <td>18.0</td>\n",
       "      <td>Dest</td>\n",
       "      <td>destination IATA airport code</td>\n",
       "    </tr>\n",
       "    <tr>\n",
       "      <th>20</th>\n",
       "      <td>19.0</td>\n",
       "      <td>Distance</td>\n",
       "      <td>in miles</td>\n",
       "    </tr>\n",
       "    <tr>\n",
       "      <th>21</th>\n",
       "      <td>20.0</td>\n",
       "      <td>TaxiIn</td>\n",
       "      <td>taxi in time, in minutes</td>\n",
       "    </tr>\n",
       "    <tr>\n",
       "      <th>22</th>\n",
       "      <td>21.0</td>\n",
       "      <td>TaxiOut</td>\n",
       "      <td>taxi out time in minutes</td>\n",
       "    </tr>\n",
       "    <tr>\n",
       "      <th>23</th>\n",
       "      <td>22.0</td>\n",
       "      <td>Cancelled</td>\n",
       "      <td>was the flight cancelled?</td>\n",
       "    </tr>\n",
       "    <tr>\n",
       "      <th>24</th>\n",
       "      <td>23.0</td>\n",
       "      <td>CancellationCode</td>\n",
       "      <td>reason for cancellation (A = carrier, B = weather, C = NAS, D = security)</td>\n",
       "    </tr>\n",
       "    <tr>\n",
       "      <th>25</th>\n",
       "      <td>24.0</td>\n",
       "      <td>Diverted</td>\n",
       "      <td>1 = yes, 0 = no</td>\n",
       "    </tr>\n",
       "    <tr>\n",
       "      <th>26</th>\n",
       "      <td>25.0</td>\n",
       "      <td>CarrierDelay</td>\n",
       "      <td>in minutes</td>\n",
       "    </tr>\n",
       "    <tr>\n",
       "      <th>27</th>\n",
       "      <td>26.0</td>\n",
       "      <td>WeatherDelay</td>\n",
       "      <td>in minutes</td>\n",
       "    </tr>\n",
       "    <tr>\n",
       "      <th>28</th>\n",
       "      <td>27.0</td>\n",
       "      <td>NASDelay</td>\n",
       "      <td>in minutes</td>\n",
       "    </tr>\n",
       "    <tr>\n",
       "      <th>29</th>\n",
       "      <td>28.0</td>\n",
       "      <td>SecurityDelay</td>\n",
       "      <td>in minutes</td>\n",
       "    </tr>\n",
       "    <tr>\n",
       "      <th>30</th>\n",
       "      <td>29.0</td>\n",
       "      <td>LateAircraftDelay</td>\n",
       "      <td>in minutes</td>\n",
       "    </tr>\n",
       "  </tbody>\n",
       "</table>\n",
       "</div>"
      ],
      "text/plain": [
       "    Variable descriptions         Unnamed: 1  \\\n",
       "0  NaN                     NaN                 \n",
       "1  NaN                     Name                \n",
       "2   1.0                    Year                \n",
       "3   2.0                    Month               \n",
       "4   3.0                    DayofMonth          \n",
       "5   4.0                    DayOfWeek           \n",
       "6   5.0                    DepTime             \n",
       "7   6.0                    CRSDepTime          \n",
       "8   7.0                    ArrTime             \n",
       "9   8.0                    CRSArrTime          \n",
       "10  9.0                    UniqueCarrier       \n",
       "11  10.0                   FlightNum           \n",
       "12  11.0                   TailNum             \n",
       "13  12.0                   ActualElapsedTime   \n",
       "14  13.0                   CRSElapsedTime      \n",
       "15  14.0                   AirTime             \n",
       "16  15.0                   ArrDelay            \n",
       "17  16.0                   DepDelay            \n",
       "18  17.0                   Origin              \n",
       "19  18.0                   Dest                \n",
       "20  19.0                   Distance            \n",
       "21  20.0                   TaxiIn              \n",
       "22  21.0                   TaxiOut             \n",
       "23  22.0                   Cancelled           \n",
       "24  23.0                   CancellationCode    \n",
       "25  24.0                   Diverted            \n",
       "26  25.0                   CarrierDelay        \n",
       "27  26.0                   WeatherDelay        \n",
       "28  27.0                   NASDelay            \n",
       "29  28.0                   SecurityDelay       \n",
       "30  29.0                   LateAircraftDelay   \n",
       "\n",
       "                                                                   Unnamed: 2  \n",
       "0   NaN                                                                        \n",
       "1   Description                                                                \n",
       "2   1987-2008                                                                  \n",
       "3   12-Jan                                                                     \n",
       "4   31-Jan                                                                     \n",
       "5   1 (Monday) - 7 (Sunday)                                                    \n",
       "6   actual departure time (local, hhmm)                                        \n",
       "7   scheduled departure time (local, hhmm)                                     \n",
       "8   actual arrival time (local, hhmm)                                          \n",
       "9   scheduled arrival time (local, hhmm)                                       \n",
       "10  unique carrier code                                                        \n",
       "11  flight number                                                              \n",
       "12  plane tail number                                                          \n",
       "13  in minutes                                                                 \n",
       "14  in minutes                                                                 \n",
       "15  in minutes                                                                 \n",
       "16  arrival delay, in minutes                                                  \n",
       "17  departure delay, in minutes                                                \n",
       "18  origin IATA airport code                                                   \n",
       "19  destination IATA airport code                                              \n",
       "20  in miles                                                                   \n",
       "21  taxi in time, in minutes                                                   \n",
       "22  taxi out time in minutes                                                   \n",
       "23  was the flight cancelled?                                                  \n",
       "24  reason for cancellation (A = carrier, B = weather, C = NAS, D = security)  \n",
       "25  1 = yes, 0 = no                                                            \n",
       "26  in minutes                                                                 \n",
       "27  in minutes                                                                 \n",
       "28  in minutes                                                                 \n",
       "29  in minutes                                                                 \n",
       "30  in minutes                                                                 "
      ]
     },
     "execution_count": 21,
     "metadata": {},
     "output_type": "execute_result"
    }
   ],
   "source": [
    "df_var_descript"
   ]
  },
  {
   "cell_type": "markdown",
   "metadata": {},
   "source": [
    "Now we can see the reasons for cancellation. This is certainly interesting information, and could definitely be useful if I wanted to look at different factors related to why flights are cancelled, but in my analysis I will just be focusing on factors related to delayed flights, that were not cancelled, but that actually flew.<br><br>First, I will delete rows where Cancelled = 1, meaning the flights were cancelled.<br><br>Then I will delete these cancellation columns, as well as flight number and tail number."
   ]
  },
  {
   "cell_type": "code",
   "execution_count": 22,
   "metadata": {},
   "outputs": [],
   "source": [
    "# drop rows where values in Cancelled column are 1, meaning flights were canceled.\n",
    "df_1990_clean.drop(df_1990_clean[df_1990_clean.Cancelled == 1].index, inplace=True)"
   ]
  },
  {
   "cell_type": "code",
   "execution_count": 23,
   "metadata": {},
   "outputs": [],
   "source": [
    "df_2005_clean.drop(df_2005_clean[df_2005_clean.Cancelled == 1].index, inplace=True)"
   ]
  },
  {
   "cell_type": "code",
   "execution_count": 24,
   "metadata": {
    "scrolled": true
   },
   "outputs": [
    {
     "data": {
      "text/plain": [
       "0    5218435\n",
       "Name: Cancelled, dtype: int64"
      ]
     },
     "execution_count": 24,
     "metadata": {},
     "output_type": "execute_result"
    }
   ],
   "source": [
    "df_1990_clean.Cancelled.value_counts() # checking this worked"
   ]
  },
  {
   "cell_type": "code",
   "execution_count": 25,
   "metadata": {},
   "outputs": [
    {
     "data": {
      "text/plain": [
       "0    7006855\n",
       "Name: Cancelled, dtype: int64"
      ]
     },
     "execution_count": 25,
     "metadata": {},
     "output_type": "execute_result"
    }
   ],
   "source": [
    "df_2005_clean.Cancelled.value_counts()"
   ]
  },
  {
   "cell_type": "markdown",
   "metadata": {},
   "source": [
    "Great, now I only have flights that were not cancelled left in the dfs. I will now drop the 4 columns I mentioned."
   ]
  },
  {
   "cell_type": "code",
   "execution_count": 26,
   "metadata": {},
   "outputs": [],
   "source": [
    "columns_to_drop = ['FlightNum', 'TailNum', 'Cancelled', 'CancellationCode']\n",
    "df_1990_clean = df_1990_clean.drop(columns_to_drop, axis=1)"
   ]
  },
  {
   "cell_type": "code",
   "execution_count": 27,
   "metadata": {},
   "outputs": [],
   "source": [
    "columns_to_drop = ['FlightNum', 'TailNum', 'Cancelled', 'CancellationCode']\n",
    "df_2005_clean = df_2005_clean.drop(columns_to_drop, axis=1)"
   ]
  },
  {
   "cell_type": "code",
   "execution_count": 28,
   "metadata": {},
   "outputs": [
    {
     "data": {
      "text/plain": [
       "(5218435, 25)"
      ]
     },
     "execution_count": 28,
     "metadata": {},
     "output_type": "execute_result"
    }
   ],
   "source": [
    "df_1990_clean.shape # checking this worked"
   ]
  },
  {
   "cell_type": "code",
   "execution_count": 29,
   "metadata": {},
   "outputs": [
    {
     "data": {
      "text/plain": [
       "(7006855, 25)"
      ]
     },
     "execution_count": 29,
     "metadata": {},
     "output_type": "execute_result"
    }
   ],
   "source": [
    "df_2005_clean.shape"
   ]
  },
  {
   "cell_type": "markdown",
   "metadata": {},
   "source": [
    "Now, I want to have a look at where we have null values in the dfs."
   ]
  },
  {
   "cell_type": "code",
   "execution_count": 30,
   "metadata": {},
   "outputs": [
    {
     "data": {
      "text/plain": [
       "Year                 0      \n",
       "Month                0      \n",
       "DayofMonth           0      \n",
       "DayOfWeek            0      \n",
       "DepTime              0      \n",
       "CRSDepTime           0      \n",
       "ArrTime              15954  \n",
       "CRSArrTime           0      \n",
       "UniqueCarrier        0      \n",
       "ActualElapsedTime    15954  \n",
       "CRSElapsedTime       0      \n",
       "AirTime              5218435\n",
       "ArrDelay             15954  \n",
       "DepDelay             0      \n",
       "Origin               0      \n",
       "Dest                 0      \n",
       "Distance             92293  \n",
       "TaxiIn               5218435\n",
       "TaxiOut              5218435\n",
       "Diverted             0      \n",
       "CarrierDelay         5218435\n",
       "WeatherDelay         5218435\n",
       "NASDelay             5218435\n",
       "SecurityDelay        5218435\n",
       "LateAircraftDelay    5218435\n",
       "dtype: int64"
      ]
     },
     "execution_count": 30,
     "metadata": {},
     "output_type": "execute_result"
    }
   ],
   "source": [
    "df_1990_clean.isna().sum()"
   ]
  },
  {
   "cell_type": "code",
   "execution_count": 31,
   "metadata": {},
   "outputs": [
    {
     "data": {
      "text/plain": [
       "Year                 0    \n",
       "Month                0    \n",
       "DayofMonth           0    \n",
       "DayOfWeek            0    \n",
       "DepTime              0    \n",
       "CRSDepTime           0    \n",
       "ArrTime              14028\n",
       "CRSArrTime           0    \n",
       "UniqueCarrier        0    \n",
       "ActualElapsedTime    14028\n",
       "CRSElapsedTime       0    \n",
       "AirTime              14028\n",
       "ArrDelay             14028\n",
       "DepDelay             0    \n",
       "Origin               0    \n",
       "Dest                 0    \n",
       "Distance             0    \n",
       "TaxiIn               0    \n",
       "TaxiOut              0    \n",
       "Diverted             0    \n",
       "CarrierDelay         0    \n",
       "WeatherDelay         0    \n",
       "NASDelay             0    \n",
       "SecurityDelay        0    \n",
       "LateAircraftDelay    0    \n",
       "dtype: int64"
      ]
     },
     "execution_count": 31,
     "metadata": {},
     "output_type": "execute_result"
    }
   ],
   "source": [
    "df_2005_clean.isna().sum()"
   ]
  },
  {
   "cell_type": "markdown",
   "metadata": {},
   "source": [
    "There are a lot of null values in the 1990 dataset, so we will not be able to compare all variables between the 2 years. I may compare between the 2 years in regards to certain variables, but will work more closely with the 2005 dataset as it is more complete."
   ]
  },
  {
   "cell_type": "code",
   "execution_count": 32,
   "metadata": {},
   "outputs": [
    {
     "data": {
      "text/html": [
       "<div>\n",
       "<style scoped>\n",
       "    .dataframe tbody tr th:only-of-type {\n",
       "        vertical-align: middle;\n",
       "    }\n",
       "\n",
       "    .dataframe tbody tr th {\n",
       "        vertical-align: top;\n",
       "    }\n",
       "\n",
       "    .dataframe thead th {\n",
       "        text-align: right;\n",
       "    }\n",
       "</style>\n",
       "<table border=\"1\" class=\"dataframe\">\n",
       "  <thead>\n",
       "    <tr style=\"text-align: right;\">\n",
       "      <th></th>\n",
       "      <th>ArrDelay</th>\n",
       "      <th>DepDelay</th>\n",
       "    </tr>\n",
       "  </thead>\n",
       "  <tbody>\n",
       "    <tr>\n",
       "      <th>0</th>\n",
       "      <td>-18.0</td>\n",
       "      <td>-2.0</td>\n",
       "    </tr>\n",
       "    <tr>\n",
       "      <th>1</th>\n",
       "      <td>-23.0</td>\n",
       "      <td>-6.0</td>\n",
       "    </tr>\n",
       "    <tr>\n",
       "      <th>2</th>\n",
       "      <td>-24.0</td>\n",
       "      <td>-7.0</td>\n",
       "    </tr>\n",
       "    <tr>\n",
       "      <th>3</th>\n",
       "      <td>-33.0</td>\n",
       "      <td>-9.0</td>\n",
       "    </tr>\n",
       "    <tr>\n",
       "      <th>4</th>\n",
       "      <td>3.0</td>\n",
       "      <td>34.0</td>\n",
       "    </tr>\n",
       "  </tbody>\n",
       "</table>\n",
       "</div>"
      ],
      "text/plain": [
       "   ArrDelay  DepDelay\n",
       "0 -18.0     -2.0     \n",
       "1 -23.0     -6.0     \n",
       "2 -24.0     -7.0     \n",
       "3 -33.0     -9.0     \n",
       "4  3.0       34.0    "
      ]
     },
     "execution_count": 32,
     "metadata": {},
     "output_type": "execute_result"
    }
   ],
   "source": [
    "df_2005_clean[['ArrDelay', 'DepDelay']].head() \n",
    "# in the head we see that there are negative values in both columns for at least some rows"
   ]
  },
  {
   "cell_type": "markdown",
   "metadata": {},
   "source": [
    "In reviewing the link above, I found that negative values in the delays columns mean that these flights actually departed/arrived early, and a 0 in these columns would mean that the flights arrived/departed on time."
   ]
  },
  {
   "cell_type": "markdown",
   "metadata": {},
   "source": [
    "In this analysis, I am only interested in looking at delayed flights, as I will compare factors to see which have an impact on either arrival and/or departure delays. This means that I am not interested in any flights that were not delayed (as I was uninterested in flights that were cancelled).<br><br>I therefore want to delete any rows in which values in both columns (ArrDelay and DepDelay) are <= 0, and create a new df with only rows in which the flights were delayed."
   ]
  },
  {
   "cell_type": "code",
   "execution_count": 33,
   "metadata": {},
   "outputs": [],
   "source": [
    "# I found an intersection function I will use to delete columns in which both the departures/arrivals columns had values <= 0\n",
    "def intersection(lst1, lst2): \n",
    "    lst3 = [value for value in lst1 if value in lst2] \n",
    "    return lst3 \n",
    "\n",
    "arrival_notdelayed = df_2005_clean[df_2005_clean.ArrDelay <= 0].index\n",
    "# find the index of all of the rows in ArrDelay column that are <= 0\n",
    "departure_notdelayed = df_2005_clean[df_2005_clean.DepDelay <= 0].index\n",
    "# find the index of all of the rows in DepDelay column that are <= 0\n",
    "\n",
    "df_2005_clean_delayed = df_2005_clean.drop(intersection(arrival_notdelayed, departure_notdelayed))\n",
    "# I match the ones that have in both the ArrDelay and DepDelay columns values <= 0.\n",
    "# this means that these flights departed and arrived either early, or on time, and neither the arrival nor departure were delayed."
   ]
  },
  {
   "cell_type": "code",
   "execution_count": 34,
   "metadata": {},
   "outputs": [
    {
     "data": {
      "text/html": [
       "<div>\n",
       "<style scoped>\n",
       "    .dataframe tbody tr th:only-of-type {\n",
       "        vertical-align: middle;\n",
       "    }\n",
       "\n",
       "    .dataframe tbody tr th {\n",
       "        vertical-align: top;\n",
       "    }\n",
       "\n",
       "    .dataframe thead th {\n",
       "        text-align: right;\n",
       "    }\n",
       "</style>\n",
       "<table border=\"1\" class=\"dataframe\">\n",
       "  <thead>\n",
       "    <tr style=\"text-align: right;\">\n",
       "      <th></th>\n",
       "      <th>ArrDelay</th>\n",
       "      <th>DepDelay</th>\n",
       "    </tr>\n",
       "  </thead>\n",
       "  <tbody>\n",
       "    <tr>\n",
       "      <th>0</th>\n",
       "      <td>3.0</td>\n",
       "      <td>34.0</td>\n",
       "    </tr>\n",
       "    <tr>\n",
       "      <th>1</th>\n",
       "      <td>97.0</td>\n",
       "      <td>102.0</td>\n",
       "    </tr>\n",
       "    <tr>\n",
       "      <th>2</th>\n",
       "      <td>85.0</td>\n",
       "      <td>106.0</td>\n",
       "    </tr>\n",
       "    <tr>\n",
       "      <th>3</th>\n",
       "      <td>105.0</td>\n",
       "      <td>130.0</td>\n",
       "    </tr>\n",
       "    <tr>\n",
       "      <th>4</th>\n",
       "      <td>12.0</td>\n",
       "      <td>-1.0</td>\n",
       "    </tr>\n",
       "    <tr>\n",
       "      <th>...</th>\n",
       "      <td>...</td>\n",
       "      <td>...</td>\n",
       "    </tr>\n",
       "    <tr>\n",
       "      <th>3601825</th>\n",
       "      <td>3.0</td>\n",
       "      <td>0.0</td>\n",
       "    </tr>\n",
       "    <tr>\n",
       "      <th>3601826</th>\n",
       "      <td>10.0</td>\n",
       "      <td>8.0</td>\n",
       "    </tr>\n",
       "    <tr>\n",
       "      <th>3601827</th>\n",
       "      <td>6.0</td>\n",
       "      <td>-1.0</td>\n",
       "    </tr>\n",
       "    <tr>\n",
       "      <th>3601828</th>\n",
       "      <td>10.0</td>\n",
       "      <td>0.0</td>\n",
       "    </tr>\n",
       "    <tr>\n",
       "      <th>3601829</th>\n",
       "      <td>7.0</td>\n",
       "      <td>1.0</td>\n",
       "    </tr>\n",
       "  </tbody>\n",
       "</table>\n",
       "<p>3601830 rows × 2 columns</p>\n",
       "</div>"
      ],
      "text/plain": [
       "         ArrDelay  DepDelay\n",
       "0        3.0       34.0    \n",
       "1        97.0      102.0   \n",
       "2        85.0      106.0   \n",
       "3        105.0     130.0   \n",
       "4        12.0     -1.0     \n",
       "...       ...      ...     \n",
       "3601825  3.0       0.0     \n",
       "3601826  10.0      8.0     \n",
       "3601827  6.0      -1.0     \n",
       "3601828  10.0      0.0     \n",
       "3601829  7.0       1.0     \n",
       "\n",
       "[3601830 rows x 2 columns]"
      ]
     },
     "execution_count": 34,
     "metadata": {},
     "output_type": "execute_result"
    }
   ],
   "source": [
    "df_2005_clean_delayed[['ArrDelay', 'DepDelay']].reset_index(drop=True)\n",
    "# the first 4 rows in the df_2005_clean had negative values in both columns originally\n",
    "# I can check the new head for these columns to see if there are still negative values\n",
    "# I also want to reset index so that I do not hold on to the old row indexes"
   ]
  },
  {
   "cell_type": "markdown",
   "metadata": {},
   "source": [
    "It looks like this worked! There are still negative values, but it looks like only in 1 of 2 and not both rows. I dropped nearly half the number of rows in the df, and now the dataset should be a bit more manageable to work with."
   ]
  },
  {
   "cell_type": "markdown",
   "metadata": {},
   "source": [
    "I will repeat the exact same process for the 1990 dataset."
   ]
  },
  {
   "cell_type": "code",
   "execution_count": 35,
   "metadata": {},
   "outputs": [
    {
     "data": {
      "text/html": [
       "<div>\n",
       "<style scoped>\n",
       "    .dataframe tbody tr th:only-of-type {\n",
       "        vertical-align: middle;\n",
       "    }\n",
       "\n",
       "    .dataframe tbody tr th {\n",
       "        vertical-align: top;\n",
       "    }\n",
       "\n",
       "    .dataframe thead th {\n",
       "        text-align: right;\n",
       "    }\n",
       "</style>\n",
       "<table border=\"1\" class=\"dataframe\">\n",
       "  <thead>\n",
       "    <tr style=\"text-align: right;\">\n",
       "      <th></th>\n",
       "      <th>ArrDelay</th>\n",
       "      <th>DepDelay</th>\n",
       "    </tr>\n",
       "  </thead>\n",
       "  <tbody>\n",
       "    <tr>\n",
       "      <th>0</th>\n",
       "      <td>32.0</td>\n",
       "      <td>37.0</td>\n",
       "    </tr>\n",
       "    <tr>\n",
       "      <th>1</th>\n",
       "      <td>44.0</td>\n",
       "      <td>36.0</td>\n",
       "    </tr>\n",
       "    <tr>\n",
       "      <th>2</th>\n",
       "      <td>-8.0</td>\n",
       "      <td>-1.0</td>\n",
       "    </tr>\n",
       "    <tr>\n",
       "      <th>3</th>\n",
       "      <td>-5.0</td>\n",
       "      <td>3.0</td>\n",
       "    </tr>\n",
       "    <tr>\n",
       "      <th>4</th>\n",
       "      <td>3.0</td>\n",
       "      <td>0.0</td>\n",
       "    </tr>\n",
       "  </tbody>\n",
       "</table>\n",
       "</div>"
      ],
      "text/plain": [
       "   ArrDelay  DepDelay\n",
       "0  32.0      37.0    \n",
       "1  44.0      36.0    \n",
       "2 -8.0      -1.0     \n",
       "3 -5.0       3.0     \n",
       "4  3.0       0.0     "
      ]
     },
     "execution_count": 35,
     "metadata": {},
     "output_type": "execute_result"
    }
   ],
   "source": [
    "df_1990_clean[['ArrDelay', 'DepDelay']].head() \n",
    "# in the head we see that there are negative values in both columns for at least some rows"
   ]
  },
  {
   "cell_type": "code",
   "execution_count": 36,
   "metadata": {},
   "outputs": [],
   "source": [
    "def intersection(lst1, lst2): \n",
    "    lst3 = [value for value in lst1 if value in lst2] \n",
    "    return lst3 \n",
    "\n",
    "arrival_notdelayed = df_1990_clean[df_1990_clean.ArrDelay <= 0].index\n",
    "departure_notdelayed = df_1990_clean[df_1990_clean.DepDelay <= 0].index\n",
    "\n",
    "df_1990_clean_delayed = df_1990_clean.drop(intersection(arrival_notdelayed, departure_notdelayed))"
   ]
  },
  {
   "cell_type": "code",
   "execution_count": 37,
   "metadata": {},
   "outputs": [
    {
     "data": {
      "text/html": [
       "<div>\n",
       "<style scoped>\n",
       "    .dataframe tbody tr th:only-of-type {\n",
       "        vertical-align: middle;\n",
       "    }\n",
       "\n",
       "    .dataframe tbody tr th {\n",
       "        vertical-align: top;\n",
       "    }\n",
       "\n",
       "    .dataframe thead th {\n",
       "        text-align: right;\n",
       "    }\n",
       "</style>\n",
       "<table border=\"1\" class=\"dataframe\">\n",
       "  <thead>\n",
       "    <tr style=\"text-align: right;\">\n",
       "      <th></th>\n",
       "      <th>ArrDelay</th>\n",
       "      <th>DepDelay</th>\n",
       "    </tr>\n",
       "  </thead>\n",
       "  <tbody>\n",
       "    <tr>\n",
       "      <th>0</th>\n",
       "      <td>32.0</td>\n",
       "      <td>37.0</td>\n",
       "    </tr>\n",
       "    <tr>\n",
       "      <th>1</th>\n",
       "      <td>44.0</td>\n",
       "      <td>36.0</td>\n",
       "    </tr>\n",
       "    <tr>\n",
       "      <th>2</th>\n",
       "      <td>-5.0</td>\n",
       "      <td>3.0</td>\n",
       "    </tr>\n",
       "    <tr>\n",
       "      <th>3</th>\n",
       "      <td>3.0</td>\n",
       "      <td>0.0</td>\n",
       "    </tr>\n",
       "    <tr>\n",
       "      <th>4</th>\n",
       "      <td>55.0</td>\n",
       "      <td>64.0</td>\n",
       "    </tr>\n",
       "    <tr>\n",
       "      <th>...</th>\n",
       "      <td>...</td>\n",
       "      <td>...</td>\n",
       "    </tr>\n",
       "    <tr>\n",
       "      <th>3307375</th>\n",
       "      <td>17.0</td>\n",
       "      <td>23.0</td>\n",
       "    </tr>\n",
       "    <tr>\n",
       "      <th>3307376</th>\n",
       "      <td>13.0</td>\n",
       "      <td>22.0</td>\n",
       "    </tr>\n",
       "    <tr>\n",
       "      <th>3307377</th>\n",
       "      <td>32.0</td>\n",
       "      <td>39.0</td>\n",
       "    </tr>\n",
       "    <tr>\n",
       "      <th>3307378</th>\n",
       "      <td>-1.0</td>\n",
       "      <td>17.0</td>\n",
       "    </tr>\n",
       "    <tr>\n",
       "      <th>3307379</th>\n",
       "      <td>5.0</td>\n",
       "      <td>11.0</td>\n",
       "    </tr>\n",
       "  </tbody>\n",
       "</table>\n",
       "<p>3307380 rows × 2 columns</p>\n",
       "</div>"
      ],
      "text/plain": [
       "         ArrDelay  DepDelay\n",
       "0        32.0      37.0    \n",
       "1        44.0      36.0    \n",
       "2       -5.0       3.0     \n",
       "3        3.0       0.0     \n",
       "4        55.0      64.0    \n",
       "...       ...       ...    \n",
       "3307375  17.0      23.0    \n",
       "3307376  13.0      22.0    \n",
       "3307377  32.0      39.0    \n",
       "3307378 -1.0       17.0    \n",
       "3307379  5.0       11.0    \n",
       "\n",
       "[3307380 rows x 2 columns]"
      ]
     },
     "execution_count": 37,
     "metadata": {},
     "output_type": "execute_result"
    }
   ],
   "source": [
    "df_1990_clean_delayed[['ArrDelay', 'DepDelay']].reset_index(drop=True)"
   ]
  },
  {
   "cell_type": "markdown",
   "metadata": {},
   "source": [
    "It seems there were fewer flights included in the 1990 dataset that were not delayed, and now there is only a difference of 294450 flights between the 2 dfs, instead of more than a million as before."
   ]
  },
  {
   "cell_type": "markdown",
   "metadata": {},
   "source": [
    "I also just want to quickly lowercase all column names and rename certain columns to make them a bit more descriptive, and easier to refer to later on."
   ]
  },
  {
   "cell_type": "code",
   "execution_count": 38,
   "metadata": {},
   "outputs": [],
   "source": [
    "df_1990_clean_delayed.rename(columns=lambda x: x.lower(), inplace=True) \n",
    "# I use a lambda function to make all column names lowercase, in place"
   ]
  },
  {
   "cell_type": "code",
   "execution_count": 39,
   "metadata": {},
   "outputs": [
    {
     "data": {
      "text/plain": [
       "Index(['year', 'month', 'dayofmonth', 'dayofweek', 'deptime', 'crsdeptime',\n",
       "       'arrtime', 'crsarrtime', 'uniquecarrier', 'actualelapsedtime',\n",
       "       'crselapsedtime', 'airtime', 'arrdelay', 'depdelay', 'origin', 'dest',\n",
       "       'distance', 'taxiin', 'taxiout', 'diverted', 'carrierdelay',\n",
       "       'weatherdelay', 'nasdelay', 'securitydelay', 'lateaircraftdelay'],\n",
       "      dtype='object')"
      ]
     },
     "execution_count": 39,
     "metadata": {},
     "output_type": "execute_result"
    }
   ],
   "source": [
    "df_1990_clean_delayed.columns # looks like this worked"
   ]
  },
  {
   "cell_type": "code",
   "execution_count": 40,
   "metadata": {},
   "outputs": [],
   "source": [
    "df_2005_clean_delayed.rename(columns=lambda x: x.lower(), inplace=True) # I'll repeat the process for the other df"
   ]
  },
  {
   "cell_type": "code",
   "execution_count": 41,
   "metadata": {},
   "outputs": [],
   "source": [
    "# now I will rename the columns to make them more descriptive/easier to type and remember\n",
    "df_1990_clean_delayed.rename(columns={'dayofmonth': 'day_of_month', 'dayofweek': 'day_of_week', 'deptime': 'departure_time',\n",
    "                                     'crsdeptime': 'scheduled_dep_time', 'arrtime': 'arrival_time', \n",
    "                                     'crsarrtime': 'scheduled_arr_time', 'uniquecarrier': 'carrier', \n",
    "                                      'actualelapsedtime': 'actual_elapsed_time', 'crselapsedtime': 'scheduled_elapsed_time',\n",
    "                                      'arrdelay': 'arrival_delay', 'depdelay': 'departure_delay', 'dest': 'destination',\n",
    "                                      'taxiin': 'taxi_in', 'taxiout': 'taxi_out', 'carrierdelay': 'carrier_delay',\n",
    "                                      'weatherdelay': 'weather_delay', 'nasdelay': 'nas_delay', 'securitydelay': 'security_delay',\n",
    "                                      'lateaircraftdelay' : 'late_aircraft_delay'}, inplace=True)"
   ]
  },
  {
   "cell_type": "code",
   "execution_count": 42,
   "metadata": {},
   "outputs": [
    {
     "data": {
      "text/plain": [
       "Index(['year', 'month', 'day_of_month', 'day_of_week', 'departure_time',\n",
       "       'scheduled_dep_time', 'arrival_time', 'scheduled_arr_time', 'carrier',\n",
       "       'actual_elapsed_time', 'scheduled_elapsed_time', 'airtime',\n",
       "       'arrival_delay', 'departure_delay', 'origin', 'destination', 'distance',\n",
       "       'taxi_in', 'taxi_out', 'diverted', 'carrier_delay', 'weather_delay',\n",
       "       'nas_delay', 'security_delay', 'late_aircraft_delay'],\n",
       "      dtype='object')"
      ]
     },
     "execution_count": 42,
     "metadata": {},
     "output_type": "execute_result"
    }
   ],
   "source": [
    "df_1990_clean_delayed.columns # this worked"
   ]
  },
  {
   "cell_type": "code",
   "execution_count": 43,
   "metadata": {},
   "outputs": [],
   "source": [
    "# repeating this for the other df\n",
    "df_2005_clean_delayed.rename(columns={'dayofmonth': 'day_of_month', 'dayofweek': 'day_of_week', 'deptime': 'departure_time',\n",
    "                                     'crsdeptime': 'scheduled_dep_time', 'arrtime': 'arrival_time', \n",
    "                                     'crsarrtime': 'scheduled_arr_time', 'uniquecarrier': 'carrier', \n",
    "                                      'actualelapsedtime': 'actual_elapsed_time', 'crselapsedtime': 'scheduled_elapsed_time',\n",
    "                                      'arrdelay': 'arrival_delay', 'depdelay': 'departure_delay', 'dest': 'destination',\n",
    "                                      'taxiin': 'taxi_in', 'taxiout': 'taxi_out', 'carrierdelay': 'carrier_delay',\n",
    "                                      'weatherdelay': 'weather_delay', 'nasdelay': 'nas_delay', 'securitydelay': 'security_delay',\n",
    "                                      'lateaircraftdelay' : 'late_aircraft_delay'}, inplace=True)"
   ]
  },
  {
   "cell_type": "code",
   "execution_count": 44,
   "metadata": {},
   "outputs": [
    {
     "data": {
      "text/html": [
       "<div>\n",
       "<style scoped>\n",
       "    .dataframe tbody tr th:only-of-type {\n",
       "        vertical-align: middle;\n",
       "    }\n",
       "\n",
       "    .dataframe tbody tr th {\n",
       "        vertical-align: top;\n",
       "    }\n",
       "\n",
       "    .dataframe thead th {\n",
       "        text-align: right;\n",
       "    }\n",
       "</style>\n",
       "<table border=\"1\" class=\"dataframe\">\n",
       "  <thead>\n",
       "    <tr style=\"text-align: right;\">\n",
       "      <th></th>\n",
       "      <th>year</th>\n",
       "      <th>month</th>\n",
       "      <th>day_of_month</th>\n",
       "      <th>day_of_week</th>\n",
       "      <th>departure_time</th>\n",
       "      <th>scheduled_dep_time</th>\n",
       "      <th>arrival_time</th>\n",
       "      <th>scheduled_arr_time</th>\n",
       "      <th>carrier</th>\n",
       "      <th>actual_elapsed_time</th>\n",
       "      <th>...</th>\n",
       "      <th>destination</th>\n",
       "      <th>distance</th>\n",
       "      <th>taxi_in</th>\n",
       "      <th>taxi_out</th>\n",
       "      <th>diverted</th>\n",
       "      <th>carrier_delay</th>\n",
       "      <th>weather_delay</th>\n",
       "      <th>nas_delay</th>\n",
       "      <th>security_delay</th>\n",
       "      <th>late_aircraft_delay</th>\n",
       "    </tr>\n",
       "  </thead>\n",
       "  <tbody>\n",
       "    <tr>\n",
       "      <th>4</th>\n",
       "      <td>2005</td>\n",
       "      <td>1</td>\n",
       "      <td>2</td>\n",
       "      <td>7</td>\n",
       "      <td>1934.0</td>\n",
       "      <td>1900</td>\n",
       "      <td>2235.0</td>\n",
       "      <td>2232</td>\n",
       "      <td>UA</td>\n",
       "      <td>121.0</td>\n",
       "      <td>...</td>\n",
       "      <td>BOS</td>\n",
       "      <td>867</td>\n",
       "      <td>5</td>\n",
       "      <td>10</td>\n",
       "      <td>0</td>\n",
       "      <td>0</td>\n",
       "      <td>0</td>\n",
       "      <td>0</td>\n",
       "      <td>0</td>\n",
       "      <td>0</td>\n",
       "    </tr>\n",
       "    <tr>\n",
       "      <th>5</th>\n",
       "      <td>2005</td>\n",
       "      <td>1</td>\n",
       "      <td>3</td>\n",
       "      <td>1</td>\n",
       "      <td>2042.0</td>\n",
       "      <td>1900</td>\n",
       "      <td>9.0</td>\n",
       "      <td>2232</td>\n",
       "      <td>UA</td>\n",
       "      <td>147.0</td>\n",
       "      <td>...</td>\n",
       "      <td>BOS</td>\n",
       "      <td>867</td>\n",
       "      <td>3</td>\n",
       "      <td>47</td>\n",
       "      <td>0</td>\n",
       "      <td>23</td>\n",
       "      <td>0</td>\n",
       "      <td>0</td>\n",
       "      <td>0</td>\n",
       "      <td>74</td>\n",
       "    </tr>\n",
       "    <tr>\n",
       "      <th>6</th>\n",
       "      <td>2005</td>\n",
       "      <td>1</td>\n",
       "      <td>4</td>\n",
       "      <td>2</td>\n",
       "      <td>2046.0</td>\n",
       "      <td>1900</td>\n",
       "      <td>2357.0</td>\n",
       "      <td>2232</td>\n",
       "      <td>UA</td>\n",
       "      <td>131.0</td>\n",
       "      <td>...</td>\n",
       "      <td>BOS</td>\n",
       "      <td>867</td>\n",
       "      <td>5</td>\n",
       "      <td>26</td>\n",
       "      <td>0</td>\n",
       "      <td>46</td>\n",
       "      <td>0</td>\n",
       "      <td>0</td>\n",
       "      <td>0</td>\n",
       "      <td>39</td>\n",
       "    </tr>\n",
       "    <tr>\n",
       "      <th>8</th>\n",
       "      <td>2005</td>\n",
       "      <td>1</td>\n",
       "      <td>6</td>\n",
       "      <td>4</td>\n",
       "      <td>2110.0</td>\n",
       "      <td>1900</td>\n",
       "      <td>8.0</td>\n",
       "      <td>2223</td>\n",
       "      <td>UA</td>\n",
       "      <td>118.0</td>\n",
       "      <td>...</td>\n",
       "      <td>BOS</td>\n",
       "      <td>867</td>\n",
       "      <td>2</td>\n",
       "      <td>15</td>\n",
       "      <td>0</td>\n",
       "      <td>16</td>\n",
       "      <td>0</td>\n",
       "      <td>0</td>\n",
       "      <td>0</td>\n",
       "      <td>89</td>\n",
       "    </tr>\n",
       "    <tr>\n",
       "      <th>9</th>\n",
       "      <td>2005</td>\n",
       "      <td>1</td>\n",
       "      <td>7</td>\n",
       "      <td>5</td>\n",
       "      <td>1859.0</td>\n",
       "      <td>1900</td>\n",
       "      <td>2235.0</td>\n",
       "      <td>2223</td>\n",
       "      <td>UA</td>\n",
       "      <td>156.0</td>\n",
       "      <td>...</td>\n",
       "      <td>BOS</td>\n",
       "      <td>867</td>\n",
       "      <td>4</td>\n",
       "      <td>56</td>\n",
       "      <td>0</td>\n",
       "      <td>0</td>\n",
       "      <td>0</td>\n",
       "      <td>0</td>\n",
       "      <td>0</td>\n",
       "      <td>0</td>\n",
       "    </tr>\n",
       "  </tbody>\n",
       "</table>\n",
       "<p>5 rows × 25 columns</p>\n",
       "</div>"
      ],
      "text/plain": [
       "   year  month  day_of_month  day_of_week  departure_time  scheduled_dep_time  \\\n",
       "4  2005  1      2             7            1934.0          1900                 \n",
       "5  2005  1      3             1            2042.0          1900                 \n",
       "6  2005  1      4             2            2046.0          1900                 \n",
       "8  2005  1      6             4            2110.0          1900                 \n",
       "9  2005  1      7             5            1859.0          1900                 \n",
       "\n",
       "   arrival_time  scheduled_arr_time carrier  actual_elapsed_time  ...  \\\n",
       "4  2235.0        2232                UA      121.0                ...   \n",
       "5  9.0           2232                UA      147.0                ...   \n",
       "6  2357.0        2232                UA      131.0                ...   \n",
       "8  8.0           2223                UA      118.0                ...   \n",
       "9  2235.0        2223                UA      156.0                ...   \n",
       "\n",
       "   destination  distance  taxi_in  taxi_out diverted carrier_delay  \\\n",
       "4  BOS          867       5        10        0        0              \n",
       "5  BOS          867       3        47        0        23             \n",
       "6  BOS          867       5        26        0        46             \n",
       "8  BOS          867       2        15        0        16             \n",
       "9  BOS          867       4        56        0        0              \n",
       "\n",
       "   weather_delay  nas_delay  security_delay  late_aircraft_delay  \n",
       "4  0              0          0               0                    \n",
       "5  0              0          0               74                   \n",
       "6  0              0          0               39                   \n",
       "8  0              0          0               89                   \n",
       "9  0              0          0               0                    \n",
       "\n",
       "[5 rows x 25 columns]"
      ]
     },
     "execution_count": 44,
     "metadata": {},
     "output_type": "execute_result"
    }
   ],
   "source": [
    "df_2005_clean_delayed.head()"
   ]
  },
  {
   "cell_type": "markdown",
   "metadata": {},
   "source": [
    "Great, these columns will now be easier to work with. I am happy with the cleanliness of my data and will more forward to exploration now. I may need to perform some additional cleaning tasks as I move forward."
   ]
  },
  {
   "cell_type": "markdown",
   "metadata": {},
   "source": [
    "### What is the structure of your dataset?<br><br>\n",
    "After cleaning my data, each df has 3307380 (1990) and 3601830 (2005) rows respectively, and 25 columns."
   ]
  },
  {
   "cell_type": "code",
   "execution_count": 45,
   "metadata": {},
   "outputs": [
    {
     "data": {
      "text/plain": [
       "(3307380, 25)"
      ]
     },
     "execution_count": 45,
     "metadata": {},
     "output_type": "execute_result"
    }
   ],
   "source": [
    "df_1990_clean_delayed.shape"
   ]
  },
  {
   "cell_type": "code",
   "execution_count": 46,
   "metadata": {
    "scrolled": true
   },
   "outputs": [
    {
     "data": {
      "text/plain": [
       "(3601830, 25)"
      ]
     },
     "execution_count": 46,
     "metadata": {},
     "output_type": "execute_result"
    }
   ],
   "source": [
    "df_2005_clean_delayed.shape"
   ]
  },
  {
   "cell_type": "markdown",
   "metadata": {},
   "source": [
    "The descriptions of the columns are as follows:<br><br>\n",
    "\n",
    "1. year: year of data in df\n",
    "2. month: month of data in df (1-12)\n",
    "3. day_month: date of month (31 for the 31st of x month)\n",
    "4. day_of_week: day of week (1-7, Monday-Sunday)\n",
    "5. departure_time: actual time of departure (all times: local, hhmm)\n",
    "6. scheduled_dep_time: scheduled time of departure\n",
    "7. arrival_time: actual arrival time\n",
    "8. scheduled_arr_time: scheduled arrival time\n",
    "9. carrier: airline code\n",
    "10. actual_elapsed_time: actual duration of flight (all in minutes)\n",
    "11. scheduled_elapsed_time: scheduled flight duration\n",
    "12. airtime: time in the air\n",
    "13. arrival_delay: delay in arrival\n",
    "14. departure_delay: delay in departure\n",
    "15. origin: departure airport\n",
    "16. destination: destination airport\n",
    "17. distance: distance of flight (in miles)\n",
    "18. taxi_in: taxi in time (minutes)\n",
    "19. taxi_out: taxi out time\n",
    "20. diverted: 0 if flight was not diverted, 1 if flight was diverted\n",
    "21. carrier_delay: delay due to carrier (minutes)\n",
    "22. weather_delay: delay due to weather\n",
    "23. nas_delay: delay due to National Aviation System (NAS)\n",
    "24. security_delay: delay due to security issue\n",
    "25. late_aircraft_delay: delay due to late aircraft"
   ]
  },
  {
   "cell_type": "markdown",
   "metadata": {},
   "source": [
    "### What is/are the main feature(s) of interest in your dataset?\n",
    "\n",
    "> The main feature of interest in my dataset is flight delays. In this data analysis, I will explore what factors seemed to contribute towards delayed flights in 2005.\n",
    "\n",
    "### What features in the dataset do you think will help support your investigation into your feature(s) of interest?\n",
    "\n",
    "> I think that flights that were diverted will likely cause some long arrival delays, and I think that weather will be a big contributor towards departure delays as well. I imagine there could also be longer delays on days like a Friday, as many people would like to fly on this day, and also more delays in December and in the summer, than in the rest of the year, as that is another high traffic time for flights."
   ]
  },
  {
   "cell_type": "markdown",
   "metadata": {},
   "source": [
    "## Univariate Exploration"
   ]
  },
  {
   "cell_type": "markdown",
   "metadata": {},
   "source": [
    "I first want to look at arrival and departure delays separately to see how they compare for the 2005 dataset."
   ]
  },
  {
   "cell_type": "code",
   "execution_count": 47,
   "metadata": {},
   "outputs": [
    {
     "data": {
      "text/html": [
       "<div>\n",
       "<style scoped>\n",
       "    .dataframe tbody tr th:only-of-type {\n",
       "        vertical-align: middle;\n",
       "    }\n",
       "\n",
       "    .dataframe tbody tr th {\n",
       "        vertical-align: top;\n",
       "    }\n",
       "\n",
       "    .dataframe thead th {\n",
       "        text-align: right;\n",
       "    }\n",
       "</style>\n",
       "<table border=\"1\" class=\"dataframe\">\n",
       "  <thead>\n",
       "    <tr style=\"text-align: right;\">\n",
       "      <th></th>\n",
       "      <th>year</th>\n",
       "      <th>month</th>\n",
       "      <th>day_of_month</th>\n",
       "      <th>day_of_week</th>\n",
       "      <th>departure_time</th>\n",
       "      <th>scheduled_dep_time</th>\n",
       "      <th>arrival_time</th>\n",
       "      <th>scheduled_arr_time</th>\n",
       "      <th>carrier</th>\n",
       "      <th>actual_elapsed_time</th>\n",
       "      <th>...</th>\n",
       "      <th>destination</th>\n",
       "      <th>distance</th>\n",
       "      <th>taxi_in</th>\n",
       "      <th>taxi_out</th>\n",
       "      <th>diverted</th>\n",
       "      <th>carrier_delay</th>\n",
       "      <th>weather_delay</th>\n",
       "      <th>nas_delay</th>\n",
       "      <th>security_delay</th>\n",
       "      <th>late_aircraft_delay</th>\n",
       "    </tr>\n",
       "  </thead>\n",
       "  <tbody>\n",
       "    <tr>\n",
       "      <th>4</th>\n",
       "      <td>2005</td>\n",
       "      <td>1</td>\n",
       "      <td>2</td>\n",
       "      <td>7</td>\n",
       "      <td>1934.0</td>\n",
       "      <td>1900</td>\n",
       "      <td>2235.0</td>\n",
       "      <td>2232</td>\n",
       "      <td>UA</td>\n",
       "      <td>121.0</td>\n",
       "      <td>...</td>\n",
       "      <td>BOS</td>\n",
       "      <td>867</td>\n",
       "      <td>5</td>\n",
       "      <td>10</td>\n",
       "      <td>0</td>\n",
       "      <td>0</td>\n",
       "      <td>0</td>\n",
       "      <td>0</td>\n",
       "      <td>0</td>\n",
       "      <td>0</td>\n",
       "    </tr>\n",
       "    <tr>\n",
       "      <th>5</th>\n",
       "      <td>2005</td>\n",
       "      <td>1</td>\n",
       "      <td>3</td>\n",
       "      <td>1</td>\n",
       "      <td>2042.0</td>\n",
       "      <td>1900</td>\n",
       "      <td>9.0</td>\n",
       "      <td>2232</td>\n",
       "      <td>UA</td>\n",
       "      <td>147.0</td>\n",
       "      <td>...</td>\n",
       "      <td>BOS</td>\n",
       "      <td>867</td>\n",
       "      <td>3</td>\n",
       "      <td>47</td>\n",
       "      <td>0</td>\n",
       "      <td>23</td>\n",
       "      <td>0</td>\n",
       "      <td>0</td>\n",
       "      <td>0</td>\n",
       "      <td>74</td>\n",
       "    </tr>\n",
       "    <tr>\n",
       "      <th>6</th>\n",
       "      <td>2005</td>\n",
       "      <td>1</td>\n",
       "      <td>4</td>\n",
       "      <td>2</td>\n",
       "      <td>2046.0</td>\n",
       "      <td>1900</td>\n",
       "      <td>2357.0</td>\n",
       "      <td>2232</td>\n",
       "      <td>UA</td>\n",
       "      <td>131.0</td>\n",
       "      <td>...</td>\n",
       "      <td>BOS</td>\n",
       "      <td>867</td>\n",
       "      <td>5</td>\n",
       "      <td>26</td>\n",
       "      <td>0</td>\n",
       "      <td>46</td>\n",
       "      <td>0</td>\n",
       "      <td>0</td>\n",
       "      <td>0</td>\n",
       "      <td>39</td>\n",
       "    </tr>\n",
       "    <tr>\n",
       "      <th>8</th>\n",
       "      <td>2005</td>\n",
       "      <td>1</td>\n",
       "      <td>6</td>\n",
       "      <td>4</td>\n",
       "      <td>2110.0</td>\n",
       "      <td>1900</td>\n",
       "      <td>8.0</td>\n",
       "      <td>2223</td>\n",
       "      <td>UA</td>\n",
       "      <td>118.0</td>\n",
       "      <td>...</td>\n",
       "      <td>BOS</td>\n",
       "      <td>867</td>\n",
       "      <td>2</td>\n",
       "      <td>15</td>\n",
       "      <td>0</td>\n",
       "      <td>16</td>\n",
       "      <td>0</td>\n",
       "      <td>0</td>\n",
       "      <td>0</td>\n",
       "      <td>89</td>\n",
       "    </tr>\n",
       "    <tr>\n",
       "      <th>9</th>\n",
       "      <td>2005</td>\n",
       "      <td>1</td>\n",
       "      <td>7</td>\n",
       "      <td>5</td>\n",
       "      <td>1859.0</td>\n",
       "      <td>1900</td>\n",
       "      <td>2235.0</td>\n",
       "      <td>2223</td>\n",
       "      <td>UA</td>\n",
       "      <td>156.0</td>\n",
       "      <td>...</td>\n",
       "      <td>BOS</td>\n",
       "      <td>867</td>\n",
       "      <td>4</td>\n",
       "      <td>56</td>\n",
       "      <td>0</td>\n",
       "      <td>0</td>\n",
       "      <td>0</td>\n",
       "      <td>0</td>\n",
       "      <td>0</td>\n",
       "      <td>0</td>\n",
       "    </tr>\n",
       "    <tr>\n",
       "      <th>...</th>\n",
       "      <td>...</td>\n",
       "      <td>...</td>\n",
       "      <td>...</td>\n",
       "      <td>...</td>\n",
       "      <td>...</td>\n",
       "      <td>...</td>\n",
       "      <td>...</td>\n",
       "      <td>...</td>\n",
       "      <td>...</td>\n",
       "      <td>...</td>\n",
       "      <td>...</td>\n",
       "      <td>...</td>\n",
       "      <td>...</td>\n",
       "      <td>...</td>\n",
       "      <td>...</td>\n",
       "      <td>...</td>\n",
       "      <td>...</td>\n",
       "      <td>...</td>\n",
       "      <td>...</td>\n",
       "      <td>...</td>\n",
       "      <td>...</td>\n",
       "    </tr>\n",
       "    <tr>\n",
       "      <th>7140585</th>\n",
       "      <td>2005</td>\n",
       "      <td>12</td>\n",
       "      <td>22</td>\n",
       "      <td>4</td>\n",
       "      <td>1805.0</td>\n",
       "      <td>1805</td>\n",
       "      <td>1913.0</td>\n",
       "      <td>1910</td>\n",
       "      <td>DL</td>\n",
       "      <td>68.0</td>\n",
       "      <td>...</td>\n",
       "      <td>ATL</td>\n",
       "      <td>223</td>\n",
       "      <td>11</td>\n",
       "      <td>8</td>\n",
       "      <td>0</td>\n",
       "      <td>0</td>\n",
       "      <td>0</td>\n",
       "      <td>0</td>\n",
       "      <td>0</td>\n",
       "      <td>0</td>\n",
       "    </tr>\n",
       "    <tr>\n",
       "      <th>7140586</th>\n",
       "      <td>2005</td>\n",
       "      <td>12</td>\n",
       "      <td>22</td>\n",
       "      <td>4</td>\n",
       "      <td>2207.0</td>\n",
       "      <td>2159</td>\n",
       "      <td>2343.0</td>\n",
       "      <td>2333</td>\n",
       "      <td>DL</td>\n",
       "      <td>96.0</td>\n",
       "      <td>...</td>\n",
       "      <td>DAY</td>\n",
       "      <td>432</td>\n",
       "      <td>5</td>\n",
       "      <td>23</td>\n",
       "      <td>0</td>\n",
       "      <td>0</td>\n",
       "      <td>0</td>\n",
       "      <td>0</td>\n",
       "      <td>0</td>\n",
       "      <td>0</td>\n",
       "    </tr>\n",
       "    <tr>\n",
       "      <th>7140587</th>\n",
       "      <td>2005</td>\n",
       "      <td>12</td>\n",
       "      <td>22</td>\n",
       "      <td>4</td>\n",
       "      <td>758.0</td>\n",
       "      <td>759</td>\n",
       "      <td>1247.0</td>\n",
       "      <td>1241</td>\n",
       "      <td>DL</td>\n",
       "      <td>169.0</td>\n",
       "      <td>...</td>\n",
       "      <td>ATL</td>\n",
       "      <td>1199</td>\n",
       "      <td>6</td>\n",
       "      <td>14</td>\n",
       "      <td>0</td>\n",
       "      <td>0</td>\n",
       "      <td>0</td>\n",
       "      <td>0</td>\n",
       "      <td>0</td>\n",
       "      <td>0</td>\n",
       "    </tr>\n",
       "    <tr>\n",
       "      <th>7140592</th>\n",
       "      <td>2005</td>\n",
       "      <td>12</td>\n",
       "      <td>22</td>\n",
       "      <td>4</td>\n",
       "      <td>1825.0</td>\n",
       "      <td>1825</td>\n",
       "      <td>1858.0</td>\n",
       "      <td>1848</td>\n",
       "      <td>DL</td>\n",
       "      <td>93.0</td>\n",
       "      <td>...</td>\n",
       "      <td>MEM</td>\n",
       "      <td>332</td>\n",
       "      <td>7</td>\n",
       "      <td>32</td>\n",
       "      <td>0</td>\n",
       "      <td>0</td>\n",
       "      <td>0</td>\n",
       "      <td>0</td>\n",
       "      <td>0</td>\n",
       "      <td>0</td>\n",
       "    </tr>\n",
       "    <tr>\n",
       "      <th>7140595</th>\n",
       "      <td>2005</td>\n",
       "      <td>12</td>\n",
       "      <td>22</td>\n",
       "      <td>4</td>\n",
       "      <td>1345.0</td>\n",
       "      <td>1344</td>\n",
       "      <td>1621.0</td>\n",
       "      <td>1614</td>\n",
       "      <td>DL</td>\n",
       "      <td>216.0</td>\n",
       "      <td>...</td>\n",
       "      <td>SLC</td>\n",
       "      <td>1249</td>\n",
       "      <td>6</td>\n",
       "      <td>27</td>\n",
       "      <td>0</td>\n",
       "      <td>0</td>\n",
       "      <td>0</td>\n",
       "      <td>0</td>\n",
       "      <td>0</td>\n",
       "      <td>0</td>\n",
       "    </tr>\n",
       "  </tbody>\n",
       "</table>\n",
       "<p>3601830 rows × 25 columns</p>\n",
       "</div>"
      ],
      "text/plain": [
       "         year  month  day_of_month  day_of_week  departure_time  \\\n",
       "4        2005  1      2             7            1934.0           \n",
       "5        2005  1      3             1            2042.0           \n",
       "6        2005  1      4             2            2046.0           \n",
       "8        2005  1      6             4            2110.0           \n",
       "9        2005  1      7             5            1859.0           \n",
       "...       ... ..     ..            ..               ...           \n",
       "7140585  2005  12     22            4            1805.0           \n",
       "7140586  2005  12     22            4            2207.0           \n",
       "7140587  2005  12     22            4            758.0            \n",
       "7140592  2005  12     22            4            1825.0           \n",
       "7140595  2005  12     22            4            1345.0           \n",
       "\n",
       "         scheduled_dep_time  arrival_time  scheduled_arr_time carrier  \\\n",
       "4        1900                2235.0        2232                UA       \n",
       "5        1900                9.0           2232                UA       \n",
       "6        1900                2357.0        2232                UA       \n",
       "8        1900                8.0           2223                UA       \n",
       "9        1900                2235.0        2223                UA       \n",
       "...       ...                   ...         ...                ..       \n",
       "7140585  1805                1913.0        1910                DL       \n",
       "7140586  2159                2343.0        2333                DL       \n",
       "7140587  759                 1247.0        1241                DL       \n",
       "7140592  1825                1858.0        1848                DL       \n",
       "7140595  1344                1621.0        1614                DL       \n",
       "\n",
       "         actual_elapsed_time  ...  destination  distance  taxi_in  taxi_out  \\\n",
       "4        121.0                ...  BOS          867       5        10         \n",
       "5        147.0                ...  BOS          867       3        47         \n",
       "6        131.0                ...  BOS          867       5        26         \n",
       "8        118.0                ...  BOS          867       2        15         \n",
       "9        156.0                ...  BOS          867       4        56         \n",
       "...        ...                ...  ...          ...      ..        ..         \n",
       "7140585  68.0                 ...  ATL          223       11       8          \n",
       "7140586  96.0                 ...  DAY          432       5        23         \n",
       "7140587  169.0                ...  ATL          1199      6        14         \n",
       "7140592  93.0                 ...  MEM          332       7        32         \n",
       "7140595  216.0                ...  SLC          1249      6        27         \n",
       "\n",
       "        diverted carrier_delay  weather_delay  nas_delay  security_delay  \\\n",
       "4        0        0             0              0          0                \n",
       "5        0        23            0              0          0                \n",
       "6        0        46            0              0          0                \n",
       "8        0        16            0              0          0                \n",
       "9        0        0             0              0          0                \n",
       "...     ..       ..            ..             ..         ..                \n",
       "7140585  0        0             0              0          0                \n",
       "7140586  0        0             0              0          0                \n",
       "7140587  0        0             0              0          0                \n",
       "7140592  0        0             0              0          0                \n",
       "7140595  0        0             0              0          0                \n",
       "\n",
       "         late_aircraft_delay  \n",
       "4        0                    \n",
       "5        74                   \n",
       "6        39                   \n",
       "8        89                   \n",
       "9        0                    \n",
       "...     ..                    \n",
       "7140585  0                    \n",
       "7140586  0                    \n",
       "7140587  0                    \n",
       "7140592  0                    \n",
       "7140595  0                    \n",
       "\n",
       "[3601830 rows x 25 columns]"
      ]
     },
     "execution_count": 47,
     "metadata": {},
     "output_type": "execute_result"
    }
   ],
   "source": [
    "df_2005_clean_delayed_arrival = df_2005_clean_delayed[df_2005_clean_delayed['arrival_delay'] > 0]\n",
    "df_2005_clean_delayed_departure = df_2005_clean_delayed[df_2005_clean_delayed['departure_delay'] > 0]\n",
    "# this will give me 2 new dfs: 1 with flights that had arrival delays, and 1 only with flights that had departure delays.\n",
    "# many of flights will likely exist in both dfs.\n",
    "\n",
    "df_2005_clean_delayed_arrival.reset_index(drop=True, inplace=True) # reset indexes for new dfs\n",
    "df_2005_clean_delayed_departure.reset_index(drop=True, inplace=True)"
   ]
  },
  {
   "cell_type": "markdown",
   "metadata": {},
   "source": [
    "First, I want to have a look at arrival and departure delays in histograms to see how values lie."
   ]
  },
  {
   "cell_type": "code",
   "execution_count": 48,
   "metadata": {},
   "outputs": [
    {
     "data": {
      "image/png": "[encoded data removed]",
      "text/plain": [
       "<Figure size 432x288 with 1 Axes>"
      ]
     },
     "metadata": {
      "needs_background": "light"
     },
     "output_type": "display_data"
    }
   ],
   "source": [
    "bins = np.arange(1, df_2005_clean_delayed_arrival['arrival_delay'].max()+0.5, 20) \n",
    "plt.hist(data = df_2005_clean_delayed_arrival, x = 'arrival_delay', bins = bins);\n",
    "plt.xlim((0, 500));"
   ]
  },
  {
   "cell_type": "markdown",
   "metadata": {},
   "source": [
    "With bins set to 20, and with the values trailing off to the right, it is hard to get a good picture of the data, but it is clear that the vast majority of values fall in the first bin, from 1-20 minutes."
   ]
  },
  {
   "cell_type": "code",
   "execution_count": 49,
   "metadata": {},
   "outputs": [
    {
     "data": {
      "text/plain": [
       "count    3.063215e+06\n",
       "mean     2.832096e+01\n",
       "std      4.254396e+01\n",
       "min      1.000000e+00\n",
       "25%      6.000000e+00\n",
       "50%      1.400000e+01\n",
       "75%      3.300000e+01\n",
       "max      1.925000e+03\n",
       "Name: arrival_delay, dtype: float64"
      ]
     },
     "execution_count": 49,
     "metadata": {},
     "output_type": "execute_result"
    }
   ],
   "source": [
    "df_2005_clean_delayed_arrival.arrival_delay.describe()"
   ]
  },
  {
   "cell_type": "markdown",
   "metadata": {},
   "source": [
    "I will now use information from arrival_delay.describe to set bins and set a logarithmic x-scale."
   ]
  },
  {
   "cell_type": "code",
   "execution_count": 50,
   "metadata": {},
   "outputs": [
    {
     "name": "stderr",
     "output_type": "stream",
     "text": [
      "<ipython-input-50-99b4b8df3245>:8: UserWarning: Attempted to set non-positive left xlim on a log-scaled axis.\n",
      "Invalid limit will be ignored.\n",
      "  plt.xlim(0, 1000); # i am restricting the xlim to 1000 to avoid an extremely long tail with very minimal values.\n"
     ]
    },
    {
     "data": {
      "image/png": "[encoded data removed]",
      "text/plain": [
       "<Figure size 432x288 with 1 Axes>"
      ]
     },
     "metadata": {
      "needs_background": "light"
     },
     "output_type": "display_data"
    }
   ],
   "source": [
    "bins = 10 ** np.arange(np.log10(df_2005_clean_delayed_arrival.arrival_delay.min()), \n",
    "                       np.log10(df_2005_clean_delayed_arrival.arrival_delay.max())+1, 0.1)\n",
    "# i set log10 of the min/max values for the max and min, and start with 0.2 for bin size\n",
    "plt.hist(df_2005_clean_delayed_arrival.arrival_delay, bins = bins);\n",
    "plt.xscale('log');\n",
    "tick_locs = [1, 3, 6, 10, 14, 24, 33, 979, 1925]\n",
    "plt.xticks(tick_locs, tick_locs);\n",
    "plt.xlim(0, 1000); # i am restricting the xlim to 1000 to avoid an extremely long tail with very minimal values."
   ]
  },
  {
   "cell_type": "markdown",
   "metadata": {},
   "source": [
    "With smaller bins and the x-lim, I can much more clearly see where the values fall, and see that there are some gaps, meaning this number of delayed minutes is not present in the column. The graph is not as clearly right skewed as in the first histogram. It seems that the majority of arrival departures were between 4-5 minutes, the next were those around 12-13, and the next were around 22 or so. Delays of about 5-8 minutes are comparably rare, and after about 22 minutes delay, the number of delays drops steadily.<br><br>I could certainly repeat this process for the df_2005_clean_delayed_departure df, but after comparing the describe information, it does not look like there would be much of a change in another graph. The min is the same, and the other values differ only slightly, so I will not plot the other df."
   ]
  },
  {
   "cell_type": "code",
   "execution_count": 51,
   "metadata": {},
   "outputs": [
    {
     "data": {
      "text/plain": [
       "count    2.537852e+06\n",
       "mean     2.970273e+01\n",
       "std      4.392979e+01\n",
       "min      1.000000e+00\n",
       "25%      5.000000e+00\n",
       "50%      1.500000e+01\n",
       "75%      3.600000e+01\n",
       "max      1.930000e+03\n",
       "Name: departure_delay, dtype: float64"
      ]
     },
     "execution_count": 51,
     "metadata": {},
     "output_type": "execute_result"
    }
   ],
   "source": [
    "df_2005_clean_delayed_departure.departure_delay.describe()"
   ]
  },
  {
   "cell_type": "markdown",
   "metadata": {},
   "source": [
    "After seeing the max delay as a surprisingly high 1925 minutes, I am curious to know how many delays were longer than 1000 minutes in this df."
   ]
  },
  {
   "cell_type": "code",
   "execution_count": 52,
   "metadata": {},
   "outputs": [
    {
     "data": {
      "text/plain": [
       "154"
      ]
     },
     "execution_count": 52,
     "metadata": {},
     "output_type": "execute_result"
    }
   ],
   "source": [
    "df_2005_clean_delayed_arrival[df_2005_clean_delayed_arrival['arrival_delay'] > 1000].arrival_delay.count()"
   ]
  },
  {
   "cell_type": "code",
   "execution_count": 122,
   "metadata": {},
   "outputs": [
    {
     "data": {
      "text/plain": [
       "154"
      ]
     },
     "execution_count": 122,
     "metadata": {},
     "output_type": "execute_result"
    }
   ],
   "source": [
    "df_2005_clean_delayed_departure[df_2005_clean_delayed_departure['departure_delay'] > 1000].departure_delay.count()"
   ]
  },
  {
   "cell_type": "markdown",
   "metadata": {},
   "source": [
    "154 flights had delays longer than 1000 minutes or about 16.67 hours, interesting! Later on this this analysis I will be interested to see which factors tend to contribute to the longest delays, to see what could be having an effect here."
   ]
  },
  {
   "cell_type": "markdown",
   "metadata": {},
   "source": [
    "I now want to move on and have a look at how many delays there are on different days of the week. I will compare the delayed arrivals and departures in this graph to see if there are any differences."
   ]
  },
  {
   "cell_type": "code",
   "execution_count": 53,
   "metadata": {},
   "outputs": [
    {
     "data": {
      "image/png": "[encoded data removed]",
      "text/plain": [
       "<Figure size 576x576 with 2 Axes>"
      ]
     },
     "metadata": {
      "needs_background": "light"
     },
     "output_type": "display_data"
    }
   ],
   "source": [
    "fig, ax = plt.subplots(nrows=2, figsize = [8,8]) \n",
    "# I want both graphs together, 1 on top of the other and I will set the size/shape as a square\n",
    "default_color = sb.color_palette()[0] # only 1 color needed here\n",
    "sb.countplot(data = df_2005_clean_delayed_arrival, x = 'day_of_week', color = default_color, ax = ax[0])\n",
    "sb.countplot(data = df_2005_clean_delayed_departure, x = 'day_of_week', color = default_color, ax = ax[1])\n",
    "plt.show()"
   ]
  },
  {
   "cell_type": "markdown",
   "metadata": {},
   "source": [
    "Here, we can see that the most delays seem to happen on days 4 and 5, or Thursday and Friday. Friday has the most delays, but is closely followed by Thursday. I expected Fridays to have delays, but was not anticipating Thursday to be so close behind. I imagine this may be due to people taking long weekends, and choosing to leave on a Thursday instead of a Friday. Saturday looks to have the least delays, both for arrivals and departures, and differs by more than 100000 delays from Friday.<br><br>\n",
    "Overall, there seems to be more arrival delays than departure delays, which is something interesting to note, and something I will likely discover further."
   ]
  },
  {
   "cell_type": "markdown",
   "metadata": {},
   "source": [
    "I want to create graphs for the months as well, to see how delays compare on a month to month basis."
   ]
  },
  {
   "cell_type": "code",
   "execution_count": 54,
   "metadata": {},
   "outputs": [
    {
     "data": {
      "image/png": "[encoded data removed]",
      "text/plain": [
       "<Figure size 576x576 with 2 Axes>"
      ]
     },
     "metadata": {
      "needs_background": "light"
     },
     "output_type": "display_data"
    }
   ],
   "source": [
    "fig, ax = plt.subplots(nrows=2, figsize = [8,8])\n",
    "\n",
    "default_color = sb.color_palette()[0]\n",
    "sb.countplot(data = df_2005_clean_delayed_arrival, x = 'month', color = default_color, ax = ax[0])\n",
    "sb.countplot(data = df_2005_clean_delayed_departure, x = 'month', color = default_color, ax = ax[1])\n",
    "\n",
    "plt.show()"
   ]
  },
  {
   "cell_type": "markdown",
   "metadata": {},
   "source": [
    "These graphs look to confirm my suspicions: there appears to be the most delays in July, then December, followed by the other summer months and then January. The lowest number of delays appears to be in September, and I could imagine this is due to it being the first month after summer, where schools are back in session, meaning fewer people are probably flying at this time (i.e. fewer delays). Again, there appears to be more arrival delays than departure delays, and I want to quickly check on these totals."
   ]
  },
  {
   "cell_type": "code",
   "execution_count": 55,
   "metadata": {},
   "outputs": [
    {
     "data": {
      "text/plain": [
       "3063215"
      ]
     },
     "execution_count": 55,
     "metadata": {},
     "output_type": "execute_result"
    }
   ],
   "source": [
    "df_2005_clean_delayed_arrival.arrival_delay.count()"
   ]
  },
  {
   "cell_type": "code",
   "execution_count": 56,
   "metadata": {},
   "outputs": [
    {
     "data": {
      "text/plain": [
       "2537852"
      ]
     },
     "execution_count": 56,
     "metadata": {},
     "output_type": "execute_result"
    }
   ],
   "source": [
    "df_2005_clean_delayed_departure.departure_delay.count()"
   ]
  },
  {
   "cell_type": "markdown",
   "metadata": {},
   "source": [
    "This confirms what I had thought: there looks to be about 500,000 fewer departure delays than arrival delays. This is interesting! I will have a quick look into the 5 given delays in the next graphs, and see how these may have differing effects on the 2 delay types."
   ]
  },
  {
   "cell_type": "code",
   "execution_count": 57,
   "metadata": {},
   "outputs": [
    {
     "data": {
      "image/png": "[encoded data removed]",
      "text/plain": [
       "<Figure size 648x432 with 1 Axes>"
      ]
     },
     "metadata": {
      "needs_background": "light"
     },
     "output_type": "display_data"
    }
   ],
   "source": [
    "# first, I will find the counts for each delay reason. \n",
    "# I will filter out minutes of delay not greater than 0, as this would indicate this did not cause the flight to be delayed.\n",
    "\n",
    "carrier_count = df_2005_clean_delayed_arrival.carrier_delay[df_2005_clean_delayed_arrival.carrier_delay>0].count()\n",
    "weather_count = df_2005_clean_delayed_arrival.weather_delay[df_2005_clean_delayed_arrival.weather_delay>0].count()\n",
    "nas_count = df_2005_clean_delayed_arrival.nas_delay[df_2005_clean_delayed_arrival.nas_delay>0].count()\n",
    "security_count = df_2005_clean_delayed_arrival.security_delay[df_2005_clean_delayed_arrival.security_delay>0].count()\n",
    "late_count = df_2005_clean_delayed_arrival.late_aircraft_delay[df_2005_clean_delayed_arrival.late_aircraft_delay>0].count()\n",
    "\n",
    "locations = [0, 1, 2, 3, 4]\n",
    "heights = sorted([carrier_count, weather_count, nas_count, security_count,late_count], reverse=True)\n",
    "# using counts above as heights for bars\n",
    "labels = ['nas_delay', 'carrier_delay', 'late_aircraft_delay', 'weather_delay', 'security_delay']\n",
    "width = 9 # labels are long, so I will set a wide chart width.\n",
    "height = 6\n",
    "\n",
    "plt.figure(figsize=(width, height))\n",
    "plt.bar(locations, heights, tick_label=labels)\n",
    "plt.title(\"Total arrival delays for different reasons\\n\")\n",
    "plt.xlabel(\"\\nReasons for delay\")\n",
    "plt.ylabel(\"Total delays\\n\");"
   ]
  },
  {
   "cell_type": "code",
   "execution_count": 58,
   "metadata": {},
   "outputs": [
    {
     "data": {
      "image/png": "[encoded data removed]",
      "text/plain": [
       "<Figure size 648x432 with 1 Axes>"
      ]
     },
     "metadata": {
      "needs_background": "light"
     },
     "output_type": "display_data"
    }
   ],
   "source": [
    "# mirroring the above for the df_2005_clean_delayed_departure df\n",
    "dep_carrier_count = df_2005_clean_delayed_departure.carrier_delay[df_2005_clean_delayed_departure.carrier_delay>0].count()\n",
    "dep_weather_count = df_2005_clean_delayed_departure.weather_delay[df_2005_clean_delayed_departure.weather_delay>0].count()\n",
    "dep_nas_count = df_2005_clean_delayed_departure.nas_delay[df_2005_clean_delayed_departure.nas_delay>0].count()\n",
    "dep_security_count = df_2005_clean_delayed_departure.security_delay[df_2005_clean_delayed_departure.security_delay>0].count()\n",
    "dep_late_count = df_2005_clean_delayed_departure.late_aircraft_delay[df_2005_clean_delayed_departure.late_aircraft_delay>0].count()\n",
    "\n",
    "locations = [0, 1, 2, 3, 4]\n",
    "heights = sorted([dep_carrier_count, dep_weather_count, dep_nas_count, dep_security_count, dep_late_count], reverse=True)\n",
    "\n",
    "labels = ['nas_delay', 'carrier_delay', 'late_aircraft_delay', 'weather_delay', 'security_delay']\n",
    "width = 9\n",
    "height = 6\n",
    "\n",
    "plt.figure(figsize=(width, height))\n",
    "plt.bar(locations, heights, tick_label=labels)\n",
    "plt.title(\"Total departure delays for different reasons\\n\")\n",
    "plt.xlabel(\"\\nReasons for delay\")\n",
    "plt.ylabel(\"Total delays\\n\");"
   ]
  },
  {
   "cell_type": "markdown",
   "metadata": {},
   "source": [
    "The reasons for delay are ranked in the same order for departure and arrival delays, but the reasons for departure delays are a bit closer together in terms of total count of delays.<br><br>NAS delays, are defined as: \"Delays and cancellations attributable to the National Aviation System (NAS) that refer to a broad set of conditions, such as non-extreme weather conditions, airport operations, heavy traffic volume, and air traffic control.\"<br><br>This kind of delay covers a wide range of different delays, and it makes sense then that this delay would then have the highest count of delays. NAS delays appear to delay arrivals significantly more often than departures, and I could imagine this is likely due to planes needing to be delayed in the air for reasons like unsafe landing conditions due to weather, no place for the plane to land due to traffice, and so on."
   ]
  },
  {
   "cell_type": "markdown",
   "metadata": {},
   "source": [
    "I also just want to have a quick look at actual elapsed time to generally see how long the flights in the dataset are, as I am curious to know if flights leaving the US are also included."
   ]
  },
  {
   "cell_type": "code",
   "execution_count": 59,
   "metadata": {},
   "outputs": [
    {
     "data": {
      "image/png": "[encoded data removed]",
      "text/plain": [
       "<Figure size 432x288 with 1 Axes>"
      ]
     },
     "metadata": {
      "needs_background": "light"
     },
     "output_type": "display_data"
    }
   ],
   "source": [
    "bins = np.arange(0, df_2005_clean_delayed_arrival['actual_elapsed_time'].max()+0.5, 20) \n",
    "plt.hist(data = df_2005_clean_delayed_arrival, x = 'actual_elapsed_time', bins = bins);\n",
    "plt.xlim((0, 500));"
   ]
  },
  {
   "cell_type": "markdown",
   "metadata": {},
   "source": [
    "The largest number of delays are for flights from 60-80 minutes long, and the number of delays drops of from there with the tail skewed to the right. I have set the x-lim to 500, but it seems international flights are included in this dataset as flights of 500 minutes are over 8 hours long, and I believe if you were to fly 8 hours from any US destination you would land in another country."
   ]
  },
  {
   "cell_type": "markdown",
   "metadata": {},
   "source": [
    "### Talk about some of the relationships you observed in this part of the investigation. How did the feature(s) of interest vary with other features in the dataset?\n",
    "\n",
    "> The majority of flights delayed in 2005 were 4-5 minutes delayed, and 75% of arrival delays/departure delays were less than 33 and 36 minutes long. There are definite outliers: 154 delays were over 1000 minutes long for example. Flights on Thursdays and Fridays, and in December and July had the most delays. The highest number of delays were attributed to NAS and carrier delays, while the least (a comparably negligable amount) were attributed to security delays.\n",
    "\n",
    "### Did you observe any interesting relationships between the other features (not the main feature(s) of interest)?\n",
    "\n",
    "> I found that flights from 60-80 minutes long had the most delays, and from there the number of delays drops off as the flights had longer actual elapsed times."
   ]
  },
  {
   "cell_type": "markdown",
   "metadata": {},
   "source": [
    "## Bivariate Exploration"
   ]
  },
  {
   "cell_type": "markdown",
   "metadata": {},
   "source": [
    "First, I want to look at the departure delays vs. arrival delays, to see if these are closely correlated: I would be surprised if these 2 delays did not have at least a fairly strong correlation. I will join the departure_and arrival delay columns from the original clean delays df, and only compare where both columns had values greater than 0, in order to only see flights that had both departure und arrival delays."
   ]
  },
  {
   "cell_type": "code",
   "execution_count": 60,
   "metadata": {},
   "outputs": [],
   "source": [
    "departure_delay_index_of_negatives = df_2005_clean_delayed[df_2005_clean_delayed.departure_delay <= 0].index\n",
    "# i find the indexes of all rows in departure_delay column that are <= 0\n",
    "arrival_delay_index_of_negatives = df_2005_clean_delayed[df_2005_clean_delayed.arrival_delay <= 0].index\n",
    "# i find the index of all rows in arrival_delay column that are <= 0\n",
    "\n",
    "# i transform both arrays of indexes into lists so I can use the + operator and join them together\n",
    "not_delays = list(arrival_delay_index_of_negatives) + list(departure_delay_index_of_negatives)\n",
    "\n",
    "# i use set to remove the duplicates then I transform back to list so I can drop them\n",
    "delays_result = df_2005_clean_delayed.drop(list(set(not_delays)))"
   ]
  },
  {
   "cell_type": "markdown",
   "metadata": {},
   "source": [
    "From what I can see it looks like all values in both columns are now positive."
   ]
  },
  {
   "cell_type": "code",
   "execution_count": 61,
   "metadata": {},
   "outputs": [
    {
     "data": {
      "image/png": "[encoded data removed]",
      "text/plain": [
       "<Figure size 432x288 with 1 Axes>"
      ]
     },
     "metadata": {
      "needs_background": "light"
     },
     "output_type": "display_data"
    }
   ],
   "source": [
    "df_2005_clean_delayed_no_negative = delays_result.plot(x=\"departure_delay\", y=\"arrival_delay\", kind=\"scatter\");"
   ]
  },
  {
   "cell_type": "code",
   "execution_count": 121,
   "metadata": {},
   "outputs": [
    {
     "data": {
      "image/png": "[encoded data removed]",
      "text/plain": [
       "<Figure size 432x288 with 1 Axes>"
      ]
     },
     "metadata": {
      "needs_background": "light"
     },
     "output_type": "display_data"
    }
   ],
   "source": [
    "# I will add some jitter and transparency and look at the graph again\n",
    "sb.regplot(data = delays_result, x = 'departure_delay', y = 'arrival_delay', x_jitter = 1,\n",
    "            scatter_kws = {'alpha' : 1/10}, fit_reg = False);"
   ]
  },
  {
   "cell_type": "markdown",
   "metadata": {},
   "source": [
    "It is clear to see in both of these graphs that departure and arrival delay have a strong, positive connection to one another, which is as expected. There is more variance in the shorter delays, whereas at the higher end of the spectrum the points are right along the fit reg line. I will have a look at correlation coeffecients a bit later on, but I am pretty confident the results will match what I see here."
   ]
  },
  {
   "cell_type": "markdown",
   "metadata": {},
   "source": [
    "Next, I want to look at diverted flights, to see if they were more delayed than non-diverted flights. I would imagine they would cause some pretty long arrival delays, as passengers would not end up at the airport they were meant to."
   ]
  },
  {
   "cell_type": "code",
   "execution_count": 64,
   "metadata": {},
   "outputs": [
    {
     "data": {
      "text/plain": [
       "0    3587802\n",
       "1    14028  \n",
       "Name: diverted, dtype: int64"
      ]
     },
     "execution_count": 64,
     "metadata": {},
     "output_type": "execute_result"
    }
   ],
   "source": [
    "df_2005_clean_delayed.diverted.value_counts()"
   ]
  },
  {
   "cell_type": "code",
   "execution_count": 65,
   "metadata": {},
   "outputs": [
    {
     "data": {
      "text/html": [
       "<div>\n",
       "<style scoped>\n",
       "    .dataframe tbody tr th:only-of-type {\n",
       "        vertical-align: middle;\n",
       "    }\n",
       "\n",
       "    .dataframe tbody tr th {\n",
       "        vertical-align: top;\n",
       "    }\n",
       "\n",
       "    .dataframe thead th {\n",
       "        text-align: right;\n",
       "    }\n",
       "</style>\n",
       "<table border=\"1\" class=\"dataframe\">\n",
       "  <thead>\n",
       "    <tr style=\"text-align: right;\">\n",
       "      <th></th>\n",
       "      <th>diverted</th>\n",
       "      <th>arrival_delay</th>\n",
       "    </tr>\n",
       "  </thead>\n",
       "  <tbody>\n",
       "    <tr>\n",
       "      <th>0</th>\n",
       "      <td>0</td>\n",
       "      <td>23.255326</td>\n",
       "    </tr>\n",
       "    <tr>\n",
       "      <th>1</th>\n",
       "      <td>1</td>\n",
       "      <td>NaN</td>\n",
       "    </tr>\n",
       "  </tbody>\n",
       "</table>\n",
       "</div>"
      ],
      "text/plain": [
       "   diverted  arrival_delay\n",
       "0  0         23.255326    \n",
       "1  1        NaN           "
      ]
     },
     "execution_count": 65,
     "metadata": {},
     "output_type": "execute_result"
    }
   ],
   "source": [
    "df_2005_clean_delayed.groupby('diverted').arrival_delay.mean().reset_index('diverted')"
   ]
  },
  {
   "cell_type": "code",
   "execution_count": 66,
   "metadata": {},
   "outputs": [
    {
     "data": {
      "text/plain": [
       "16        NaN\n",
       "427       NaN\n",
       "805       NaN\n",
       "1786      NaN\n",
       "2019      NaN\n",
       "           ..\n",
       "7136079   NaN\n",
       "7136188   NaN\n",
       "7136232   NaN\n",
       "7139175   NaN\n",
       "7140319   NaN\n",
       "Name: arrival_delay, Length: 14028, dtype: float64"
      ]
     },
     "execution_count": 66,
     "metadata": {},
     "output_type": "execute_result"
    }
   ],
   "source": [
    "df_2005_clean_delayed.arrival_delay[df_2005_clean_delayed.arrival_delay.isna()]"
   ]
  },
  {
   "cell_type": "markdown",
   "metadata": {},
   "source": [
    "It looks like although there were about 14,000 flights in the dataset that had been diverted, none of these flights have values in the arrival delay columns, and they instead only have NaN values. I wonder why this is the case! I will have a quick look to see if this is also the case for the 1990 dataset."
   ]
  },
  {
   "cell_type": "code",
   "execution_count": 67,
   "metadata": {},
   "outputs": [],
   "source": [
    "df_1990_clean_delayed_arrival = df_1990_clean_delayed[df_1990_clean_delayed['arrival_delay'] > 0]\n",
    "df_1990_clean_delayed_departure = df_1990_clean_delayed[df_1990_clean_delayed['departure_delay'] > 0]\n",
    "\n",
    "df_1990_clean_delayed_arrival.reset_index(drop=True, inplace=True)\n",
    "df_1990_clean_delayed_departure.reset_index(drop=True, inplace=True)"
   ]
  },
  {
   "cell_type": "code",
   "execution_count": 68,
   "metadata": {},
   "outputs": [
    {
     "data": {
      "text/plain": [
       "0    3291426\n",
       "1    15954  \n",
       "Name: diverted, dtype: int64"
      ]
     },
     "execution_count": 68,
     "metadata": {},
     "output_type": "execute_result"
    }
   ],
   "source": [
    "df_1990_clean_delayed.diverted.value_counts()"
   ]
  },
  {
   "cell_type": "code",
   "execution_count": 69,
   "metadata": {},
   "outputs": [
    {
     "data": {
      "text/plain": [
       "diverted\n",
       "0    3291426\n",
       "1    0      \n",
       "Name: arrival_delay, dtype: int64"
      ]
     },
     "execution_count": 69,
     "metadata": {},
     "output_type": "execute_result"
    }
   ],
   "source": [
    "df_1990_clean_delayed.groupby('diverted').arrival_delay.count()"
   ]
  },
  {
   "cell_type": "markdown",
   "metadata": {},
   "source": [
    "This is the same for the 1990 dataset too! I had a quick look at the BTS website to see if there was any information about this, but unfortunately the link to analysis of this variable threw an error, I will just need to move forward without analyzing the relationship of diversions with arrival delays."
   ]
  },
  {
   "cell_type": "markdown",
   "metadata": {},
   "source": [
    "I will have a quick look at the relationship between distance and arrival delay to see if there appears to be any correlation here."
   ]
  },
  {
   "cell_type": "code",
   "execution_count": 70,
   "metadata": {},
   "outputs": [
    {
     "data": {
      "image/png": "[encoded data removed]",
      "text/plain": [
       "<Figure size 432x288 with 1 Axes>"
      ]
     },
     "metadata": {
      "needs_background": "light"
     },
     "output_type": "display_data"
    }
   ],
   "source": [
    "df_2005_clean_delayed_arrival.plot(x=\"arrival_delay\", y=\"distance\", kind=\"scatter\");"
   ]
  },
  {
   "cell_type": "markdown",
   "metadata": {},
   "source": [
    "It seems that the longest arrival delays take place with shorter flights, but this is a bit hard to tell with so many points on the graph. I will have a quick look at this again with a smaller sample, some jitter, and some transparency."
   ]
  },
  {
   "cell_type": "code",
   "execution_count": 95,
   "metadata": {},
   "outputs": [
    {
     "data": {
      "image/png": "[encoded data removed]",
      "text/plain": [
       "<Figure size 432x288 with 1 Axes>"
      ]
     },
     "metadata": {
      "needs_background": "light"
     },
     "output_type": "display_data"
    }
   ],
   "source": [
    "samp_2005_clean_delayed_arrival = df_2005_clean_delayed_arrival.sample(n=10000)\n",
    "sb.regplot(data = samp_2005_clean_delayed_arrival, x = 'arrival_delay', y = 'distance', x_jitter = 1,\n",
    "            scatter_kws = {'alpha' : 1/10}, fit_reg = False);"
   ]
  },
  {
   "cell_type": "markdown",
   "metadata": {},
   "source": [
    "This is quite similar to the above graph of course but it is easier to pick up where the densest concentrations are, delays less than 100 minutes, and shorter than 1000 miles seem to have the most delays. I would think longer flights would tend to have longer delays, but it seems this is not really the case here."
   ]
  },
  {
   "cell_type": "code",
   "execution_count": 97,
   "metadata": {},
   "outputs": [
    {
     "data": {
      "text/plain": [
       "array([[1.        , 0.00409154],\n",
       "       [0.00409154, 1.        ]])"
      ]
     },
     "execution_count": 97,
     "metadata": {},
     "output_type": "execute_result"
    }
   ],
   "source": [
    "np.corrcoef(samp_2005_clean_delayed_arrival.arrival_delay, samp_2005_clean_delayed_arrival.distance)"
   ]
  },
  {
   "cell_type": "markdown",
   "metadata": {},
   "source": [
    "We can see there is a very weak, positive linear relationship here, which was also evidenced by the line (before I had removed it)."
   ]
  },
  {
   "cell_type": "markdown",
   "metadata": {},
   "source": [
    "As mentioned above, I want to have a look at the correlation coeffecients of certain variables to see how they relate to one another. I am most interested in looking at the correlations between the different cancellation reasons and arrival/departure delays."
   ]
  },
  {
   "cell_type": "code",
   "execution_count": 102,
   "metadata": {},
   "outputs": [
    {
     "data": {
      "image/png": "[encoded data removed]",
      "text/plain": [
       "<Figure size 576x360 with 2 Axes>"
      ]
     },
     "metadata": {
      "needs_background": "light"
     },
     "output_type": "display_data"
    }
   ],
   "source": [
    "numeric_vars = ['arrival_delay', 'departure_delay','carrier_delay', 'weather_delay', 'nas_delay', 'security_delay', 'late_aircraft_delay']\n",
    "plt.figure(figsize = [8, 5])\n",
    "sb.heatmap(df_2005_clean_delayed[numeric_vars].corr(), annot = True, fmt = '.3f',\n",
    "           cmap = 'viridis_r', center = 0)\n",
    "plt.show()"
   ]
  },
  {
   "cell_type": "markdown",
   "metadata": {},
   "source": [
    "We can see here, that departure and arrival delays have a very strong positive relationship of 0.904, which is to be expected after looking at the above scatterplot. The strongest positive relationships for departure delay are between late aircraft delay, and then carrier delay. These are the same 2 strongest positive relationships for arrival delay. The weakest relationships are also negative ones, between different delay reasons, such as security and carrier delay, and weather and security delays. I want to have a look to see how this map will differ, when looking at the dataset where both the departure and arrival delays have only values >0, or delays at least 1 minute long."
   ]
  },
  {
   "cell_type": "code",
   "execution_count": 103,
   "metadata": {},
   "outputs": [
    {
     "data": {
      "image/png": "[encoded data removed]",
      "text/plain": [
       "<Figure size 576x360 with 2 Axes>"
      ]
     },
     "metadata": {
      "needs_background": "light"
     },
     "output_type": "display_data"
    }
   ],
   "source": [
    "numeric_vars = ['arrival_delay', 'departure_delay','carrier_delay', 'weather_delay', 'nas_delay', 'security_delay', 'late_aircraft_delay']\n",
    "plt.figure(figsize = [8, 5])\n",
    "sb.heatmap(delays_result[numeric_vars].corr(), annot = True, fmt = '.3f',\n",
    "           cmap = 'viridis_r', center = 0)\n",
    "plt.show()"
   ]
  },
  {
   "cell_type": "markdown",
   "metadata": {},
   "source": [
    "This actually seems to weaken most of the correlations. I will look at this once more with the only departure and then with the only arrival delays dfs."
   ]
  },
  {
   "cell_type": "code",
   "execution_count": 104,
   "metadata": {},
   "outputs": [
    {
     "data": {
      "image/png": "[encoded data removed]",
      "text/plain": [
       "<Figure size 576x360 with 2 Axes>"
      ]
     },
     "metadata": {
      "needs_background": "light"
     },
     "output_type": "display_data"
    }
   ],
   "source": [
    "# same graph as above but without departure delay, and looking only at the df with arrival delays (no values <1 in this column)\n",
    "numeric_vars = ['arrival_delay', 'carrier_delay', 'weather_delay', 'nas_delay', 'security_delay', 'late_aircraft_delay']\n",
    "plt.figure(figsize = [8, 5])\n",
    "sb.heatmap(df_2005_clean_delayed_arrival[numeric_vars].corr(), annot = True, fmt = '.3f',\n",
    "           cmap = 'viridis_r', center = 0)\n",
    "plt.show()"
   ]
  },
  {
   "cell_type": "code",
   "execution_count": 127,
   "metadata": {},
   "outputs": [
    {
     "data": {
      "image/png": "[encoded data removed]",
      "text/plain": [
       "<Figure size 576x360 with 2 Axes>"
      ]
     },
     "metadata": {
      "needs_background": "light"
     },
     "output_type": "display_data"
    }
   ],
   "source": [
    "# same graph as above but without arrival delay, and looking only at the df with departure delays (no values <1 in this column)\n",
    "numeric_vars = ['departure_delay', 'carrier_delay', 'weather_delay', 'nas_delay', 'security_delay', 'late_aircraft_delay']\n",
    "plt.figure(figsize = [8, 5])\n",
    "sb.heatmap(df_2005_clean_delayed_departure[numeric_vars].corr(), annot = True, fmt = '.3f',\n",
    "           cmap = 'viridis_r', center = 0)\n",
    "plt.show()"
   ]
  },
  {
   "cell_type": "markdown",
   "metadata": {},
   "source": [
    "Both of these graphs seemed to strengthen the relationships shown in the first 2 graphs, but not substantially. The strongest positive relationships for departure delay are still between late aircraft delay, and then carrier delay, which are the same 2 strongest positive relationships for arrival delay.<br><br>It looks like these 2 factors could certainly contribute to delays, as there is a moderate, positive relationship between these variables."
   ]
  },
  {
   "cell_type": "markdown",
   "metadata": {},
   "source": [
    "I want to have a look at a pairgrid with scatterplots for the df_2005_clean_delayed dataset, to see the same information as above in the heat maps, but in scatterplot form. I will use a sample of 100,000 so that the graph does not take too long to load."
   ]
  },
  {
   "cell_type": "code",
   "execution_count": 106,
   "metadata": {},
   "outputs": [
    {
     "data": {
      "image/png": "[encoded data removed]",
      "text/plain": [
       "<Figure size 1080x1080 with 42 Axes>"
      ]
     },
     "metadata": {
      "needs_background": "light"
     },
     "output_type": "display_data"
    }
   ],
   "source": [
    "# df_2005_clean_delayed.reset_index(drop=True, inplace=True)\n",
    "samples = np.random.choice(df_2005_clean_delayed.shape[0], 100000, replace = False)\n",
    "df_2005_clean_delayed_samp = df_2005_clean_delayed.loc[samples]\n",
    "g = sb.PairGrid(data = df_2005_clean_delayed_samp, vars = numeric_vars)\n",
    "g = g.map_diag(plt.hist, bins = 20);\n",
    "g.map_offdiag(plt.scatter);"
   ]
  },
  {
   "cell_type": "markdown",
   "metadata": {},
   "source": [
    "These plots really do not show me the information I found in the heatmaps clearly. I struggle to really see correlations with my bare eyes for these plots, while the differing colors and correlation coeffecients made assessing relationships quite easily in the heatmaps."
   ]
  },
  {
   "cell_type": "markdown",
   "metadata": {},
   "source": [
    "Earlier on, I mentioned I was interested to see which delay types have the longest delays in minutes, and I will look now at the relationships between the average amount of minutes for each delay, first for arrivals and then with departures to compare."
   ]
  },
  {
   "cell_type": "code",
   "execution_count": null,
   "metadata": {},
   "outputs": [],
   "source": [
    "# first I will get the sums and total count of each type of delay in order to get averages\n",
    "carrier_count = df_2005_clean_delayed_arrival.carrier_delay[df_2005_clean_delayed_arrival.carrier_delay>0].count()\n",
    "carrier_sum = df_2005_clean_delayed_arrival.carrier_delay[df_2005_clean_delayed_arrival.carrier_delay>0].sum()\n",
    "carrier_avg_min = carrier_sum/carrier_count\n",
    "\n",
    "weather_count = df_2005_clean_delayed_arrival.weather_delay[df_2005_clean_delayed_arrival.weather_delay>0].count()\n",
    "weather_sum = df_2005_clean_delayed_arrival.weather_delay[df_2005_clean_delayed_arrival.weather_delay>0].sum()\n",
    "weather_avg_min = weather_sum/weather_count\n",
    "\n",
    "nas_count = df_2005_clean_delayed_arrival.nas_delay[df_2005_clean_delayed_arrival.nas_delay>0].count()\n",
    "nas_sum = df_2005_clean_delayed_arrival.nas_delay[df_2005_clean_delayed_arrival.nas_delay>0].sum()\n",
    "nas_avg_min = nas_sum/nas_count\n",
    "\n",
    "security_count = df_2005_clean_delayed_arrival.security_delay[df_2005_clean_delayed_arrival.security_delay>0].count()\n",
    "security_sum = df_2005_clean_delayed_arrival.security_delay[df_2005_clean_delayed_arrival.security_delay>0].sum()\n",
    "security_avg_min = security_sum/security_count\n",
    "\n",
    "late_count = df_2005_clean_delayed_arrival.late_aircraft_delay[df_2005_clean_delayed_arrival.late_aircraft_delay>0].count()\n",
    "late_sum = df_2005_clean_delayed_arrival.late_aircraft_delay[df_2005_clean_delayed_arrival.late_aircraft_delay>0].sum()\n",
    "late_avg_min = late_sum/late_count"
   ]
  },
  {
   "cell_type": "code",
   "execution_count": 109,
   "metadata": {},
   "outputs": [
    {
     "data": {
      "image/png": "[encoded data removed]",
      "text/plain": [
       "<Figure size 648x432 with 1 Axes>"
      ]
     },
     "metadata": {
      "needs_background": "light"
     },
     "output_type": "display_data"
    }
   ],
   "source": [
    "# then I will plot these in a bar graph to compare\n",
    "locations = [0, 1, 2, 3, 4] # 5 bars in total\n",
    "heights = sorted([carrier_avg_min, weather_avg_min, nas_avg_min, security_avg_min, late_avg_min], reverse=True)\n",
    "# I want the bars to be sorted descending, meaning the delay with the largest average delay length first\n",
    "labels = ['weather_delay', 'late_aircraft_delay', 'carrier_delay', 'nas_delay', 'security_delay']\n",
    "# first I printed the sorted heights to see which order the labels should be in, then ordered the labels as such\n",
    "width = 9\n",
    "height = 6 # I want a nice big graph for this\n",
    "\n",
    "plt.figure(figsize=(width, height))\n",
    "plt.bar(locations, heights, tick_label=labels)\n",
    "plt.title(\"Arrival delays for different reasons\\nin average delay length (minutes)\")\n",
    "plt.xlabel(\"\\nReasons for delay\")\n",
    "plt.ylabel(\"Avg. delay length (minutes)\\n\");"
   ]
  },
  {
   "cell_type": "code",
   "execution_count": 107,
   "metadata": {},
   "outputs": [],
   "source": [
    "# here I am mirroring what I did in the above graph for arrival delays, for departure delays instead\n",
    "d_carrier_count = df_2005_clean_delayed_departure.carrier_delay[df_2005_clean_delayed_departure.carrier_delay>0].count()\n",
    "d_carrier_sum = df_2005_clean_delayed_departure.carrier_delay[df_2005_clean_delayed_departure.carrier_delay>0].sum()\n",
    "d_carrier_avg_min = d_carrier_sum/d_carrier_count\n",
    "\n",
    "d_weather_count = df_2005_clean_delayed_departure.weather_delay[df_2005_clean_delayed_departure.weather_delay>0].count()\n",
    "d_weather_sum = df_2005_clean_delayed_departure.weather_delay[df_2005_clean_delayed_departure.weather_delay>0].sum()\n",
    "d_weather_avg_min = d_weather_sum/d_weather_count\n",
    "\n",
    "d_nas_count = df_2005_clean_delayed_departure.nas_delay[df_2005_clean_delayed_departure.nas_delay>0].count()\n",
    "d_nas_sum = df_2005_clean_delayed_departure.nas_delay[df_2005_clean_delayed_departure.nas_delay>0].sum()\n",
    "d_nas_avg_min = d_nas_sum/d_nas_count\n",
    "\n",
    "d_security_count = df_2005_clean_delayed_departure.security_delay[df_2005_clean_delayed_departure.security_delay>0].count()\n",
    "d_security_sum = df_2005_clean_delayed_departure.security_delay[df_2005_clean_delayed_departure.security_delay>0].sum()\n",
    "d_security_avg_min = d_security_sum/d_security_count\n",
    "\n",
    "d_late_count = df_2005_clean_delayed_departure.late_aircraft_delay[df_2005_clean_delayed_departure.late_aircraft_delay>0].count()\n",
    "d_late_sum = df_2005_clean_delayed_departure.late_aircraft_delay[df_2005_clean_delayed_departure.late_aircraft_delay>0].sum()\n",
    "d_late_avg_min = d_late_sum/d_late_count"
   ]
  },
  {
   "cell_type": "code",
   "execution_count": 108,
   "metadata": {},
   "outputs": [
    {
     "data": {
      "image/png": "[encoded data removed]",
      "text/plain": [
       "<Figure size 648x432 with 1 Axes>"
      ]
     },
     "metadata": {
      "needs_background": "light"
     },
     "output_type": "display_data"
    }
   ],
   "source": [
    "locations = [0, 1, 2, 3, 4]\n",
    "heights = sorted([d_carrier_avg_min, d_weather_avg_min, d_nas_avg_min, d_security_avg_min, d_late_avg_min], reverse=True)\n",
    "\n",
    "labels = ['weather_delay', 'late_aircraft_delay', 'carrier_delay', 'nas_delay', 'security_delay']\n",
    "width = 9\n",
    "height = 6\n",
    "\n",
    "plt.figure(figsize=(width, height))\n",
    "plt.bar(locations, heights, tick_label=labels)\n",
    "plt.title(\"Departure delays for different reasons\\nin average delay length (minutes)\")\n",
    "plt.xlabel(\"\\nReasons for delay\")\n",
    "plt.ylabel(\"Avg. delay length (minutes)\\n\");"
   ]
  },
  {
   "cell_type": "markdown",
   "metadata": {},
   "source": [
    "It is interesting to compare the average delays in minutes for each delay reason to the total number of delays as I looked at above in the univariate section, as the reasons for delay are in a different order.<br><br>NAS delay no longer has the highest value, but instead the 2nd lowest average delay length, carrier delay is in 3rd instead of 2nd place, late aircraft delay is in 2nd instead of 3rd place, and weather moves from 4th to 1st place, with the longest average delay durations both for departures and arrivals. Security delays have both the shortest average delays in minutes as well as the fewest delays.<br><br>I had made the assumption, before starting with this analysis, that weather delays would have a significant effect on delays in general, and it looks like this is true at least in terms of delay length, if not for delay count. Late aircraft delay has nearly the same delay length weather delays, and security delays are nearly half as short as weather delays."
   ]
  },
  {
   "cell_type": "markdown",
   "metadata": {},
   "source": [
    "### Talk about some of the relationships you observed in this part of the investigation. How did the feature(s) of interest vary with other features in the dataset?\n",
    "\n",
    "> I was unfortunately unable to investigate diversions as planned, but managed to find that the strongest relationships appear to be between late aircraft delays and carrier delays in terms of total delays, while the longest average delays appear to be related to weather and late aircraft delays. Distance does not seem to be tightly correlated with delays, and the shorter flights actually appear to have the most delays (while not having the longest).\n",
    "\n",
    "### Did you observe any interesting relationships between the other features (not the main feature(s) of interest)?\n",
    "\n",
    "> The reasons for the delays all have very weak, even sometimes positive relationships with one another, which suggests that in most cases, there is only 1 factor attributed to a delay, and not more than 1. If there were more than one factor attributed to many delays, there would be stronger relationships between them."
   ]
  },
  {
   "cell_type": "markdown",
   "metadata": {},
   "source": [
    "## Multivariate Exploration"
   ]
  },
  {
   "cell_type": "markdown",
   "metadata": {},
   "source": [
    "I first want to dive deeper into the relationship between 3 variables I looked into earlier: arrival/departure delay, day of the week, and reasons for delay. I want to see if there may be certain types of delay more often on certain days of the week than on others. I would imagine the total delays would mirror what I saw above, but I am interested in seeing how this breaks down by type of delay. I will create a multi bar chart in order to dive into this deeper."
   ]
  },
  {
   "cell_type": "code",
   "execution_count": 110,
   "metadata": {},
   "outputs": [],
   "source": [
    "delay_reasons = ['day_of_week', 'carrier_delay', 'weather_delay', 'nas_delay', 'security_delay', 'late_aircraft_delay']\n",
    "multi_bar_arr = df_2005_clean_delayed_arrival[delay_reasons]\n",
    "multi_bar_dep = df_2005_clean_delayed_departure[delay_reasons] # first I select the columns I want to compare\n",
    "\n",
    "arrival_multi_bar = pd.melt(multi_bar_arr, id_vars=\"day_of_week\", var_name=\"delay_reason\", value_name=\"arrival_delay\")\n",
    "departure_multi_bar = pd.melt(multi_bar_dep, id_vars=\"day_of_week\", var_name=\"delay_reason\", value_name=\"departure_delay\")\n",
    "# I melt the delay columns into a single column, delay reason, with the value arrival_delay in order to build the chart.\n",
    "\n",
    "arrival_multi_bar_sample = arrival_multi_bar.sample(n=100000)\n",
    "departure_multi_bar_sample = departure_multi_bar.sample(n=100000) # I will use a sample of 100,000 here"
   ]
  },
  {
   "cell_type": "code",
   "execution_count": 112,
   "metadata": {},
   "outputs": [
    {
     "data": {
      "text/html": [
       "<div>\n",
       "<style scoped>\n",
       "    .dataframe tbody tr th:only-of-type {\n",
       "        vertical-align: middle;\n",
       "    }\n",
       "\n",
       "    .dataframe tbody tr th {\n",
       "        vertical-align: top;\n",
       "    }\n",
       "\n",
       "    .dataframe thead th {\n",
       "        text-align: right;\n",
       "    }\n",
       "</style>\n",
       "<table border=\"1\" class=\"dataframe\">\n",
       "  <thead>\n",
       "    <tr style=\"text-align: right;\">\n",
       "      <th></th>\n",
       "      <th>day_of_week</th>\n",
       "      <th>delay_reason</th>\n",
       "      <th>departure_delay</th>\n",
       "    </tr>\n",
       "  </thead>\n",
       "  <tbody>\n",
       "    <tr>\n",
       "      <th>7139624</th>\n",
       "      <td>4</td>\n",
       "      <td>nas_delay</td>\n",
       "      <td>0</td>\n",
       "    </tr>\n",
       "    <tr>\n",
       "      <th>167938</th>\n",
       "      <td>2</td>\n",
       "      <td>carrier_delay</td>\n",
       "      <td>0</td>\n",
       "    </tr>\n",
       "    <tr>\n",
       "      <th>2040608</th>\n",
       "      <td>2</td>\n",
       "      <td>carrier_delay</td>\n",
       "      <td>0</td>\n",
       "    </tr>\n",
       "    <tr>\n",
       "      <th>1646441</th>\n",
       "      <td>2</td>\n",
       "      <td>carrier_delay</td>\n",
       "      <td>0</td>\n",
       "    </tr>\n",
       "    <tr>\n",
       "      <th>11865914</th>\n",
       "      <td>4</td>\n",
       "      <td>late_aircraft_delay</td>\n",
       "      <td>0</td>\n",
       "    </tr>\n",
       "  </tbody>\n",
       "</table>\n",
       "</div>"
      ],
      "text/plain": [
       "          day_of_week         delay_reason  departure_delay\n",
       "7139624   4            nas_delay            0              \n",
       "167938    2            carrier_delay        0              \n",
       "2040608   2            carrier_delay        0              \n",
       "1646441   2            carrier_delay        0              \n",
       "11865914  4            late_aircraft_delay  0              "
      ]
     },
     "execution_count": 112,
     "metadata": {},
     "output_type": "execute_result"
    }
   ],
   "source": [
    "departure_multi_bar_sample.head()"
   ]
  },
  {
   "cell_type": "markdown",
   "metadata": {},
   "source": [
    "It looks like that worked, great! I want to change the days of the week to their names though instead of just the numbers, so it is more clear which days are being referred to."
   ]
  },
  {
   "cell_type": "code",
   "execution_count": 113,
   "metadata": {},
   "outputs": [],
   "source": [
    "def number_to_weekdays(df): # here I am using a function to apply the day names to the day of the week column\n",
    "    week_days = ['Monday', 'Tuesday', 'Wednesday', 'Thursday','Friday', 'Saturday', 'Sunday']\n",
    "    df['day_of_week'] = df['day_of_week'].apply(lambda x: week_days[x - 1]) # I use x-1 as the indexing starts with 0\n",
    "    return df\n",
    "\n",
    "arrival_multi_bar_sample = number_to_weekdays(arrival_multi_bar_sample) # I apply this to the dfs\n",
    "departure_multi_bar_sample = number_to_weekdays(departure_multi_bar_sample)"
   ]
  },
  {
   "cell_type": "code",
   "execution_count": 114,
   "metadata": {},
   "outputs": [
    {
     "data": {
      "text/html": [
       "<div>\n",
       "<style scoped>\n",
       "    .dataframe tbody tr th:only-of-type {\n",
       "        vertical-align: middle;\n",
       "    }\n",
       "\n",
       "    .dataframe tbody tr th {\n",
       "        vertical-align: top;\n",
       "    }\n",
       "\n",
       "    .dataframe thead th {\n",
       "        text-align: right;\n",
       "    }\n",
       "</style>\n",
       "<table border=\"1\" class=\"dataframe\">\n",
       "  <thead>\n",
       "    <tr style=\"text-align: right;\">\n",
       "      <th></th>\n",
       "      <th>day_of_week</th>\n",
       "      <th>delay_reason</th>\n",
       "      <th>departure_delay</th>\n",
       "    </tr>\n",
       "  </thead>\n",
       "  <tbody>\n",
       "    <tr>\n",
       "      <th>7139624</th>\n",
       "      <td>Thursday</td>\n",
       "      <td>nas_delay</td>\n",
       "      <td>0</td>\n",
       "    </tr>\n",
       "    <tr>\n",
       "      <th>167938</th>\n",
       "      <td>Tuesday</td>\n",
       "      <td>carrier_delay</td>\n",
       "      <td>0</td>\n",
       "    </tr>\n",
       "    <tr>\n",
       "      <th>2040608</th>\n",
       "      <td>Tuesday</td>\n",
       "      <td>carrier_delay</td>\n",
       "      <td>0</td>\n",
       "    </tr>\n",
       "    <tr>\n",
       "      <th>1646441</th>\n",
       "      <td>Tuesday</td>\n",
       "      <td>carrier_delay</td>\n",
       "      <td>0</td>\n",
       "    </tr>\n",
       "    <tr>\n",
       "      <th>11865914</th>\n",
       "      <td>Thursday</td>\n",
       "      <td>late_aircraft_delay</td>\n",
       "      <td>0</td>\n",
       "    </tr>\n",
       "  </tbody>\n",
       "</table>\n",
       "</div>"
      ],
      "text/plain": [
       "         day_of_week         delay_reason  departure_delay\n",
       "7139624   Thursday    nas_delay            0              \n",
       "167938    Tuesday     carrier_delay        0              \n",
       "2040608   Tuesday     carrier_delay        0              \n",
       "1646441   Tuesday     carrier_delay        0              \n",
       "11865914  Thursday    late_aircraft_delay  0              "
      ]
     },
     "execution_count": 114,
     "metadata": {},
     "output_type": "execute_result"
    }
   ],
   "source": [
    "departure_multi_bar_sample.head() # looks good!"
   ]
  },
  {
   "cell_type": "markdown",
   "metadata": {},
   "source": [
    "Now I will plot the bar graph, starting with the arrival delays. I will create one for the departure delays underneath."
   ]
  },
  {
   "cell_type": "code",
   "execution_count": 125,
   "metadata": {},
   "outputs": [
    {
     "data": {
      "image/png": "[encoded data removed]",
      "text/plain": [
       "<Figure size 1008x576 with 1 Axes>"
      ]
     },
     "metadata": {
      "needs_background": "light"
     },
     "output_type": "display_data"
    }
   ],
   "source": [
    "x_marker = ['Monday', 'Tuesday', 'Wednesday', 'Thursday','Friday', 'Saturday', 'Sunday']\n",
    "# I want the bars to be in order from Monday-Sunday\n",
    "plot = sb.catplot(x='day_of_week', y='arrival_delay', hue='delay_reason', hue_order=['late_aircraft_delay', 'nas_delay', 'carrier_delay', 'weather_delay', 'security_delay'], \n",
    "                  legend_out=False, data=arrival_multi_bar_sample, kind='bar', order=x_marker, palette = 'Blues_r')\n",
    "# I want the day of the week on the x, the delay reason to be the hue, I set the hue order, indicate I want the legend\n",
    "# on my graph (not separate) and use blue reversed color palette \n",
    "plot.fig.suptitle('Arrival delays in minutes based on day of the week')\n",
    "plot.set_axis_labels('\\nDay of the Week', 'Arrival Delay (min)\\n')\n",
    "plot.fig.set_figwidth(14)\n",
    "plot.fig.set_figheight(8) # I want a nice large graph as I am showing lots of information"
   ]
  },
  {
   "cell_type": "code",
   "execution_count": 126,
   "metadata": {},
   "outputs": [
    {
     "data": {
      "image/png": "[encoded data removed]",
      "text/plain": [
       "<Figure size 1008x576 with 1 Axes>"
      ]
     },
     "metadata": {
      "needs_background": "light"
     },
     "output_type": "display_data"
    }
   ],
   "source": [
    "# I do the same as above, but for departure delays\n",
    "x_marker = ['Monday', 'Tuesday', 'Wednesday', 'Thursday','Friday', 'Saturday', 'Sunday']\n",
    "plot = sb.catplot(x='day_of_week', y='departure_delay', hue='delay_reason', hue_order=['late_aircraft_delay', 'nas_delay', 'carrier_delay', 'weather_delay', 'security_delay'], \n",
    "                  legend_out=False, data=departure_multi_bar_sample, kind='bar', order=x_marker, palette = 'Blues_r')\n",
    "plot.fig.suptitle('Departure delays in minutes based on day of the week')\n",
    "plot.set_axis_labels('\\nDay of the Week', 'Departure Delay (min)\\n')\n",
    "plot.fig.set_figwidth(14)\n",
    "plot.fig.set_figheight(8)"
   ]
  },
  {
   "cell_type": "markdown",
   "metadata": {},
   "source": [
    "We end up with 2 graphs, showing the breakdown of arrival delays by day of the week, based on delay reason, and showing the breakdown of departure delays by day of the week, based on delay reason. Error bars are included on both graph as we are sampling from the dfs, and the graph is showing the average minutes per delay.<br><br>Late aircraft delays appear to be the most significant delay on all days except for Wednesday (arrival delays) and Saturday (arrival and departure delays). NAS delays and carrier delays then follow, with NAS delays beating out carrier delays more often for arrival delays than departure delays. When looking on a day by day basis like this, it looks like generally, delays are quite short, less than 13 minutes, at least in this current sample. It is helpful to break down these variables into smaller chunks to really zoom in on the data, as based on graphs above, it seemed that delays were frequently longer."
   ]
  },
  {
   "cell_type": "markdown",
   "metadata": {},
   "source": [
    "I am now interested to have a quick look at carriers. How does the correlation between departure/arrival delay and carrier delay compare for the top 2 carriers (in terms of delays)? As we saw in our above heatmap examples, carrier delay has a moderate, positive correlation with both arrival (0.57) and departure (0.596) delays, so this would be interesting to explore."
   ]
  },
  {
   "cell_type": "code",
   "execution_count": 93,
   "metadata": {},
   "outputs": [
    {
     "data": {
      "text/plain": [
       "WN    488505\n",
       "DL    351886\n",
       "AA    349766\n",
       "NW    266774\n",
       "UA    251612\n",
       "MQ    251321\n",
       "OO    237008\n",
       "US    231261\n",
       "XE    200589\n",
       "CO    165035\n",
       "OH    156689\n",
       "EV    150102\n",
       "FL    107162\n",
       "HP    106826\n",
       "AS    94993 \n",
       "B6    70967 \n",
       "DH    61057 \n",
       "F9    29310 \n",
       "TZ    18931 \n",
       "HA    12036 \n",
       "Name: carrier, dtype: int64"
      ]
     },
     "execution_count": 93,
     "metadata": {},
     "output_type": "execute_result"
    }
   ],
   "source": [
    "df_2005_clean_delayed.carrier.value_counts()"
   ]
  },
  {
   "cell_type": "markdown",
   "metadata": {},
   "source": [
    "I see that the top 2 carriers with delays are WN and DL, so these are the 2 I will look at.<br>WN = Southwest Airlines<br>DL = Delta Airlines<br>https://aspmhelp.faa.gov/index.php/ASQP:_Carrier_Codes_and_Names"
   ]
  },
  {
   "cell_type": "code",
   "execution_count": 129,
   "metadata": {},
   "outputs": [
    {
     "name": "stderr",
     "output_type": "stream",
     "text": [
      "<ipython-input-129-f02bb93141ce>:2: UserWarning: Boolean Series key will be reindexed to match DataFrame index.\n",
      "  wn_dep_carrier = df_2005_clean_delayed_departure[df_2005_clean_delayed_departure.carrier == 'WN'][df_2005_clean_delayed_departure.carrier_delay > 0]\n",
      "<ipython-input-129-f02bb93141ce>:3: UserWarning: Boolean Series key will be reindexed to match DataFrame index.\n",
      "  dl_dep_carrier = df_2005_clean_delayed_departure[df_2005_clean_delayed_departure.carrier == 'DL'][df_2005_clean_delayed_departure.carrier_delay > 0]\n",
      "<ipython-input-129-f02bb93141ce>:4: UserWarning: Boolean Series key will be reindexed to match DataFrame index.\n",
      "  wn_arr_carrier = df_2005_clean_delayed_arrival[df_2005_clean_delayed_arrival.carrier == 'WN'][df_2005_clean_delayed_arrival.carrier_delay > 0]\n",
      "<ipython-input-129-f02bb93141ce>:5: UserWarning: Boolean Series key will be reindexed to match DataFrame index.\n",
      "  dl_arr_carrier = df_2005_clean_delayed_arrival[df_2005_clean_delayed_arrival.carrier == 'DL'][df_2005_clean_delayed_arrival.carrier_delay > 0]\n"
     ]
    }
   ],
   "source": [
    "# first, I create new dfs for departure and arrival delays, where carrier delays for each carrier, were >0\n",
    "wn_dep_carrier = df_2005_clean_delayed_departure[df_2005_clean_delayed_departure.carrier == 'WN'][df_2005_clean_delayed_departure.carrier_delay > 0]\n",
    "dl_dep_carrier = df_2005_clean_delayed_departure[df_2005_clean_delayed_departure.carrier == 'DL'][df_2005_clean_delayed_departure.carrier_delay > 0]\n",
    "wn_arr_carrier = df_2005_clean_delayed_arrival[df_2005_clean_delayed_arrival.carrier == 'WN'][df_2005_clean_delayed_arrival.carrier_delay > 0]\n",
    "dl_arr_carrier = df_2005_clean_delayed_arrival[df_2005_clean_delayed_arrival.carrier == 'DL'][df_2005_clean_delayed_arrival.carrier_delay > 0]"
   ]
  },
  {
   "cell_type": "markdown",
   "metadata": {},
   "source": [
    "Now I will plot each of these graphs, and take a look at the correlation coeffecients to compare."
   ]
  },
  {
   "cell_type": "code",
   "execution_count": 133,
   "metadata": {},
   "outputs": [
    {
     "data": {
      "image/png": "[encoded data removed]",
      "text/plain": [
       "<Figure size 432x288 with 1 Axes>"
      ]
     },
     "metadata": {
      "needs_background": "light"
     },
     "output_type": "display_data"
    }
   ],
   "source": [
    "# departure delays vs. carrier delays for Southwest Airlines\n",
    "sb.regplot(data = wn_dep_carrier, x = 'departure_delay', y = 'carrier_delay',\n",
    "           x_jitter = 1, y_jitter = 1, scatter_kws = {'alpha' : 1/10});"
   ]
  },
  {
   "cell_type": "code",
   "execution_count": 134,
   "metadata": {},
   "outputs": [
    {
     "data": {
      "image/png": "[encoded data removed]",
      "text/plain": [
       "<Figure size 432x288 with 1 Axes>"
      ]
     },
     "metadata": {
      "needs_background": "light"
     },
     "output_type": "display_data"
    }
   ],
   "source": [
    "# departure delays vs. carrier delays for Delta Airlines\n",
    "sb.regplot(data = dl_dep_carrier, x = 'departure_delay', y = 'carrier_delay',\n",
    "           x_jitter = 1, y_jitter = 1, scatter_kws = {'alpha' : 1/10});"
   ]
  },
  {
   "cell_type": "code",
   "execution_count": 135,
   "metadata": {},
   "outputs": [
    {
     "data": {
      "image/png": "[encoded data removed]",
      "text/plain": [
       "<Figure size 432x288 with 1 Axes>"
      ]
     },
     "metadata": {
      "needs_background": "light"
     },
     "output_type": "display_data"
    }
   ],
   "source": [
    "# arrival delays vs. carrier delays for Southwest Airlines\n",
    "sb.regplot(data = wn_arr_carrier, x = 'arrival_delay', y = 'carrier_delay',\n",
    "           x_jitter = 1, y_jitter = 1, scatter_kws = {'alpha' : 1/10});"
   ]
  },
  {
   "cell_type": "code",
   "execution_count": 136,
   "metadata": {},
   "outputs": [
    {
     "data": {
      "image/png": "[encoded data removed]",
      "text/plain": [
       "<Figure size 432x288 with 1 Axes>"
      ]
     },
     "metadata": {
      "needs_background": "light"
     },
     "output_type": "display_data"
    }
   ],
   "source": [
    "# arrival delays vs. carrier delays for Delta Airlines\n",
    "sb.regplot(data = dl_arr_carrier, x = 'arrival_delay', y = 'carrier_delay',\n",
    "           x_jitter = 1, y_jitter = 1, scatter_kws = {'alpha' : 1/10});"
   ]
  },
  {
   "cell_type": "markdown",
   "metadata": {},
   "source": [
    "From what I can see in the scatterplots, it looks like Delta had the higher correlation between carrier delays and both arrival and departure delays, but I will check the correlation coeffecients quickly to check this."
   ]
  },
  {
   "cell_type": "code",
   "execution_count": 141,
   "metadata": {},
   "outputs": [
    {
     "name": "stdout",
     "output_type": "stream",
     "text": [
      "[[1.         0.46733253]\n",
      " [0.46733253 1.        ]] [[1.         0.86409024]\n",
      " [0.86409024 1.        ]] [[1.         0.46834089]\n",
      " [0.46834089 1.        ]] [[1.         0.83741125]\n",
      " [0.83741125 1.        ]]\n"
     ]
    }
   ],
   "source": [
    "wn_dep_corr = np.corrcoef(wn_dep_carrier.departure_delay, wn_dep_carrier.carrier_delay)\n",
    "dl_dep_corr = np.corrcoef(dl_dep_carrier.departure_delay, dl_dep_carrier.carrier_delay)\n",
    "wn_arr_corr = np.corrcoef(wn_arr_carrier.arrival_delay, wn_arr_carrier.carrier_delay)\n",
    "dl_arr_corr = np.corrcoef(dl_arr_carrier.arrival_delay, dl_arr_carrier.carrier_delay)\n",
    "print(wn_dep_corr, dl_dep_corr, wn_arr_corr, dl_arr_corr)"
   ]
  },
  {
   "cell_type": "markdown",
   "metadata": {},
   "source": [
    "Here we can see that the correlation between carrier delays and arrival (0.84) and departure (0.86) delays is much stronger for Delta Airlines than for Southwest (arrival and departure: 0.47). It looks like the reason for delay is much more likely to be due to the carrier for Delta Airlines than for Southwest airlines. It would be interesting to further explore this, in order to get to the root of the cause for so many carrier delays for Delta. What are they doing differently than Southwest?"
   ]
  },
  {
   "cell_type": "markdown",
   "metadata": {},
   "source": [
    "Next, I want to finish up my analysis by looking at a line plot of 2005 and 1990 delays, in order to see how these differ with 15 years in between."
   ]
  },
  {
   "cell_type": "code",
   "execution_count": 144,
   "metadata": {},
   "outputs": [],
   "source": [
    "# I will take samples first from both datasets.\n",
    "df_sample_1990_arr = df_1990_clean_delayed_arrival.sample(n=10000)\n",
    "df_sample_2005_arr = df_2005_clean_delayed_arrival.sample(n=10000)\n",
    "df_sample_1990_dep = df_1990_clean_delayed_departure.sample(n=10000)\n",
    "df_sample_2005_dep = df_2005_clean_delayed_departure.sample(n=10000)"
   ]
  },
  {
   "cell_type": "code",
   "execution_count": 145,
   "metadata": {},
   "outputs": [],
   "source": [
    "# I create separate dfs for arrivals/departures for total delayed minutes for 1990 and 2005 dfs\n",
    "df_1990_plot_arr = df_sample_1990_arr.groupby(['month']).arrival_delay.sum().reset_index('month')\n",
    "df_2005_plot_arr = df_sample_2005_arr.groupby(['month']).arrival_delay.sum().reset_index('month')\n",
    "df_1990_plot_dep = df_sample_1990_dep.groupby(['month']).departure_delay.sum().reset_index('month')\n",
    "df_2005_plot_dep = df_sample_2005_dep.groupby(['month']).departure_delay.sum().reset_index('month')"
   ]
  },
  {
   "cell_type": "code",
   "execution_count": 147,
   "metadata": {},
   "outputs": [
    {
     "data": {
      "image/png": "[encoded data removed]",
      "text/plain": [
       "<Figure size 432x288 with 1 Axes>"
      ]
     },
     "metadata": {
      "needs_background": "light"
     },
     "output_type": "display_data"
    }
   ],
   "source": [
    "months_str = ['Jan', 'Feb', 'Mar', 'Apr', 'May', 'Jun','Jul', 'Aug', 'Sep', 'Oct', 'Nov', 'Dec']\n",
    "# I want the month names and not the numbers\n",
    "plt.plot(months_str, df_1990_plot_arr['arrival_delay'], color='orange') # differentiating lines with color\n",
    "plt.plot(months_str, df_2005_plot_arr['arrival_delay'], color='blue')\n",
    "plt.xlabel('\\nMonths')\n",
    "plt.ylabel('Total arrival delay(min)\\n')\n",
    "plt.title('Total arrival delay (min/month)\\n')\n",
    "plt.legend(['1990', '2005'])\n",
    "plt.show()"
   ]
  },
  {
   "cell_type": "code",
   "execution_count": 148,
   "metadata": {},
   "outputs": [
    {
     "data": {
      "image/png": "[encoded data removed]",
      "text/plain": [
       "<Figure size 432x288 with 1 Axes>"
      ]
     },
     "metadata": {
      "needs_background": "light"
     },
     "output_type": "display_data"
    }
   ],
   "source": [
    "plt.plot(months_str, df_1990_plot_dep['departure_delay'], color='orange') # differentiating lines with color\n",
    "plt.plot(months_str, df_2005_plot_dep['departure_delay'], color='blue')\n",
    "plt.xlabel('\\nMonths')\n",
    "plt.ylabel('Total departure delay (min)\\n')\n",
    "plt.title('Total departure delay (min/month)\\n')\n",
    "plt.legend(['1990', '2005'])\n",
    "plt.show()"
   ]
  },
  {
   "cell_type": "markdown",
   "metadata": {},
   "source": [
    "We can see in these graphs, that 2005 had more delayed minutes than 1990 in all months except for February arrival delays, where 1990 surpassed 2005 very slightly. The general shape of the lines for both years in both graphs are pretty similar, with similar peaks and valleys, except for January-March for both arrival and departure delays. It is interesting to see the differences here: what was at the root of the cause for these? I imagine that the higher number of delays in 2005 versus 1990 are due to a higher number of flights which would in turn likely lead to a higher number of delays, especially in the summer months, where the peak length of departure delay takes place in July."
   ]
  },
  {
   "cell_type": "markdown",
   "metadata": {},
   "source": [
    "### Talk about some of the relationships you observed in this part of the investigation. Were there features that strengthened each other in terms of looking at your feature(s) of interest?\n",
    "\n",
    "> I found that late aircraft delays appear to be attributed to the longest delay lengths on a daily basis, that the major delay reason for Delta Airlines flights is due to the carrier, and that 2005 had overall many more minutes of delay than 1990. Late aircraft delay appears to be a strong contender for flight delays, both in terms of departures, and arrivals (at least for the 2005 data), and in the multibar graph, again it showed that both the number of delays as well as length of delays were highest on Thursdays and Fridays.\n",
    "\n",
    "### Were there any interesting or surprising interactions between features?\n",
    "\n",
    "> It was interesting to see the significant difference in correlation coeffecients for the top 2 airlines with the most delays. Although Southwest had the most delays, it seems a much higher proportion of these were caused by other delay factors besides carrier delays, whereas a large proportion of the Delta delays were due to the carrier. I also found it interesting that the months with longest delays were generally the same between 1990 and 2005, and I imagine this would likely be the same today too. "
   ]
  },
  {
   "cell_type": "code",
   "execution_count": null,
   "metadata": {},
   "outputs": [],
   "source": []
  }
 ],
 "metadata": {
  "kernelspec": {
   "display_name": "Python 3",
   "language": "python",
   "name": "python3"
  },
  "language_info": {
   "codemirror_mode": {
    "name": "ipython",
    "version": 3
   },
   "file_extension": ".py",
   "mimetype": "text/x-python",
   "name": "python",
   "nbconvert_exporter": "python",
   "pygments_lexer": "ipython3",
   "version": "3.8.2"
  }
 },
 "nbformat": 4,
 "nbformat_minor": 2
}
