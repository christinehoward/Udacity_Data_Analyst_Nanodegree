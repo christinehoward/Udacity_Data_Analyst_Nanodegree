{
 "cells": [
  {
   "cell_type": "markdown",
   "metadata": {
    "slideshow": {
     "slide_type": "slide"
    }
   },
   "source": [
    "# Effects of Delay Types and Time on Arrival Flight Delays\n",
    "## by Christine Howard"
   ]
  },
  {
   "cell_type": "markdown",
   "metadata": {
    "slideshow": {
     "slide_type": "slide"
    }
   },
   "source": [
    "## Investigation Overview\n",
    "\n",
    "> I will be investigating various factors to analyze their effect on arrival flight delays in 2005. I will focus my analysis around the delay reasons given in the dataset (carrier delay, weather delay, nas delay, security delay, and late aircraft delay), as well as measures of time (day of the week and month of the year)in order to see what factors contribute towards arrival delays.\n",
    "\n",
    "## Dataset Overview\n",
    "\n",
    "> I will be working with the Flights dataset, which looks at millions of flights over nearly 2 decades and provides delayed information for each flight. The dataset is focused around flight delays."
   ]
  },
  {
   "cell_type": "code",
   "execution_count": 4,
   "metadata": {
    "slideshow": {
     "slide_type": "skip"
    }
   },
   "outputs": [],
   "source": [
    "# import all packages and set plots to be embedded inline\n",
    "import numpy as np\n",
    "import pandas as pd\n",
    "import matplotlib.pyplot as plt\n",
    "import seaborn as sb\n",
    "\n",
    "%matplotlib inline\n",
    "\n",
    "# suppress warnings from final output\n",
    "import warnings\n",
    "warnings.simplefilter(\"ignore\")"
   ]
  },
  {
   "cell_type": "code",
   "execution_count": 5,
   "metadata": {
    "slideshow": {
     "slide_type": "skip"
    }
   },
   "outputs": [],
   "source": [
    "# load in the dataset into a pandas dataframe\n",
    "df_1990 = pd.read_csv('1990.csv')\n",
    "df_2005 = pd.read_csv('2005.csv')"
   ]
  },
  {
   "cell_type": "code",
   "execution_count": 6,
   "metadata": {
    "slideshow": {
     "slide_type": "skip"
    }
   },
   "outputs": [],
   "source": [
    "df_1990_clean = df_1990.copy()\n",
    "df_2005_clean = df_2005.copy()\n",
    "df_2005_clean.drop_duplicates(inplace=True) # dropping duplicates"
   ]
  },
  {
   "cell_type": "code",
   "execution_count": 7,
   "metadata": {
    "slideshow": {
     "slide_type": "skip"
    }
   },
   "outputs": [],
   "source": [
    "# drop rows where values in Cancelled column are 1, meaning flights were canceled.\n",
    "df_1990_clean.drop(df_1990_clean[df_1990_clean.Cancelled == 1].index, inplace=True)\n",
    "df_2005_clean.drop(df_2005_clean[df_2005_clean.Cancelled == 1].index, inplace=True)"
   ]
  },
  {
   "cell_type": "code",
   "execution_count": 8,
   "metadata": {
    "slideshow": {
     "slide_type": "skip"
    }
   },
   "outputs": [],
   "source": [
    "columns_to_drop = ['FlightNum', 'TailNum', 'Cancelled', 'CancellationCode']\n",
    "df_1990_clean = df_1990_clean.drop(columns_to_drop, axis=1)\n",
    "columns_to_drop = ['FlightNum', 'TailNum', 'Cancelled', 'CancellationCode']\n",
    "df_2005_clean = df_2005_clean.drop(columns_to_drop, axis=1)"
   ]
  },
  {
   "cell_type": "code",
   "execution_count": 9,
   "metadata": {
    "slideshow": {
     "slide_type": "slide"
    }
   },
   "outputs": [
    {
     "data": {
      "text/html": [
       "<div>\n",
       "<style scoped>\n",
       "    .dataframe tbody tr th:only-of-type {\n",
       "        vertical-align: middle;\n",
       "    }\n",
       "\n",
       "    .dataframe tbody tr th {\n",
       "        vertical-align: top;\n",
       "    }\n",
       "\n",
       "    .dataframe thead th {\n",
       "        text-align: right;\n",
       "    }\n",
       "</style>\n",
       "<table border=\"1\" class=\"dataframe\">\n",
       "  <thead>\n",
       "    <tr style=\"text-align: right;\">\n",
       "      <th></th>\n",
       "      <th>ArrDelay</th>\n",
       "      <th>DepDelay</th>\n",
       "    </tr>\n",
       "  </thead>\n",
       "  <tbody>\n",
       "    <tr>\n",
       "      <th>0</th>\n",
       "      <td>3.0</td>\n",
       "      <td>34.0</td>\n",
       "    </tr>\n",
       "    <tr>\n",
       "      <th>1</th>\n",
       "      <td>97.0</td>\n",
       "      <td>102.0</td>\n",
       "    </tr>\n",
       "    <tr>\n",
       "      <th>2</th>\n",
       "      <td>85.0</td>\n",
       "      <td>106.0</td>\n",
       "    </tr>\n",
       "    <tr>\n",
       "      <th>3</th>\n",
       "      <td>105.0</td>\n",
       "      <td>130.0</td>\n",
       "    </tr>\n",
       "    <tr>\n",
       "      <th>4</th>\n",
       "      <td>12.0</td>\n",
       "      <td>-1.0</td>\n",
       "    </tr>\n",
       "    <tr>\n",
       "      <th>...</th>\n",
       "      <td>...</td>\n",
       "      <td>...</td>\n",
       "    </tr>\n",
       "    <tr>\n",
       "      <th>3601825</th>\n",
       "      <td>3.0</td>\n",
       "      <td>0.0</td>\n",
       "    </tr>\n",
       "    <tr>\n",
       "      <th>3601826</th>\n",
       "      <td>10.0</td>\n",
       "      <td>8.0</td>\n",
       "    </tr>\n",
       "    <tr>\n",
       "      <th>3601827</th>\n",
       "      <td>6.0</td>\n",
       "      <td>-1.0</td>\n",
       "    </tr>\n",
       "    <tr>\n",
       "      <th>3601828</th>\n",
       "      <td>10.0</td>\n",
       "      <td>0.0</td>\n",
       "    </tr>\n",
       "    <tr>\n",
       "      <th>3601829</th>\n",
       "      <td>7.0</td>\n",
       "      <td>1.0</td>\n",
       "    </tr>\n",
       "  </tbody>\n",
       "</table>\n",
       "<p>3601830 rows × 2 columns</p>\n",
       "</div>"
      ],
      "text/plain": [
       "         ArrDelay  DepDelay\n",
       "0             3.0      34.0\n",
       "1            97.0     102.0\n",
       "2            85.0     106.0\n",
       "3           105.0     130.0\n",
       "4            12.0      -1.0\n",
       "...           ...       ...\n",
       "3601825       3.0       0.0\n",
       "3601826      10.0       8.0\n",
       "3601827       6.0      -1.0\n",
       "3601828      10.0       0.0\n",
       "3601829       7.0       1.0\n",
       "\n",
       "[3601830 rows x 2 columns]"
      ]
     },
     "execution_count": 9,
     "metadata": {},
     "output_type": "execute_result"
    }
   ],
   "source": [
    "# I found an intersection function I will use to delete columns in which both the departures/arrivals columns had values <= 0\n",
    "def intersection(lst1, lst2): \n",
    "    lst3 = [value for value in lst1 if value in lst2] \n",
    "    return lst3 \n",
    "\n",
    "arrival_notdelayed = df_2005_clean[df_2005_clean.ArrDelay <= 0].index\n",
    "# find the index of all of the rows in ArrDelay column that are <= 0\n",
    "departure_notdelayed = df_2005_clean[df_2005_clean.DepDelay <= 0].index\n",
    "# find the index of all of the rows in DepDelay column that are <= 0\n",
    "\n",
    "df_2005_clean_delayed = df_2005_clean.drop(intersection(arrival_notdelayed, departure_notdelayed))\n",
    "# I match the ones that have in both the ArrDelay and DepDelay columns values <= 0.\n",
    "# this means that these flights departed and arrived either early, or on time, and neither the arrival nor departure were delayed.\n",
    "# I found an intersection function I will use to delete columns in which both the departures/arrivals columns had values <= 0\n",
    "def intersection(lst1, lst2): \n",
    "    lst3 = [value for value in lst1 if value in lst2] \n",
    "    return lst3 \n",
    "\n",
    "arrival_notdelayed = df_2005_clean[df_2005_clean.ArrDelay <= 0].index\n",
    "# find the index of all of the rows in ArrDelay column that are <= 0\n",
    "departure_notdelayed = df_2005_clean[df_2005_clean.DepDelay <= 0].index\n",
    "# find the index of all of the rows in DepDelay column that are <= 0\n",
    "\n",
    "df_2005_clean_delayed = df_2005_clean.drop(intersection(arrival_notdelayed, departure_notdelayed))\n",
    "# I match the ones that have in both the ArrDelay and DepDelay columns values <= 0.\n",
    "# this means that these flights departed and arrived either early, or on time, and neither the arrival nor departure were delayed.\n",
    "df_2005_clean_delayed[['ArrDelay', 'DepDelay']].reset_index(drop=True)\n",
    "# the first 4 rows in the df_2005_clean had negative values in both columns originally\n",
    "# I can check the new head for these columns to see if there are still negative values\n",
    "# I also want to reset index so that I do not hold on to the old row indexes"
   ]
  },
  {
   "cell_type": "code",
   "execution_count": 10,
   "metadata": {
    "slideshow": {
     "slide_type": "skip"
    }
   },
   "outputs": [
    {
     "data": {
      "text/html": [
       "<div>\n",
       "<style scoped>\n",
       "    .dataframe tbody tr th:only-of-type {\n",
       "        vertical-align: middle;\n",
       "    }\n",
       "\n",
       "    .dataframe tbody tr th {\n",
       "        vertical-align: top;\n",
       "    }\n",
       "\n",
       "    .dataframe thead th {\n",
       "        text-align: right;\n",
       "    }\n",
       "</style>\n",
       "<table border=\"1\" class=\"dataframe\">\n",
       "  <thead>\n",
       "    <tr style=\"text-align: right;\">\n",
       "      <th></th>\n",
       "      <th>ArrDelay</th>\n",
       "      <th>DepDelay</th>\n",
       "    </tr>\n",
       "  </thead>\n",
       "  <tbody>\n",
       "    <tr>\n",
       "      <th>0</th>\n",
       "      <td>32.0</td>\n",
       "      <td>37.0</td>\n",
       "    </tr>\n",
       "    <tr>\n",
       "      <th>1</th>\n",
       "      <td>44.0</td>\n",
       "      <td>36.0</td>\n",
       "    </tr>\n",
       "    <tr>\n",
       "      <th>2</th>\n",
       "      <td>-5.0</td>\n",
       "      <td>3.0</td>\n",
       "    </tr>\n",
       "    <tr>\n",
       "      <th>3</th>\n",
       "      <td>3.0</td>\n",
       "      <td>0.0</td>\n",
       "    </tr>\n",
       "    <tr>\n",
       "      <th>4</th>\n",
       "      <td>55.0</td>\n",
       "      <td>64.0</td>\n",
       "    </tr>\n",
       "    <tr>\n",
       "      <th>...</th>\n",
       "      <td>...</td>\n",
       "      <td>...</td>\n",
       "    </tr>\n",
       "    <tr>\n",
       "      <th>3307375</th>\n",
       "      <td>17.0</td>\n",
       "      <td>23.0</td>\n",
       "    </tr>\n",
       "    <tr>\n",
       "      <th>3307376</th>\n",
       "      <td>13.0</td>\n",
       "      <td>22.0</td>\n",
       "    </tr>\n",
       "    <tr>\n",
       "      <th>3307377</th>\n",
       "      <td>32.0</td>\n",
       "      <td>39.0</td>\n",
       "    </tr>\n",
       "    <tr>\n",
       "      <th>3307378</th>\n",
       "      <td>-1.0</td>\n",
       "      <td>17.0</td>\n",
       "    </tr>\n",
       "    <tr>\n",
       "      <th>3307379</th>\n",
       "      <td>5.0</td>\n",
       "      <td>11.0</td>\n",
       "    </tr>\n",
       "  </tbody>\n",
       "</table>\n",
       "<p>3307380 rows × 2 columns</p>\n",
       "</div>"
      ],
      "text/plain": [
       "         ArrDelay  DepDelay\n",
       "0            32.0      37.0\n",
       "1            44.0      36.0\n",
       "2            -5.0       3.0\n",
       "3             3.0       0.0\n",
       "4            55.0      64.0\n",
       "...           ...       ...\n",
       "3307375      17.0      23.0\n",
       "3307376      13.0      22.0\n",
       "3307377      32.0      39.0\n",
       "3307378      -1.0      17.0\n",
       "3307379       5.0      11.0\n",
       "\n",
       "[3307380 rows x 2 columns]"
      ]
     },
     "execution_count": 10,
     "metadata": {},
     "output_type": "execute_result"
    }
   ],
   "source": [
    "def intersection(lst1, lst2): \n",
    "    lst3 = [value for value in lst1 if value in lst2] \n",
    "    return lst3 \n",
    "\n",
    "arrival_notdelayed = df_1990_clean[df_1990_clean.ArrDelay <= 0].index\n",
    "departure_notdelayed = df_1990_clean[df_1990_clean.DepDelay <= 0].index\n",
    "\n",
    "df_1990_clean_delayed = df_1990_clean.drop(intersection(arrival_notdelayed, departure_notdelayed))\n",
    "df_1990_clean_delayed[['ArrDelay', 'DepDelay']].reset_index(drop=True)"
   ]
  },
  {
   "cell_type": "code",
   "execution_count": 11,
   "metadata": {
    "slideshow": {
     "slide_type": "skip"
    }
   },
   "outputs": [],
   "source": [
    "df_1990_clean_delayed.rename(columns=lambda x: x.lower(), inplace=True) \n",
    "# I use a lambda function to make all column names lowercase, in place"
   ]
  },
  {
   "cell_type": "code",
   "execution_count": 12,
   "metadata": {
    "slideshow": {
     "slide_type": "skip"
    }
   },
   "outputs": [],
   "source": [
    "df_2005_clean_delayed.rename(columns=lambda x: x.lower(), inplace=True) # I'll repeat the process for the other df\n",
    "# now I will rename the columns to make them more descriptive/easier to type and remember\n",
    "df_1990_clean_delayed.rename(columns={'dayofmonth': 'day_of_month', 'dayofweek': 'day_of_week', 'deptime': 'departure_time',\n",
    "                                     'crsdeptime': 'scheduled_dep_time', 'arrtime': 'arrival_time', \n",
    "                                     'crsarrtime': 'scheduled_arr_time', 'uniquecarrier': 'carrier', \n",
    "                                      'actualelapsedtime': 'actual_elapsed_time', 'crselapsedtime': 'scheduled_elapsed_time',\n",
    "                                      'arrdelay': 'arrival_delay', 'depdelay': 'departure_delay', 'dest': 'destination',\n",
    "                                      'taxiin': 'taxi_in', 'taxiout': 'taxi_out', 'carrierdelay': 'carrier_delay',\n",
    "                                      'weatherdelay': 'weather_delay', 'nasdelay': 'nas_delay', 'securitydelay': 'security_delay',\n",
    "                                      'lateaircraftdelay' : 'late_aircraft_delay'}, inplace=True)\n",
    "\n",
    "# repeating this for the other df\n",
    "df_2005_clean_delayed.rename(columns={'dayofmonth': 'day_of_month', 'dayofweek': 'day_of_week', 'deptime': 'departure_time',\n",
    "                                     'crsdeptime': 'scheduled_dep_time', 'arrtime': 'arrival_time', \n",
    "                                     'crsarrtime': 'scheduled_arr_time', 'uniquecarrier': 'carrier', \n",
    "                                      'actualelapsedtime': 'actual_elapsed_time', 'crselapsedtime': 'scheduled_elapsed_time',\n",
    "                                      'arrdelay': 'arrival_delay', 'depdelay': 'departure_delay', 'dest': 'destination',\n",
    "                                      'taxiin': 'taxi_in', 'taxiout': 'taxi_out', 'carrierdelay': 'carrier_delay',\n",
    "                                      'weatherdelay': 'weather_delay', 'nasdelay': 'nas_delay', 'securitydelay': 'security_delay',\n",
    "                                      'lateaircraftdelay' : 'late_aircraft_delay'}, inplace=True)"
   ]
  },
  {
   "cell_type": "code",
   "execution_count": 13,
   "metadata": {
    "slideshow": {
     "slide_type": "skip"
    }
   },
   "outputs": [],
   "source": [
    "df_2005_clean_delayed_arrival = df_2005_clean_delayed[df_2005_clean_delayed['arrival_delay'] > 0]\n",
    "df_2005_clean_delayed_departure = df_2005_clean_delayed[df_2005_clean_delayed['departure_delay'] > 0]\n",
    "# this will give me 2 new dfs: 1 with flights that had arrival delays, and 1 only with flights that had departure delays.\n",
    "# many of flights will likely exist in both dfs.\n",
    "\n",
    "df_2005_clean_delayed_arrival.reset_index(drop=True, inplace=True) # reset indexes for new dfs\n",
    "df_2005_clean_delayed_departure.reset_index(drop=True, inplace=True)"
   ]
  },
  {
   "cell_type": "markdown",
   "metadata": {
    "slideshow": {
     "slide_type": "slide"
    }
   },
   "source": [
    "## Total arrival delays for different reasons\n",
    "\n",
    "> The delay type with the most delays is an NAS delay. An NAS delay is defined as: \"Delays and cancellations attributable to the National Aviation System (NAS) that refer to a broad set of conditions, such as non-extreme weather conditions, airport operations, heavy traffic volume, and air traffic control.\"<br><br>\n",
    "This kind of delay covers a wide range of different delays, and it makes sense then that this delay would then have the highest count of delays. NAS delays appear to delay arrivals significantly more often than departures, and I could imagine this is likely due to planes needing to be delayed in the air for reasons like unsafe landing conditions due to weather, no place for the plane to land due to traffice, and so on."
   ]
  },
  {
   "cell_type": "code",
   "execution_count": 20,
   "metadata": {
    "slideshow": {
     "slide_type": "subslide"
    }
   },
   "outputs": [
    {
     "data": {
      "image/png": "[encoded data removed]",
      "text/plain": [
       "<Figure size 648x432 with 1 Axes>"
      ]
     },
     "metadata": {
      "needs_background": "light"
     },
     "output_type": "display_data"
    }
   ],
   "source": [
    "# first, I will find the counts for each delay reason. \n",
    "# I will filter out minutes of delay not greater than 0, as this would indicate this did not cause the flight to be delayed.\n",
    "\n",
    "carrier_count = df_2005_clean_delayed_arrival.carrier_delay[df_2005_clean_delayed_arrival.carrier_delay>0].count()\n",
    "weather_count = df_2005_clean_delayed_arrival.weather_delay[df_2005_clean_delayed_arrival.weather_delay>0].count()\n",
    "nas_count = df_2005_clean_delayed_arrival.nas_delay[df_2005_clean_delayed_arrival.nas_delay>0].count()\n",
    "security_count = df_2005_clean_delayed_arrival.security_delay[df_2005_clean_delayed_arrival.security_delay>0].count()\n",
    "late_count = df_2005_clean_delayed_arrival.late_aircraft_delay[df_2005_clean_delayed_arrival.late_aircraft_delay>0].count()\n",
    "\n",
    "locations = [0, 1, 2, 3, 4]\n",
    "heights = sorted([carrier_count, weather_count, nas_count, security_count,late_count], reverse=True)\n",
    "# using counts above as heights for bars\n",
    "width = 9 # labels are long, so I will set a wide chart width.\n",
    "height = 6\n",
    "\n",
    "plt.figure(figsize=(width, height))\n",
    "plt.bar(locations, heights, tick_label=[\"NAS delay\", \"Carrier delay\", \"Late aircraft delay\", \"Weather delay\", \"Security delay\"])\n",
    "plt.title(\"Total count of arrival delays for different reasons\\n\")\n",
    "plt.xlabel(\"\\nReasons for delay\")\n",
    "plt.ylabel(\"Total delays\\n\");"
   ]
  },
  {
   "cell_type": "markdown",
   "metadata": {
    "slideshow": {
     "slide_type": "slide"
    }
   },
   "source": [
    "## Average arrival delay length for different reasons\n",
    "\n",
    "> After looking at the delay reasons with the highest count of arrival delays, I would like to see which delay types have the longest delays in minutes.<br><br>It is interesting to compare the average delays in minutes for each delay reason to the total number of delays as shown above, as the reasons for delay are in a different order.<br><br>NAS delay no longer has the highest value in the graph, but instead the 2nd lowest average delay length, carrier delay is in 3rd instead of 2nd place, late aircraft delay is in 2nd instead of 3rd place, and weather moves from 4th to 1st place, with the longest average delay durations. Security delays have both the shortest average delays in minutes as well as the fewest delays.<br><br>I had made the assumption, before starting with this analysis, that weather delays would have a significant effect on delays in general, and it looks like this is true at least in terms of delay length, if not for delay count. Late aircraft delay has nearly the same delay length as weather delays, and security delays are nearly half as short as weather delays."
   ]
  },
  {
   "cell_type": "code",
   "execution_count": 24,
   "metadata": {
    "slideshow": {
     "slide_type": "skip"
    }
   },
   "outputs": [],
   "source": [
    "# first I will get the sums and total count of each type of delay in order to get averages\n",
    "carrier_count = df_2005_clean_delayed_arrival.carrier_delay[df_2005_clean_delayed_arrival.carrier_delay>0].count()\n",
    "carrier_sum = df_2005_clean_delayed_arrival.carrier_delay[df_2005_clean_delayed_arrival.carrier_delay>0].sum()\n",
    "carrier_avg_min = carrier_sum/carrier_count\n",
    "\n",
    "weather_count = df_2005_clean_delayed_arrival.weather_delay[df_2005_clean_delayed_arrival.weather_delay>0].count()\n",
    "weather_sum = df_2005_clean_delayed_arrival.weather_delay[df_2005_clean_delayed_arrival.weather_delay>0].sum()\n",
    "weather_avg_min = weather_sum/weather_count\n",
    "\n",
    "nas_count = df_2005_clean_delayed_arrival.nas_delay[df_2005_clean_delayed_arrival.nas_delay>0].count()\n",
    "nas_sum = df_2005_clean_delayed_arrival.nas_delay[df_2005_clean_delayed_arrival.nas_delay>0].sum()\n",
    "nas_avg_min = nas_sum/nas_count\n",
    "\n",
    "security_count = df_2005_clean_delayed_arrival.security_delay[df_2005_clean_delayed_arrival.security_delay>0].count()\n",
    "security_sum = df_2005_clean_delayed_arrival.security_delay[df_2005_clean_delayed_arrival.security_delay>0].sum()\n",
    "security_avg_min = security_sum/security_count\n",
    "\n",
    "late_count = df_2005_clean_delayed_arrival.late_aircraft_delay[df_2005_clean_delayed_arrival.late_aircraft_delay>0].count()\n",
    "late_sum = df_2005_clean_delayed_arrival.late_aircraft_delay[df_2005_clean_delayed_arrival.late_aircraft_delay>0].sum()\n",
    "late_avg_min = late_sum/late_count"
   ]
  },
  {
   "cell_type": "code",
   "execution_count": 25,
   "metadata": {
    "slideshow": {
     "slide_type": "subslide"
    }
   },
   "outputs": [
    {
     "data": {
      "image/png": "[encoded data removed]",
      "text/plain": [
       "<Figure size 648x432 with 1 Axes>"
      ]
     },
     "metadata": {
      "needs_background": "light"
     },
     "output_type": "display_data"
    }
   ],
   "source": [
    "# then I will plot these in a bar graph to compare\n",
    "locations = [0, 1, 2, 3, 4] # 5 bars in total\n",
    "heights = sorted([carrier_avg_min, weather_avg_min, nas_avg_min, security_avg_min, late_avg_min], reverse=True)\n",
    "# I want the bars to be sorted descending, meaning the delay with the largest average delay length first\n",
    "labels = ['weather_delay', 'late_aircraft_delay', 'carrier_delay', 'nas_delay', 'security_delay']\n",
    "# first I printed the sorted heights to see which order the labels should be in, then ordered the labels as such\n",
    "width = 9\n",
    "height = 6 # I want a nice big graph for this\n",
    "\n",
    "plt.figure(figsize=(width, height))\n",
    "plt.bar(locations, heights, tick_label=labels)\n",
    "plt.title(\"Arrival delays for different reasons\\nin average delay length (minutes)\")\n",
    "plt.xlabel(\"\\nReasons for delay\")\n",
    "plt.ylabel(\"Avg. delay length (minutes)\\n\");"
   ]
  },
  {
   "cell_type": "markdown",
   "metadata": {
    "collapsed": true,
    "slideshow": {
     "slide_type": "slide"
    }
   },
   "source": [
    "## Correlations between arrival delays and delay types\n",
    "\n",
    "> This heat map looks at the correlation coeffecients between arrival delays and delay types, and shows that the strongest positive relationships for arrival delay are with late aircraft delay, and then carrier delay. The weakest relationships are also negative ones, between different delay reasons, such as between security and carrier delays."
   ]
  },
  {
   "cell_type": "code",
   "execution_count": 23,
   "metadata": {
    "slideshow": {
     "slide_type": "subslide"
    }
   },
   "outputs": [
    {
     "data": {
      "image/png": "[encoded data removed]",
      "text/plain": [
       "<Figure size 576x360 with 2 Axes>"
      ]
     },
     "metadata": {
      "needs_background": "light"
     },
     "output_type": "display_data"
    }
   ],
   "source": [
    "numeric_vars = ['arrival_delay', 'carrier_delay', 'weather_delay', 'nas_delay', 'security_delay', 'late_aircraft_delay']\n",
    "plt.figure(figsize = [8, 5])\n",
    "sb.heatmap(df_2005_clean_delayed_arrival[numeric_vars].corr(), annot = True, fmt = '.3f',\n",
    "           cmap = 'viridis_r', center = 0)\n",
    "plt.title(\"Correlations between arrival delays and delay types\\n\")\n",
    "plt.show()"
   ]
  },
  {
   "cell_type": "markdown",
   "metadata": {
    "slideshow": {
     "slide_type": "slide"
    }
   },
   "source": [
    "## Arrival delays in minutes based on day of the week\n",
    "\n",
    ">In the next graph, I dove deeper into the relationship not only between arrival delays and delay reasons, but also between these 2 variables and day of the week. I found that there are certain types of delay more often on certain days of the week than on others. The resulting graph is made from a sample of the total dataset, and shows the breakdown of arrival delays by day of the week, based on delay reason. Error bars are included on both graph as we are sampling and mean delay minutes are shown in the graph, meaning there is margin for error.<br><br>Late aircraft delays appear to be the most significant delay on all days except for Wednesday and Saturday. NAS delays and carrier delays then follow, with NAS delays beating out carrier delays more often for arrival delays than departure delays. When looking on a day by day basis like this, it looks like generally, delays are quite short, less than 13 minutes, at least in this current sample. It is helpful to break down these variables into smaller chunks to really zoom in on the data, as based on graphs above, it seemed that delays were frequently longer."
   ]
  },
  {
   "cell_type": "code",
   "execution_count": 14,
   "metadata": {
    "slideshow": {
     "slide_type": "skip"
    }
   },
   "outputs": [],
   "source": [
    "delay_reasons = ['day_of_week', 'carrier_delay', 'weather_delay', 'nas_delay', 'security_delay', 'late_aircraft_delay']\n",
    "multi_bar_arr = df_2005_clean_delayed_arrival[delay_reasons]\n",
    "multi_bar_dep = df_2005_clean_delayed_departure[delay_reasons] # first I select the columns I want to compare\n",
    "\n",
    "arrival_multi_bar = pd.melt(multi_bar_arr, id_vars=\"day_of_week\", var_name=\"delay_reason\", value_name=\"arrival_delay\")\n",
    "departure_multi_bar = pd.melt(multi_bar_dep, id_vars=\"day_of_week\", var_name=\"delay_reason\", value_name=\"departure_delay\")\n",
    "# I melt the delay columns into a single column, delay reason, with the value arrival_delay in order to build the chart.\n",
    "\n",
    "arrival_multi_bar_sample = arrival_multi_bar.sample(n=100000)\n",
    "departure_multi_bar_sample = departure_multi_bar.sample(n=100000) # I will use a sample of 100,000 here"
   ]
  },
  {
   "cell_type": "code",
   "execution_count": 15,
   "metadata": {
    "slideshow": {
     "slide_type": "skip"
    }
   },
   "outputs": [],
   "source": [
    "def number_to_weekdays(df): # here I am using a function to apply the day names to the day of the week column\n",
    "    week_days = ['Monday', 'Tuesday', 'Wednesday', 'Thursday','Friday', 'Saturday', 'Sunday']\n",
    "    df['day_of_week'] = df['day_of_week'].apply(lambda x: week_days[x - 1]) # I use x-1 as the indexing starts with 0\n",
    "    return df\n",
    "\n",
    "arrival_multi_bar_sample = number_to_weekdays(arrival_multi_bar_sample) # I apply this to the dfs\n",
    "departure_multi_bar_sample = number_to_weekdays(departure_multi_bar_sample)"
   ]
  },
  {
   "cell_type": "code",
   "execution_count": 16,
   "metadata": {
    "slideshow": {
     "slide_type": "subslide"
    }
   },
   "outputs": [
    {
     "data": {
      "image/png": "[encoded data removed]",
      "text/plain": [
       "<Figure size 1008x576 with 1 Axes>"
      ]
     },
     "metadata": {
      "needs_background": "light"
     },
     "output_type": "display_data"
    }
   ],
   "source": [
    "x_marker = ['Monday', 'Tuesday', 'Wednesday', 'Thursday','Friday', 'Saturday', 'Sunday']\n",
    "# I want the bars to be in order from Monday-Sunday\n",
    "plot = sb.catplot(x='day_of_week', y='arrival_delay', hue='delay_reason', hue_order=['late_aircraft_delay', 'nas_delay', 'carrier_delay', 'weather_delay', 'security_delay'], \n",
    "                  legend_out=False, data=arrival_multi_bar_sample, kind='bar', order=x_marker, palette = 'Blues_r')\n",
    "# I want the day of the week on the x, the delay reason to be the hue, I set the hue order, indicate I want the legend\n",
    "# on my graph (not separate) and use blue reversed color palette \n",
    "plot.fig.suptitle('Arrival delays in minutes based on day of the week')\n",
    "plot.set_axis_labels('\\nDay of the Week', 'Arrival Delay (min)\\n')\n",
    "plot.fig.set_figwidth(14)\n",
    "plot.fig.set_figheight(8) # I want a nice large graph as I am showing lots of information"
   ]
  },
  {
   "cell_type": "code",
   "execution_count": null,
   "metadata": {},
   "outputs": [],
   "source": []
  }
 ],
 "metadata": {
  "celltoolbar": "Slideshow",
  "kernelspec": {
   "display_name": "Python 3",
   "language": "python",
   "name": "python3"
  },
  "language_info": {
   "codemirror_mode": {
    "name": "ipython",
    "version": 3
   },
   "file_extension": ".py",
   "mimetype": "text/x-python",
   "name": "python",
   "nbconvert_exporter": "python",
   "pygments_lexer": "ipython3",
   "version": "3.8.2"
  }
 },
 "nbformat": 4,
 "nbformat_minor": 2
}
