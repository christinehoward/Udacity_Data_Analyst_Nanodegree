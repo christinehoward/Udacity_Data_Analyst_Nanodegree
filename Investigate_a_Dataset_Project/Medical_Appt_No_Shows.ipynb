{
 "cells": [
  {
   "cell_type": "markdown",
   "metadata": {},
   "source": [
    "# Project: Investigating the Kaggle Dataset on No-Show Appointments\n",
    "\n",
    "## Table of Contents\n",
    "<ul>\n",
    "<li><a href=\"#intro\">Introduction</a></li>\n",
    "<li><a href=\"#wrangling\">Data Wrangling</a></li>\n",
    "<li><a href=\"#eda\">Exploratory Data Analysis</a></li>\n",
    "<li><a href=\"#conclusions\">Conclusions</a></li>\n",
    "</ul>"
   ]
  },
  {
   "cell_type": "markdown",
   "metadata": {},
   "source": [
    "<a id='intro'></a>\n",
    "## Introduction\n",
    "\n",
    "In this report I will investigate the  Kaggle Medical Appointment No Shows dataset, which collected information from over 100k medical appointments in Brazil, and focused on whether patients showed up to their appointment or not. There are characteristics about each patient in the rows.<br><br>\n",
    "The descriptions of each column are as follows (from Kaggle):\n",
    ">01 - PatientId: Identification of a patient<br>\n",
    "02 - AppointmentID: Identification of each appointment<br>\n",
    "03 - Gender: Male or Female<br>\n",
    "05 - ScheduledDay: The day someone called or registered the appointment, this is before appointment of course.<br>\n",
    "04 - AppointmentDay: The day of the actual appointment, when they have to visit the doctor.<br>\n",
    "06 - Age: How old is the patient.<br>\n",
    "07 - Neighbourhood: Where the appointment takes place.<br>\n",
    "08 - Scholarship: True or False. In the dataset-set-options document we were given, it states \"‘Scholarship’ indicates\n",
    "whether or not the patient is enrolled in Brasilian welfare program Bolsa Família.\"<br>\n",
    "09 - Hipertension: True or False<br>\n",
    "10 - Diabetes: True or False<br>\n",
    "11 - Alcoholism: True or False<br>\n",
    "12 - Handicap: True or False<br>\n",
    "13 - SMS_received: 1 or more messages sent to the patient, True or False.<br>\n",
    "14 - No-show: True or False. No = showed, and Yes = did not show.<br>\n",
    "Although not specified in the Kaggle page or dataset-set-options document, we will consider True = 1 and False = 0.\n",
    "\n",
    "The dependent variable I will be focusing on in my analysis will be No-show, and for the independent variables I will look at age, neighbourhood, and whether patients received an SMS message or not to see if there are correlations between these factors and whether a patient shows up to their appointment or not.\n",
    "\n",
    "I will answer the following questions:<br>\n",
    "1. What proportion of patients did not show up to their appointments?<br>\n",
    "2. Which neighbourhoods have the most no-shows?\n",
    "3. Does receiving an SMS message about their appointment, influence whether patients are more likely to show up for their appointments?\n",
    "4. Do older patients tend to miss their appointments more than younger patients?"
   ]
  },
  {
   "cell_type": "code",
   "execution_count": 779,
   "metadata": {},
   "outputs": [],
   "source": [
    "import numpy as np\n",
    "import pandas as pd\n",
    "import matplotlib.pyplot as plt\n",
    "import seaborn as sns\n",
    "%matplotlib inline\n",
    "\n",
    "df = pd.read_csv('noshowappointments-kagglev2-may-2016.csv')"
   ]
  },
  {
   "cell_type": "markdown",
   "metadata": {},
   "source": [
    "First I import the packages I will be using as well as the CSV for my dataset, and I want to quickly look at the first few rows."
   ]
  },
  {
   "cell_type": "code",
   "execution_count": 780,
   "metadata": {},
   "outputs": [
    {
     "data": {
      "text/html": [
       "<div>\n",
       "<style scoped>\n",
       "    .dataframe tbody tr th:only-of-type {\n",
       "        vertical-align: middle;\n",
       "    }\n",
       "\n",
       "    .dataframe tbody tr th {\n",
       "        vertical-align: top;\n",
       "    }\n",
       "\n",
       "    .dataframe thead th {\n",
       "        text-align: right;\n",
       "    }\n",
       "</style>\n",
       "<table border=\"1\" class=\"dataframe\">\n",
       "  <thead>\n",
       "    <tr style=\"text-align: right;\">\n",
       "      <th></th>\n",
       "      <th>PatientId</th>\n",
       "      <th>AppointmentID</th>\n",
       "      <th>Gender</th>\n",
       "      <th>ScheduledDay</th>\n",
       "      <th>AppointmentDay</th>\n",
       "      <th>Age</th>\n",
       "      <th>Neighbourhood</th>\n",
       "      <th>Scholarship</th>\n",
       "      <th>Hipertension</th>\n",
       "      <th>Diabetes</th>\n",
       "      <th>Alcoholism</th>\n",
       "      <th>Handcap</th>\n",
       "      <th>SMS_received</th>\n",
       "      <th>No-show</th>\n",
       "    </tr>\n",
       "  </thead>\n",
       "  <tbody>\n",
       "    <tr>\n",
       "      <th>0</th>\n",
       "      <td>2.987250e+13</td>\n",
       "      <td>5642903</td>\n",
       "      <td>F</td>\n",
       "      <td>2016-04-29T18:38:08Z</td>\n",
       "      <td>2016-04-29T00:00:00Z</td>\n",
       "      <td>62</td>\n",
       "      <td>JARDIM DA PENHA</td>\n",
       "      <td>0</td>\n",
       "      <td>1</td>\n",
       "      <td>0</td>\n",
       "      <td>0</td>\n",
       "      <td>0</td>\n",
       "      <td>0</td>\n",
       "      <td>No</td>\n",
       "    </tr>\n",
       "    <tr>\n",
       "      <th>1</th>\n",
       "      <td>5.589978e+14</td>\n",
       "      <td>5642503</td>\n",
       "      <td>M</td>\n",
       "      <td>2016-04-29T16:08:27Z</td>\n",
       "      <td>2016-04-29T00:00:00Z</td>\n",
       "      <td>56</td>\n",
       "      <td>JARDIM DA PENHA</td>\n",
       "      <td>0</td>\n",
       "      <td>0</td>\n",
       "      <td>0</td>\n",
       "      <td>0</td>\n",
       "      <td>0</td>\n",
       "      <td>0</td>\n",
       "      <td>No</td>\n",
       "    </tr>\n",
       "    <tr>\n",
       "      <th>2</th>\n",
       "      <td>4.262962e+12</td>\n",
       "      <td>5642549</td>\n",
       "      <td>F</td>\n",
       "      <td>2016-04-29T16:19:04Z</td>\n",
       "      <td>2016-04-29T00:00:00Z</td>\n",
       "      <td>62</td>\n",
       "      <td>MATA DA PRAIA</td>\n",
       "      <td>0</td>\n",
       "      <td>0</td>\n",
       "      <td>0</td>\n",
       "      <td>0</td>\n",
       "      <td>0</td>\n",
       "      <td>0</td>\n",
       "      <td>No</td>\n",
       "    </tr>\n",
       "    <tr>\n",
       "      <th>3</th>\n",
       "      <td>8.679512e+11</td>\n",
       "      <td>5642828</td>\n",
       "      <td>F</td>\n",
       "      <td>2016-04-29T17:29:31Z</td>\n",
       "      <td>2016-04-29T00:00:00Z</td>\n",
       "      <td>8</td>\n",
       "      <td>PONTAL DE CAMBURI</td>\n",
       "      <td>0</td>\n",
       "      <td>0</td>\n",
       "      <td>0</td>\n",
       "      <td>0</td>\n",
       "      <td>0</td>\n",
       "      <td>0</td>\n",
       "      <td>No</td>\n",
       "    </tr>\n",
       "    <tr>\n",
       "      <th>4</th>\n",
       "      <td>8.841186e+12</td>\n",
       "      <td>5642494</td>\n",
       "      <td>F</td>\n",
       "      <td>2016-04-29T16:07:23Z</td>\n",
       "      <td>2016-04-29T00:00:00Z</td>\n",
       "      <td>56</td>\n",
       "      <td>JARDIM DA PENHA</td>\n",
       "      <td>0</td>\n",
       "      <td>1</td>\n",
       "      <td>1</td>\n",
       "      <td>0</td>\n",
       "      <td>0</td>\n",
       "      <td>0</td>\n",
       "      <td>No</td>\n",
       "    </tr>\n",
       "  </tbody>\n",
       "</table>\n",
       "</div>"
      ],
      "text/plain": [
       "      PatientId  AppointmentID Gender          ScheduledDay  \\\n",
       "0  2.987250e+13        5642903      F  2016-04-29T18:38:08Z   \n",
       "1  5.589978e+14        5642503      M  2016-04-29T16:08:27Z   \n",
       "2  4.262962e+12        5642549      F  2016-04-29T16:19:04Z   \n",
       "3  8.679512e+11        5642828      F  2016-04-29T17:29:31Z   \n",
       "4  8.841186e+12        5642494      F  2016-04-29T16:07:23Z   \n",
       "\n",
       "         AppointmentDay  Age      Neighbourhood  Scholarship  Hipertension  \\\n",
       "0  2016-04-29T00:00:00Z   62    JARDIM DA PENHA            0             1   \n",
       "1  2016-04-29T00:00:00Z   56    JARDIM DA PENHA            0             0   \n",
       "2  2016-04-29T00:00:00Z   62      MATA DA PRAIA            0             0   \n",
       "3  2016-04-29T00:00:00Z    8  PONTAL DE CAMBURI            0             0   \n",
       "4  2016-04-29T00:00:00Z   56    JARDIM DA PENHA            0             1   \n",
       "\n",
       "   Diabetes  Alcoholism  Handcap  SMS_received No-show  \n",
       "0         0           0        0             0      No  \n",
       "1         0           0        0             0      No  \n",
       "2         0           0        0             0      No  \n",
       "3         0           0        0             0      No  \n",
       "4         1           0        0             0      No  "
      ]
     },
     "execution_count": 780,
     "metadata": {},
     "output_type": "execute_result"
    }
   ],
   "source": [
    "df.head()"
   ]
  },
  {
   "cell_type": "markdown",
   "metadata": {},
   "source": [
    "<a id='wrangling'></a>\n",
    "## Data Wrangling"
   ]
  },
  {
   "cell_type": "markdown",
   "metadata": {},
   "source": [
    "First I want to check to see if there are duplicate rows in the data. There are many rows that will likely be identical in terms of at least some of the columns, so I will not go in and delete all rows that are duplicated in terms of any columns. I will however look at the 1 column that should not have duplicates: AppointmentID, to see if there are any duplicates of this. If so, I would then delete these rows, as they could have been caused by a typing error."
   ]
  },
  {
   "cell_type": "code",
   "execution_count": 781,
   "metadata": {},
   "outputs": [
    {
     "name": "stdout",
     "output_type": "stream",
     "text": [
      "0\n"
     ]
    }
   ],
   "source": [
    "print(df.AppointmentID.duplicated().sum())"
   ]
  },
  {
   "cell_type": "markdown",
   "metadata": {},
   "source": [
    "It looks like there are no duplicates in the AppointmentID column, so I will not delete any rows at this stage."
   ]
  },
  {
   "cell_type": "markdown",
   "metadata": {},
   "source": [
    "Next, I want to look at info to see if there are any missing values in the dataset."
   ]
  },
  {
   "cell_type": "code",
   "execution_count": 788,
   "metadata": {
    "scrolled": true
   },
   "outputs": [
    {
     "name": "stdout",
     "output_type": "stream",
     "text": [
      "<class 'pandas.core.frame.DataFrame'>\n",
      "RangeIndex: 110527 entries, 0 to 110526\n",
      "Data columns (total 4 columns):\n",
      " #   Column         Non-Null Count   Dtype \n",
      "---  ------         --------------   ----- \n",
      " 0   age            110527 non-null  int64 \n",
      " 1   neighbourhood  110527 non-null  object\n",
      " 2   sms_received   110527 non-null  int64 \n",
      " 3   no_show        110527 non-null  object\n",
      "dtypes: int64(2), object(2)\n",
      "memory usage: 3.4+ MB\n"
     ]
    }
   ],
   "source": [
    "df.info()"
   ]
  },
  {
   "cell_type": "markdown",
   "metadata": {},
   "source": [
    "Surprisingly, there are no missing values!"
   ]
  },
  {
   "cell_type": "markdown",
   "metadata": {},
   "source": [
    "When looking at the head above, I see some columns that I do not think I will look at when analyzing my data, such as PatientId, AppointmentID, Gender, ScheduledDay, AppointmentDay, Scholarship, all disease columns, and Handcap. If I were to analyze this data again, I may choose to look at different variables, but I will drop these columns for now. "
   ]
  },
  {
   "cell_type": "markdown",
   "metadata": {},
   "source": [
    "First, I will go ahead and drop the columns I mentioned above in order to narrow down my analysis."
   ]
  },
  {
   "cell_type": "code",
   "execution_count": 782,
   "metadata": {},
   "outputs": [],
   "source": [
    "df.drop(['PatientId', 'AppointmentID', 'Gender', 'ScheduledDay', 'AppointmentDay', 'Scholarship', 'Hipertension', 'Diabetes', 'Alcoholism', 'Handcap'], axis=1, inplace=True)"
   ]
  },
  {
   "cell_type": "markdown",
   "metadata": {},
   "source": [
    "I have set the axis as 1 as I wish to delete columns (I will leave this out when deleting any rows, as leaving it out defaults it to rows). I have set this as inplace=True so that the changes will take place within the current table."
   ]
  },
  {
   "cell_type": "code",
   "execution_count": 783,
   "metadata": {
    "scrolled": true
   },
   "outputs": [
    {
     "data": {
      "text/html": [
       "<div>\n",
       "<style scoped>\n",
       "    .dataframe tbody tr th:only-of-type {\n",
       "        vertical-align: middle;\n",
       "    }\n",
       "\n",
       "    .dataframe tbody tr th {\n",
       "        vertical-align: top;\n",
       "    }\n",
       "\n",
       "    .dataframe thead th {\n",
       "        text-align: right;\n",
       "    }\n",
       "</style>\n",
       "<table border=\"1\" class=\"dataframe\">\n",
       "  <thead>\n",
       "    <tr style=\"text-align: right;\">\n",
       "      <th></th>\n",
       "      <th>Age</th>\n",
       "      <th>Neighbourhood</th>\n",
       "      <th>SMS_received</th>\n",
       "      <th>No-show</th>\n",
       "    </tr>\n",
       "  </thead>\n",
       "  <tbody>\n",
       "    <tr>\n",
       "      <th>0</th>\n",
       "      <td>62</td>\n",
       "      <td>JARDIM DA PENHA</td>\n",
       "      <td>0</td>\n",
       "      <td>No</td>\n",
       "    </tr>\n",
       "    <tr>\n",
       "      <th>1</th>\n",
       "      <td>56</td>\n",
       "      <td>JARDIM DA PENHA</td>\n",
       "      <td>0</td>\n",
       "      <td>No</td>\n",
       "    </tr>\n",
       "    <tr>\n",
       "      <th>2</th>\n",
       "      <td>62</td>\n",
       "      <td>MATA DA PRAIA</td>\n",
       "      <td>0</td>\n",
       "      <td>No</td>\n",
       "    </tr>\n",
       "    <tr>\n",
       "      <th>3</th>\n",
       "      <td>8</td>\n",
       "      <td>PONTAL DE CAMBURI</td>\n",
       "      <td>0</td>\n",
       "      <td>No</td>\n",
       "    </tr>\n",
       "    <tr>\n",
       "      <th>4</th>\n",
       "      <td>56</td>\n",
       "      <td>JARDIM DA PENHA</td>\n",
       "      <td>0</td>\n",
       "      <td>No</td>\n",
       "    </tr>\n",
       "  </tbody>\n",
       "</table>\n",
       "</div>"
      ],
      "text/plain": [
       "   Age      Neighbourhood  SMS_received No-show\n",
       "0   62    JARDIM DA PENHA             0      No\n",
       "1   56    JARDIM DA PENHA             0      No\n",
       "2   62      MATA DA PRAIA             0      No\n",
       "3    8  PONTAL DE CAMBURI             0      No\n",
       "4   56    JARDIM DA PENHA             0      No"
      ]
     },
     "execution_count": 783,
     "metadata": {},
     "output_type": "execute_result"
    }
   ],
   "source": [
    "df.head() # checking to make sure the columns were deleted"
   ]
  },
  {
   "cell_type": "markdown",
   "metadata": {},
   "source": [
    "The table is much smaller now, and it is easier to zone in on the variables I would like to explore in my analysis."
   ]
  },
  {
   "cell_type": "markdown",
   "metadata": {},
   "source": [
    "My next cleaning step will be to lowercase the column names and also replace the - with a _ in No-show so that I can more easily refer to the columns later and not have to check back to see whether they are capitalized/what format each column has."
   ]
  },
  {
   "cell_type": "code",
   "execution_count": 784,
   "metadata": {},
   "outputs": [],
   "source": [
    "df.rename(columns=lambda x: x.lower().replace(\"-\", \"_\"), inplace=True)"
   ]
  },
  {
   "cell_type": "markdown",
   "metadata": {},
   "source": [
    "I used the rename function in order to edit the column names.<br>Inside the function, I needed to indicate I wanted to change the names of the columns (columns=)<br>I used a lambda expression as I am performing a simple replacement function and it keeps the code cleaner.<br>x is used as the variable, as we wish to edit all column names, and not just a single column.<br>We then use x.lower() to lowercase all column names, and .replace(\"-\", \"_\") to replace any - with _.<br>We include inplace=True at the end so that the changes will take place within our current table."
   ]
  },
  {
   "cell_type": "code",
   "execution_count": 785,
   "metadata": {},
   "outputs": [
    {
     "data": {
      "text/html": [
       "<div>\n",
       "<style scoped>\n",
       "    .dataframe tbody tr th:only-of-type {\n",
       "        vertical-align: middle;\n",
       "    }\n",
       "\n",
       "    .dataframe tbody tr th {\n",
       "        vertical-align: top;\n",
       "    }\n",
       "\n",
       "    .dataframe thead th {\n",
       "        text-align: right;\n",
       "    }\n",
       "</style>\n",
       "<table border=\"1\" class=\"dataframe\">\n",
       "  <thead>\n",
       "    <tr style=\"text-align: right;\">\n",
       "      <th></th>\n",
       "      <th>age</th>\n",
       "      <th>neighbourhood</th>\n",
       "      <th>sms_received</th>\n",
       "      <th>no_show</th>\n",
       "    </tr>\n",
       "  </thead>\n",
       "  <tbody>\n",
       "    <tr>\n",
       "      <th>0</th>\n",
       "      <td>62</td>\n",
       "      <td>JARDIM DA PENHA</td>\n",
       "      <td>0</td>\n",
       "      <td>No</td>\n",
       "    </tr>\n",
       "    <tr>\n",
       "      <th>1</th>\n",
       "      <td>56</td>\n",
       "      <td>JARDIM DA PENHA</td>\n",
       "      <td>0</td>\n",
       "      <td>No</td>\n",
       "    </tr>\n",
       "    <tr>\n",
       "      <th>2</th>\n",
       "      <td>62</td>\n",
       "      <td>MATA DA PRAIA</td>\n",
       "      <td>0</td>\n",
       "      <td>No</td>\n",
       "    </tr>\n",
       "    <tr>\n",
       "      <th>3</th>\n",
       "      <td>8</td>\n",
       "      <td>PONTAL DE CAMBURI</td>\n",
       "      <td>0</td>\n",
       "      <td>No</td>\n",
       "    </tr>\n",
       "    <tr>\n",
       "      <th>4</th>\n",
       "      <td>56</td>\n",
       "      <td>JARDIM DA PENHA</td>\n",
       "      <td>0</td>\n",
       "      <td>No</td>\n",
       "    </tr>\n",
       "  </tbody>\n",
       "</table>\n",
       "</div>"
      ],
      "text/plain": [
       "   age      neighbourhood  sms_received no_show\n",
       "0   62    JARDIM DA PENHA             0      No\n",
       "1   56    JARDIM DA PENHA             0      No\n",
       "2   62      MATA DA PRAIA             0      No\n",
       "3    8  PONTAL DE CAMBURI             0      No\n",
       "4   56    JARDIM DA PENHA             0      No"
      ]
     },
     "execution_count": 785,
     "metadata": {},
     "output_type": "execute_result"
    }
   ],
   "source": [
    "df.head() # checking to make sure all was changed"
   ]
  },
  {
   "cell_type": "markdown",
   "metadata": {},
   "source": [
    "This looks better! Now I would like to dive deeper into the data."
   ]
  },
  {
   "cell_type": "code",
   "execution_count": 786,
   "metadata": {},
   "outputs": [
    {
     "data": {
      "text/plain": [
       "(110527, 4)"
      ]
     },
     "execution_count": 786,
     "metadata": {},
     "output_type": "execute_result"
    }
   ],
   "source": [
    "df.shape # having a quick look at how many rows we have"
   ]
  },
  {
   "cell_type": "code",
   "execution_count": 787,
   "metadata": {},
   "outputs": [
    {
     "data": {
      "text/html": [
       "<div>\n",
       "<style scoped>\n",
       "    .dataframe tbody tr th:only-of-type {\n",
       "        vertical-align: middle;\n",
       "    }\n",
       "\n",
       "    .dataframe tbody tr th {\n",
       "        vertical-align: top;\n",
       "    }\n",
       "\n",
       "    .dataframe thead th {\n",
       "        text-align: right;\n",
       "    }\n",
       "</style>\n",
       "<table border=\"1\" class=\"dataframe\">\n",
       "  <thead>\n",
       "    <tr style=\"text-align: right;\">\n",
       "      <th></th>\n",
       "      <th>age</th>\n",
       "      <th>sms_received</th>\n",
       "    </tr>\n",
       "  </thead>\n",
       "  <tbody>\n",
       "    <tr>\n",
       "      <th>count</th>\n",
       "      <td>110527.000000</td>\n",
       "      <td>110527.000000</td>\n",
       "    </tr>\n",
       "    <tr>\n",
       "      <th>mean</th>\n",
       "      <td>37.088874</td>\n",
       "      <td>0.321026</td>\n",
       "    </tr>\n",
       "    <tr>\n",
       "      <th>std</th>\n",
       "      <td>23.110205</td>\n",
       "      <td>0.466873</td>\n",
       "    </tr>\n",
       "    <tr>\n",
       "      <th>min</th>\n",
       "      <td>-1.000000</td>\n",
       "      <td>0.000000</td>\n",
       "    </tr>\n",
       "    <tr>\n",
       "      <th>25%</th>\n",
       "      <td>18.000000</td>\n",
       "      <td>0.000000</td>\n",
       "    </tr>\n",
       "    <tr>\n",
       "      <th>50%</th>\n",
       "      <td>37.000000</td>\n",
       "      <td>0.000000</td>\n",
       "    </tr>\n",
       "    <tr>\n",
       "      <th>75%</th>\n",
       "      <td>55.000000</td>\n",
       "      <td>1.000000</td>\n",
       "    </tr>\n",
       "    <tr>\n",
       "      <th>max</th>\n",
       "      <td>115.000000</td>\n",
       "      <td>1.000000</td>\n",
       "    </tr>\n",
       "  </tbody>\n",
       "</table>\n",
       "</div>"
      ],
      "text/plain": [
       "                 age   sms_received\n",
       "count  110527.000000  110527.000000\n",
       "mean       37.088874       0.321026\n",
       "std        23.110205       0.466873\n",
       "min        -1.000000       0.000000\n",
       "25%        18.000000       0.000000\n",
       "50%        37.000000       0.000000\n",
       "75%        55.000000       1.000000\n",
       "max       115.000000       1.000000"
      ]
     },
     "execution_count": 787,
     "metadata": {},
     "output_type": "execute_result"
    }
   ],
   "source": [
    "df.describe() # here I can see some summary statistics for the age and sms_received columns."
   ]
  },
  {
   "cell_type": "markdown",
   "metadata": {},
   "source": [
    "The range for age is quite interesting to see: 116 years! I imagine that the minimum value of -1 would refer to a baby still in the womb, which is a bit of a strange concept. I will have a look to see if there are more -1 rows in the age column and may decide to delete these.<br><br>Looking at describe for sms_received is not really helpful as we are evaluating these as True or False. I will count these later on to look at a proportion instead."
   ]
  },
  {
   "cell_type": "markdown",
   "metadata": {},
   "source": [
    "Now I will have a look at the age column to see how many rows have values <0"
   ]
  },
  {
   "cell_type": "code",
   "execution_count": 789,
   "metadata": {},
   "outputs": [
    {
     "data": {
      "text/plain": [
       " 0      3539\n",
       " 1      2273\n",
       " 52     1746\n",
       " 49     1652\n",
       " 53     1651\n",
       "        ... \n",
       " 115       5\n",
       " 100       4\n",
       " 102       2\n",
       " 99        1\n",
       "-1         1\n",
       "Name: age, Length: 104, dtype: int64"
      ]
     },
     "execution_count": 789,
     "metadata": {},
     "output_type": "execute_result"
    }
   ],
   "source": [
    "df.age.value_counts()"
   ]
  },
  {
   "cell_type": "markdown",
   "metadata": {},
   "source": [
    "It looks like there are quite a few newborns (age 0), but only the 1 row with a -1 value. It seems to me like this could have potentially been a typing error, so I will go ahead and remove this row."
   ]
  },
  {
   "cell_type": "code",
   "execution_count": 790,
   "metadata": {},
   "outputs": [
    {
     "data": {
      "text/html": [
       "<div>\n",
       "<style scoped>\n",
       "    .dataframe tbody tr th:only-of-type {\n",
       "        vertical-align: middle;\n",
       "    }\n",
       "\n",
       "    .dataframe tbody tr th {\n",
       "        vertical-align: top;\n",
       "    }\n",
       "\n",
       "    .dataframe thead th {\n",
       "        text-align: right;\n",
       "    }\n",
       "</style>\n",
       "<table border=\"1\" class=\"dataframe\">\n",
       "  <thead>\n",
       "    <tr style=\"text-align: right;\">\n",
       "      <th></th>\n",
       "      <th>age</th>\n",
       "      <th>neighbourhood</th>\n",
       "      <th>sms_received</th>\n",
       "      <th>no_show</th>\n",
       "    </tr>\n",
       "  </thead>\n",
       "  <tbody>\n",
       "    <tr>\n",
       "      <th>99832</th>\n",
       "      <td>-1</td>\n",
       "      <td>ROMÃO</td>\n",
       "      <td>0</td>\n",
       "      <td>No</td>\n",
       "    </tr>\n",
       "  </tbody>\n",
       "</table>\n",
       "</div>"
      ],
      "text/plain": [
       "       age neighbourhood  sms_received no_show\n",
       "99832   -1         ROMÃO             0      No"
      ]
     },
     "execution_count": 790,
     "metadata": {},
     "output_type": "execute_result"
    }
   ],
   "source": [
    "df.loc[df['age'] == -1]"
   ]
  },
  {
   "cell_type": "markdown",
   "metadata": {},
   "source": [
    "First I locate the row using .loc and searching for -1 in the age column. Looks like this is in row 99832.<br>Now that I know which row this is in, I can drop this single row."
   ]
  },
  {
   "cell_type": "code",
   "execution_count": 793,
   "metadata": {},
   "outputs": [],
   "source": [
    "df.drop(df.index[99831], inplace=True)"
   ]
  },
  {
   "cell_type": "markdown",
   "metadata": {},
   "source": [
    "I dropped the row using .drop. We need to keep in mind Pandas 0 based numbering, which is why I have dropped 99831 although the row number is actually 99832.<br>As I did not set axis=1 (which refers to columns), the function defaulted to axis=0 (rows).<br>We include inplace=True at the end so that the changes will take place within our current table."
   ]
  },
  {
   "cell_type": "code",
   "execution_count": 794,
   "metadata": {},
   "outputs": [
    {
     "data": {
      "text/html": [
       "<div>\n",
       "<style scoped>\n",
       "    .dataframe tbody tr th:only-of-type {\n",
       "        vertical-align: middle;\n",
       "    }\n",
       "\n",
       "    .dataframe tbody tr th {\n",
       "        vertical-align: top;\n",
       "    }\n",
       "\n",
       "    .dataframe thead th {\n",
       "        text-align: right;\n",
       "    }\n",
       "</style>\n",
       "<table border=\"1\" class=\"dataframe\">\n",
       "  <thead>\n",
       "    <tr style=\"text-align: right;\">\n",
       "      <th></th>\n",
       "      <th>age</th>\n",
       "      <th>sms_received</th>\n",
       "    </tr>\n",
       "  </thead>\n",
       "  <tbody>\n",
       "    <tr>\n",
       "      <th>count</th>\n",
       "      <td>110525.000000</td>\n",
       "      <td>110525.000000</td>\n",
       "    </tr>\n",
       "    <tr>\n",
       "      <th>mean</th>\n",
       "      <td>37.089491</td>\n",
       "      <td>0.321031</td>\n",
       "    </tr>\n",
       "    <tr>\n",
       "      <th>std</th>\n",
       "      <td>23.109953</td>\n",
       "      <td>0.466875</td>\n",
       "    </tr>\n",
       "    <tr>\n",
       "      <th>min</th>\n",
       "      <td>0.000000</td>\n",
       "      <td>0.000000</td>\n",
       "    </tr>\n",
       "    <tr>\n",
       "      <th>25%</th>\n",
       "      <td>18.000000</td>\n",
       "      <td>0.000000</td>\n",
       "    </tr>\n",
       "    <tr>\n",
       "      <th>50%</th>\n",
       "      <td>37.000000</td>\n",
       "      <td>0.000000</td>\n",
       "    </tr>\n",
       "    <tr>\n",
       "      <th>75%</th>\n",
       "      <td>55.000000</td>\n",
       "      <td>1.000000</td>\n",
       "    </tr>\n",
       "    <tr>\n",
       "      <th>max</th>\n",
       "      <td>115.000000</td>\n",
       "      <td>1.000000</td>\n",
       "    </tr>\n",
       "  </tbody>\n",
       "</table>\n",
       "</div>"
      ],
      "text/plain": [
       "                 age   sms_received\n",
       "count  110525.000000  110525.000000\n",
       "mean       37.089491       0.321031\n",
       "std        23.109953       0.466875\n",
       "min         0.000000       0.000000\n",
       "25%        18.000000       0.000000\n",
       "50%        37.000000       0.000000\n",
       "75%        55.000000       1.000000\n",
       "max       115.000000       1.000000"
      ]
     },
     "execution_count": 794,
     "metadata": {},
     "output_type": "execute_result"
    }
   ],
   "source": [
    "df.describe()"
   ]
  },
  {
   "cell_type": "markdown",
   "metadata": {},
   "source": [
    "Here we can see that the min is now 0 instead of -1 as we dropped that row."
   ]
  },
  {
   "cell_type": "markdown",
   "metadata": {},
   "source": [
    "I also want the data types and values in sms_received and no_show to match to make this more clear.<br>First I will change the data type for sms_received from integer to object (string)."
   ]
  },
  {
   "cell_type": "code",
   "execution_count": 795,
   "metadata": {},
   "outputs": [],
   "source": [
    "df['sms_received'] = df[\"sms_received\"].astype(str)"
   ]
  },
  {
   "cell_type": "markdown",
   "metadata": {},
   "source": [
    "I used .astype to change the sms_received column to a string (or object as Pandas calls it)"
   ]
  },
  {
   "cell_type": "code",
   "execution_count": 796,
   "metadata": {},
   "outputs": [
    {
     "name": "stdout",
     "output_type": "stream",
     "text": [
      "<class 'pandas.core.frame.DataFrame'>\n",
      "Int64Index: 110525 entries, 0 to 110526\n",
      "Data columns (total 4 columns):\n",
      " #   Column         Non-Null Count   Dtype \n",
      "---  ------         --------------   ----- \n",
      " 0   age            110525 non-null  int64 \n",
      " 1   neighbourhood  110525 non-null  object\n",
      " 2   sms_received   110525 non-null  object\n",
      " 3   no_show        110525 non-null  object\n",
      "dtypes: int64(1), object(3)\n",
      "memory usage: 4.2+ MB\n"
     ]
    }
   ],
   "source": [
    "df.info() # quick check to make sure it worked, which it did"
   ]
  },
  {
   "cell_type": "markdown",
   "metadata": {},
   "source": [
    "I also want to change the values in both sms_received and no_show to Yes/No to make things consistent.<br>Now, if a patient received an sms about their appointment, the row will show Yes, and if they did not receive an SMS, it will show No."
   ]
  },
  {
   "cell_type": "code",
   "execution_count": 797,
   "metadata": {},
   "outputs": [],
   "source": [
    "df[\"sms_received\"].replace({\"1\": \"Yes\", \"0\": \"No\"}, inplace=True)"
   ]
  },
  {
   "cell_type": "markdown",
   "metadata": {},
   "source": [
    "I used .replace here for each of the columns I wanted to change, and the values in the {} changed from the value before the : to the value after the :<br>Again, I have entered inplace=True here."
   ]
  },
  {
   "cell_type": "code",
   "execution_count": 798,
   "metadata": {},
   "outputs": [
    {
     "name": "stdout",
     "output_type": "stream",
     "text": [
      "        age      neighbourhood sms_received no_show\n",
      "0        62    JARDIM DA PENHA           No      No\n",
      "1        56    JARDIM DA PENHA           No      No\n",
      "2        62      MATA DA PRAIA           No      No\n",
      "3         8  PONTAL DE CAMBURI           No      No\n",
      "4        56    JARDIM DA PENHA           No      No\n",
      "...     ...                ...          ...     ...\n",
      "110522   56        MARIA ORTIZ          Yes      No\n",
      "110523   51        MARIA ORTIZ          Yes      No\n",
      "110524   21        MARIA ORTIZ          Yes      No\n",
      "110525   38        MARIA ORTIZ          Yes      No\n",
      "110526   54        MARIA ORTIZ          Yes      No\n",
      "\n",
      "[110525 rows x 4 columns]\n"
     ]
    }
   ],
   "source": [
    "print(df) # quickly check this worked"
   ]
  },
  {
   "cell_type": "markdown",
   "metadata": {},
   "source": [
    "Now I am happy with the cleanliness of my data, and am ready to move on to the exploration stage."
   ]
  },
  {
   "cell_type": "markdown",
   "metadata": {},
   "source": [
    "<a id='eda'></a>\n",
    "## Exploratory Data Analysis\n",
    "\n",
    "### Question 1: What proportion of patients did not show up to their appointments?"
   ]
  },
  {
   "cell_type": "markdown",
   "metadata": {},
   "source": [
    "First I want to look at the counts of no shows versus showed patients."
   ]
  },
  {
   "cell_type": "code",
   "execution_count": 799,
   "metadata": {},
   "outputs": [
    {
     "data": {
      "text/plain": [
       "No     88206\n",
       "Yes    22319\n",
       "Name: no_show, dtype: int64"
      ]
     },
     "execution_count": 799,
     "metadata": {},
     "output_type": "execute_result"
    }
   ],
   "source": [
    "df.no_show.value_counts()"
   ]
  },
  {
   "cell_type": "markdown",
   "metadata": {},
   "source": [
    "So it looks like there were 22319 no shows versus 88206 showed patients, so about 4x as many showed patients.\n",
    "Let's quickly look at this difference in a bar graph."
   ]
  },
  {
   "cell_type": "code",
   "execution_count": 800,
   "metadata": {},
   "outputs": [],
   "source": [
    "showed_count = df.no_show.value_counts()[0]\n",
    "no_show_count = df.no_show.value_counts()[1]"
   ]
  },
  {
   "cell_type": "markdown",
   "metadata": {},
   "source": [
    "First I set the showed_count index as 0 to grab the first value in the no_show value counts (no_show == 'No' means showed), and then the no_show_count index as 1, in order to get the second value. Then I plug these in to look at the difference in a bar graph."
   ]
  },
  {
   "cell_type": "code",
   "execution_count": 801,
   "metadata": {},
   "outputs": [
    {
     "data": {
      "image/png": "[encoded data removed]",
      "text/plain": [
       "<Figure size 432x288 with 1 Axes>"
      ]
     },
     "metadata": {
      "needs_background": "light"
     },
     "output_type": "display_data"
    }
   ],
   "source": [
    "locations = [1, 2]\n",
    "heights = [no_show_count, showed_count]\n",
    "labels = ['No-Show', 'Showed']\n",
    "plt.bar(locations, heights, tick_label=labels)\n",
    "plt.title(\"Number of patients who showed or\\ndid not show up to their appointment\\n\")\n",
    "plt.ylabel(\"Number of patients\");"
   ]
  },
  {
   "cell_type": "markdown",
   "metadata": {},
   "source": [
    "To more clearly show this difference, let's have a look at the same graph, but with proportions instead of total patients."
   ]
  },
  {
   "cell_type": "code",
   "execution_count": 813,
   "metadata": {},
   "outputs": [
    {
     "name": "stdout",
     "output_type": "stream",
     "text": [
      "0.2019362135263515 0.7980637864736485\n"
     ]
    }
   ],
   "source": [
    "total_noshow = df.shape[0] # this refers to the total number of rows in the table\n",
    "prop_noshow = no_show_count/total_noshow # I then divide no_show_count and showed_count by total_noshow to get proportions.\n",
    "prop_showed = showed_count/total_noshow\n",
    "print(prop_noshow, prop_showed)"
   ]
  },
  {
   "cell_type": "markdown",
   "metadata": {},
   "source": [
    "I then plot this in a bar graph as I did above."
   ]
  },
  {
   "cell_type": "code",
   "execution_count": 804,
   "metadata": {},
   "outputs": [
    {
     "data": {
      "image/png": "[encoded data removed]",
      "text/plain": [
       "<Figure size 432x288 with 1 Axes>"
      ]
     },
     "metadata": {
      "needs_background": "light"
     },
     "output_type": "display_data"
    }
   ],
   "source": [
    "locations = [1, 2]\n",
    "heights = [prop_noshow, prop_showed]\n",
    "labels = ['Percentage No-Show', 'Percentage Showed']\n",
    "plt.bar(locations, heights, tick_label=labels)\n",
    "plt.title(\"Percentage of patients who showed or\\ndid not show up to their appointment\\n\")\n",
    "plt.ylabel(\"Percentage of patients\");"
   ]
  },
  {
   "cell_type": "markdown",
   "metadata": {},
   "source": [
    "While the percentage of patients who showed is clearly significantly higher than those who did not, 20% is still a significant figure, and would likely be worth investigating for doctors' offices, as no-shows would likely have a negative effect on scheduling, and patients who really need to be seen would likely need to wait longer for an appointment as other appointments would have been taken up by those who did not show."
   ]
  },
  {
   "cell_type": "markdown",
   "metadata": {},
   "source": [
    "### Question 2: Which neighbourhoods have the most no-shows?"
   ]
  },
  {
   "cell_type": "markdown",
   "metadata": {},
   "source": [
    "First, I want to group by neighbourhood, and show the neighborhood with the sum of the no shows (no_show is 'Yes') for each neighbourhood."
   ]
  },
  {
   "cell_type": "code",
   "execution_count": 805,
   "metadata": {},
   "outputs": [
    {
     "name": "stdout",
     "output_type": "stream",
     "text": [
      "neighbourhood\n",
      "AEROPORTO                1\n",
      "ANDORINHAS             521\n",
      "ANTÔNIO HONÓRIO         50\n",
      "ARIOVALDO FAVALESSA     62\n",
      "BARRO VERMELHO          91\n",
      "                      ... \n",
      "SÃO JOSÉ               428\n",
      "SÃO PEDRO              515\n",
      "TABUAZEIRO             573\n",
      "UNIVERSITÁRIO           32\n",
      "VILA RUBIM             141\n",
      "Name: no_show, Length: 81, dtype: int64\n"
     ]
    }
   ],
   "source": [
    "noshows_neighbourhoods = df.groupby('neighbourhood')['no_show'].apply(lambda x: (x=='Yes').sum())\n",
    "print(noshows_neighbourhoods)"
   ]
  },
  {
   "cell_type": "markdown",
   "metadata": {},
   "source": [
    "Now I have the number of no shows for each neighborhood.<br><br>Steps:<br>1. I first grouped by the neighborhood, and then set what I want to evaluate the neighborhood by (no shows).<br>2. I used .apply in order to evaluate each value in the no_show column to see the rows with Yes.<br>3. The lambda function simplifies this, and then sums the no shows for each neighborhood.<br><br>This is helpful to look at, but the neighborhoods are sorted alphabetically by neighborhood name, and I am actually interested in looking at the neighborhoods with the highest number of no shows in order to take a look at these on a graph. So I will need to sort descending by total number of no shows instead.<br><br>Reference: https://stackoverflow.com/questions/27488080/python-pandas-filter-rows-after-groupby"
   ]
  },
  {
   "cell_type": "code",
   "execution_count": 806,
   "metadata": {},
   "outputs": [
    {
     "name": "stdout",
     "output_type": "stream",
     "text": [
      "     neighbourhood  no_show\n",
      "38  JARDIM CAMBURI     1465\n",
      "43     MARIA ORTIZ     1219\n",
      "36         ITARARÉ      923\n",
      "59     RESISTÊNCIA      906\n",
      "10          CENTRO      703\n"
     ]
    }
   ],
   "source": [
    "top_neighbourhoods = noshows_neighbourhoods.reset_index(name='no_show').sort_values(by=['no_show'], ascending = False).head()\n",
    "print(top_neighbourhoods)"
   ]
  },
  {
   "cell_type": "markdown",
   "metadata": {},
   "source": [
    "Here I took the noshows_neighbourhoods from the above result and added a few more functions in order to get my desired result of the top 5 neighborhoods in terms of no shows.<br><br>1. I used .reset_index in order to change the index to no_show (instead of neighborhood) so I can have access to this column later, and this is the column I want to sort on as well.<br>2. I then used sort_values to sort by the no_show column, and set ascending to False so we get the largest values first (sort descending).<br>3. For this question I am interested only in the first 5 values, which is why I print the head.<br><br>\n",
    "When I print top_neighbourhoods, I am presented with a row number, neighbourhead name and total no_shows for each of the top 5 neighbourhoods.<br><br>Reference: https://pandas.pydata.org/pandas-docs/stable/reference/api/pandas.DataFrame.sort_values.html<br><br>Now I want to plot these values in a graph to more clearly show the differences between neighborhoods."
   ]
  },
  {
   "cell_type": "code",
   "execution_count": 807,
   "metadata": {
    "scrolled": true
   },
   "outputs": [
    {
     "data": {
      "image/png": "[encoded data removed]",
      "text/plain": [
       "<Figure size 576x288 with 1 Axes>"
      ]
     },
     "metadata": {
      "needs_background": "light"
     },
     "output_type": "display_data"
    }
   ],
   "source": [
    "locations = [1,2,3,4,5] # first I set my locations 1-5 (as we will have 5 bars, 1 per neighbourhood)\n",
    "# I set my heights to the no_show totals shown in the no_show column in top_neighbourhoods.\n",
    "# I refer to the row number in the index as we will need to match each of these with the appropriate label.\n",
    "heights = [top_neighbourhoods.no_show[38], top_neighbourhoods.no_show[43], top_neighbourhoods.no_show[36], top_neighbourhoods.no_show[59], top_neighbourhoods.no_show[10]]\n",
    "# I set the labels as the name of each neighbourhood matched with its no_show value (same column number).\n",
    "labels = [top_neighbourhoods.neighbourhood[38], top_neighbourhoods.neighbourhood[43], top_neighbourhoods.neighbourhood[36], top_neighbourhoods.neighbourhood[59], top_neighbourhoods.neighbourhood[10]]\n",
    "plt.figure(figsize=(8, 4)) # I want to make the graph bigger as we will have 5 bars.\n",
    "plt.bar(locations, heights, tick_label=labels)\n",
    "plt.title(\"Top neighbourhoods with the most no shows\")\n",
    "plt.xlabel(\"\\nNeighborhood name\")\n",
    "plt.ylabel(\"Number of no shows\\n\");"
   ]
  },
  {
   "cell_type": "markdown",
   "metadata": {},
   "source": [
    "We can see here that even amongst the neighborhoods with the top 5 highest number of no shows, there is a significant difference between Jardim Camburi and Centro. Up above, when we looked at noshows_neighbourhoods, we could see that the numbers were quite dispersed. This could come down to something simple, like perhaps the top 5 neighborhoods have much higher populations than other neighborhoods with fewer no shows, but could also be caused by many other factors, such as commute time, or whether a patient is reminded of their appointment or not, etc.<br><br>I will look at one of these potential factors in my next question."
   ]
  },
  {
   "cell_type": "markdown",
   "metadata": {},
   "source": [
    "### Question 3: Does receiving an SMS message about their appointment, influence whether patients are more likely to show up for their appointments?"
   ]
  },
  {
   "cell_type": "markdown",
   "metadata": {
    "collapsed": true
   },
   "source": [
    "Before really diving in to answering this question, let's see how many patients have received an SMS versus those who have not:"
   ]
  },
  {
   "cell_type": "code",
   "execution_count": 808,
   "metadata": {},
   "outputs": [
    {
     "data": {
      "text/plain": [
       "No     75043\n",
       "Yes    35482\n",
       "Name: sms_received, dtype: int64"
      ]
     },
     "execution_count": 808,
     "metadata": {},
     "output_type": "execute_result"
    }
   ],
   "source": [
    "df.sms_received.value_counts()"
   ]
  },
  {
   "cell_type": "markdown",
   "metadata": {},
   "source": [
    "Less than half of the patients received SMS messages about their appointments: it looks like this could potentially be contributing towards no-shows.\n",
    "\n",
    "Let's look at if there are differences between an SMS being received or not for each group (no shows and showed)."
   ]
  },
  {
   "cell_type": "code",
   "execution_count": 809,
   "metadata": {},
   "outputs": [],
   "source": [
    "sms_yes = df.loc[df['sms_received'] == 'Yes']\n",
    "sms_no = df.loc[df['sms_received'] == 'No']"
   ]
  },
  {
   "cell_type": "markdown",
   "metadata": {},
   "source": [
    "Here we locate the patients (using .loc) who either received or did not receive an SMS, by looking in the sms_received column for Yes or No."
   ]
  },
  {
   "cell_type": "code",
   "execution_count": 810,
   "metadata": {},
   "outputs": [],
   "source": [
    "sms_yes_did_not_show = sms_yes.groupby('sms_received')['no_show'].apply(lambda x: (x=='Yes').sum()).reset_index(name='did_not_show')\n",
    "sms_yes_showed = sms_yes.groupby('sms_received')['no_show'].apply(lambda x: (x=='No').sum()).reset_index(name='showed')\n",
    "\n",
    "sms_no_did_not_show = sms_no.groupby('sms_received')['no_show'].apply(lambda x: (x=='Yes').sum()).reset_index(name='did_not_show')\n",
    "sms_no_showed = sms_no.groupby('sms_received')['no_show'].apply(lambda x: (x=='No').sum()).reset_index(name='showed')"
   ]
  },
  {
   "cell_type": "markdown",
   "metadata": {},
   "source": [
    "Here we create subgroups:<br> \n",
    "__sms_yes_did_not_show__ = patients who received an SMS but still did not show to their appointment<br> \n",
    "__sms_yes_showed__ = patients who received an SMS and showed<br> \n",
    "__sms_no_did_not_show__ = patients who did not receive an SMS and did not show to their appointment<br> \n",
    "__sms_no_showed__ = patients who did not receive an SMS but still showed<br><br>\n",
    "We use similar logic to the above when looking at the neighborhoods with .apply, .sum, and .reset_index, but this time we are not sorting by decreasing or limiting the number of values to be printed, so we can remove .sort_values and .head.<br><br>\n",
    "Now I want to get ready to plot a graph of this information."
   ]
  },
  {
   "cell_type": "code",
   "execution_count": 811,
   "metadata": {},
   "outputs": [],
   "source": [
    "result_sms_yes_did_not_show = sms_yes_did_not_show['did_not_show'][0]\n",
    "result_sms_yes_showed = sms_yes_showed['showed'][0]\n",
    "result_sms_no_did_not_show = sms_no_did_not_show['did_not_show'][0]\n",
    "result_sms_no_showed = sms_no_showed['showed'][0]"
   ]
  },
  {
   "cell_type": "markdown",
   "metadata": {},
   "source": [
    "I want a single value for each of the above subgroups that I can then plot in a stacked bar graph, which is why I created these new groups. With index of 0, I will only be accessing a single value.<br><br>Using this information I will move forward to plot my graph. I refered to this article for assistance: https://matplotlib.org/3.1.1/gallery/lines_bars_and_markers/bar_stacked.html"
   ]
  },
  {
   "cell_type": "code",
   "execution_count": 812,
   "metadata": {},
   "outputs": [
    {
     "data": {
      "image/png": "[encoded data removed]",
      "text/plain": [
       "<Figure size 288x432 with 1 Axes>"
      ]
     },
     "metadata": {
      "needs_background": "light"
     },
     "output_type": "display_data"
    }
   ],
   "source": [
    "N = 2 # we want 2 bars in total\n",
    "ind = np.arange(N) # arranges bars in N order.\n",
    "NoShow = (result_sms_yes_did_not_show, result_sms_no_did_not_show)\n",
    "Showed = (result_sms_yes_showed, result_sms_no_showed)\n",
    "# NoShow and Showed = variables to include for the stacked bars \n",
    "width = 0.50 # width of bars\n",
    "plt.figure(figsize=(4, 6)) # size of graph\n",
    "p1 = plt.bar(ind, NoShow, width) # components of each part of stacked bar\n",
    "p2 = plt.bar(ind, Showed, width, bottom=NoShow) # bottom: we want NoShow at the bottom of stack\n",
    "\n",
    "plt.ylabel('Number of Patients\\n')\n",
    "plt.title('Number of patients who showed/did not show,\\ngrouped by SMS received/not received\\n')\n",
    "plt.xticks(ind, ('SMS Received', 'SMS Not Received'))\n",
    "plt.yticks(np.arange(0, 90000, 10000)) # set minimum y-value as 0, maximum as 80000, in increments of 10000\n",
    "plt.legend((p1, p2), ('No Show', 'Showed'));\n",
    "\n",
    "plt.show()"
   ]
  },
  {
   "cell_type": "markdown",
   "metadata": {},
   "source": [
    "In this graph, we can see what we found above: overall, the number of patients not receiving an SMS is substantially higher than those receiving one. But in regards to no shows versus showed, there is a smaller difference between patients having received an SMS or not. It seems then that receiving an SMS or not did not seem to influence the number of no shows very much. It looks like another factor is likely having more of an effect on this, so we will consider another factor in the next question."
   ]
  },
  {
   "cell_type": "markdown",
   "metadata": {},
   "source": [
    "### Question 4: Do older patients tend to miss their appointments more than younger patients?"
   ]
  },
  {
   "cell_type": "markdown",
   "metadata": {},
   "source": [
    "I want to have a look to see if age may be a determining factor in regards to no shows. Do older patients tend to miss their appointments more often than younger patients?"
   ]
  },
  {
   "cell_type": "markdown",
   "metadata": {},
   "source": [
    "First, I want to look back at describe and value counts to have a look at the ages again."
   ]
  },
  {
   "cell_type": "code",
   "execution_count": 724,
   "metadata": {},
   "outputs": [
    {
     "data": {
      "text/html": [
       "<div>\n",
       "<style scoped>\n",
       "    .dataframe tbody tr th:only-of-type {\n",
       "        vertical-align: middle;\n",
       "    }\n",
       "\n",
       "    .dataframe tbody tr th {\n",
       "        vertical-align: top;\n",
       "    }\n",
       "\n",
       "    .dataframe thead th {\n",
       "        text-align: right;\n",
       "    }\n",
       "</style>\n",
       "<table border=\"1\" class=\"dataframe\">\n",
       "  <thead>\n",
       "    <tr style=\"text-align: right;\">\n",
       "      <th></th>\n",
       "      <th>age</th>\n",
       "    </tr>\n",
       "  </thead>\n",
       "  <tbody>\n",
       "    <tr>\n",
       "      <th>count</th>\n",
       "      <td>110525.000000</td>\n",
       "    </tr>\n",
       "    <tr>\n",
       "      <th>mean</th>\n",
       "      <td>37.089491</td>\n",
       "    </tr>\n",
       "    <tr>\n",
       "      <th>std</th>\n",
       "      <td>23.109953</td>\n",
       "    </tr>\n",
       "    <tr>\n",
       "      <th>min</th>\n",
       "      <td>0.000000</td>\n",
       "    </tr>\n",
       "    <tr>\n",
       "      <th>25%</th>\n",
       "      <td>18.000000</td>\n",
       "    </tr>\n",
       "    <tr>\n",
       "      <th>50%</th>\n",
       "      <td>37.000000</td>\n",
       "    </tr>\n",
       "    <tr>\n",
       "      <th>75%</th>\n",
       "      <td>55.000000</td>\n",
       "    </tr>\n",
       "    <tr>\n",
       "      <th>max</th>\n",
       "      <td>115.000000</td>\n",
       "    </tr>\n",
       "  </tbody>\n",
       "</table>\n",
       "</div>"
      ],
      "text/plain": [
       "                 age\n",
       "count  110525.000000\n",
       "mean       37.089491\n",
       "std        23.109953\n",
       "min         0.000000\n",
       "25%        18.000000\n",
       "50%        37.000000\n",
       "75%        55.000000\n",
       "max       115.000000"
      ]
     },
     "execution_count": 724,
     "metadata": {},
     "output_type": "execute_result"
    }
   ],
   "source": [
    "df.describe()"
   ]
  },
  {
   "cell_type": "markdown",
   "metadata": {},
   "source": [
    "We see that the overall mean and median for age for the dataset is about 37 years old, the lower 50% of the patients are between 0-37 years old, and the upper 50% of the patients are at least 37 years old."
   ]
  },
  {
   "cell_type": "code",
   "execution_count": 706,
   "metadata": {},
   "outputs": [],
   "source": [
    "noshow = df.no_show == \"Yes\"\n",
    "showedup = df.no_show == \"No\""
   ]
  },
  {
   "cell_type": "code",
   "execution_count": 743,
   "metadata": {},
   "outputs": [
    {
     "data": {
      "image/png": "[encoded data removed]",
      "text/plain": [
       "<Figure size 432x288 with 1 Axes>"
      ]
     },
     "metadata": {
      "needs_background": "light"
     },
     "output_type": "display_data"
    }
   ],
   "source": [
    "N = 10 # we want 10 bars in total\n",
    "ind = np.arange(N)\n",
    "df.age[showedup].hist(alpha=0.5) # here we look at the age of the patients, in terms of whether they show to their appointments\n",
    "df.age[noshow].hist(alpha=0.5)\n",
    "plt.ylabel('Number of Patients\\n')\n",
    "plt.title('Age of patients who showed/did not show\\n')\n",
    "plt.xlabel('\\nAge')\n",
    "plt.yticks(np.arange(0, 16000, 2000)) # set minimum y-value as 0, maximum as 16000, in increments of 2000\n",
    "plt.legend(('Showed', 'No Show'));"
   ]
  },
  {
   "cell_type": "markdown",
   "metadata": {},
   "source": [
    "This graph is interesting to look at: it looks like the data is right-skewed for both no shows and those who showed, and there are of course significantly more patients who show than not show (which we had identified earlier). I am interested in zooming into the no shows though, so I will create a new graph just of these."
   ]
  },
  {
   "cell_type": "code",
   "execution_count": 749,
   "metadata": {},
   "outputs": [
    {
     "data": {
      "image/png": "[encoded data removed]",
      "text/plain": [
       "<Figure size 432x288 with 1 Axes>"
      ]
     },
     "metadata": {
      "needs_background": "light"
     },
     "output_type": "display_data"
    }
   ],
   "source": [
    "N = 10 # we want 10 bars in total\n",
    "ind = np.arange(N)\n",
    "df.age[noshow].hist(alpha=0.5)\n",
    "plt.ylabel('Number of Patients\\n')\n",
    "plt.title('Age of patients who did not show\\n')\n",
    "plt.xlabel('\\nAge')\n",
    "plt.yticks(np.arange(0, 4500, 500));"
   ]
  },
  {
   "cell_type": "markdown",
   "metadata": {},
   "source": [
    "We can now much more clearly see which age groups tend to miss their appointments most, and it seems to be the younger patients, those in the lower 50% of ages (<= the median). After around the median, the number of no shows plateaus until around age 58, and then drops pretty consistently for patients older than this.<br><br>To look at this even more closely, let's look at the number of no shows for the top 5 highest in terms of age, using the same formula as above."
   ]
  },
  {
   "cell_type": "code",
   "execution_count": 729,
   "metadata": {},
   "outputs": [
    {
     "name": "stdout",
     "output_type": "stream",
     "text": [
      "    age  no_show\n",
      "0     0      639\n",
      "1     1      415\n",
      "17   17      396\n",
      "19   19      394\n",
      "30   30      369\n"
     ]
    }
   ],
   "source": [
    "top_ages_noshows = df.groupby('age')['no_show'].apply(lambda x: (x=='Yes').sum()).reset_index(name='no_show').sort_values(by=['no_show'], ascending = False).head()\n",
    "print(ages_noshows)"
   ]
  },
  {
   "cell_type": "markdown",
   "metadata": {},
   "source": [
    "Here are the top 5 ages in terms of highest number of no shows (all under age 31).<br><br>Let's also have a quick look at mean/median age for no shows and those who show up."
   ]
  },
  {
   "cell_type": "code",
   "execution_count": 742,
   "metadata": {},
   "outputs": [
    {
     "name": "stdout",
     "output_type": "stream",
     "text": [
      "Mean age for no shows: 34.31766656212196\n",
      "Mean age for showed: 37.790853229939\n"
     ]
    }
   ],
   "source": [
    "mean_noshow = df.age[noshow].mean()\n",
    "mean_show = df.age[showedup].mean()\n",
    "print('Mean age for no shows: {}'.format(mean_noshow))\n",
    "print('Mean age for showed: {}'.format(mean_show))"
   ]
  },
  {
   "cell_type": "code",
   "execution_count": 741,
   "metadata": {},
   "outputs": [
    {
     "name": "stdout",
     "output_type": "stream",
     "text": [
      "Median age for no shows: 33.0\n",
      "Median age for showed: 38.0\n"
     ]
    }
   ],
   "source": [
    "median_noshow = df.age[noshow].median()\n",
    "median_show = df.age[showedup].median()\n",
    "print('Median age for no shows: {}'.format(median_noshow))\n",
    "print('Median age for showed: {}'.format(median_show))"
   ]
  },
  {
   "cell_type": "markdown",
   "metadata": {},
   "source": [
    "We can see here that in general, both the mean and median ages are lower than for those who showed, although they differ only slightly (by about 4-5 years)."
   ]
  },
  {
   "cell_type": "markdown",
   "metadata": {},
   "source": [
    "<a id='conclusions'></a>\n",
    "## Conclusions"
   ]
  },
  {
   "cell_type": "markdown",
   "metadata": {
    "collapsed": true
   },
   "source": [
    "In this analysis, I investigated the  Kaggle Medical Appointment No Shows dataset, which collected information from over 100k medical appointments in Brazil, and focused on whether patients showed up to their appointment or not, looking at various factors of the patients.<br><br>\n",
    "First, I wanted to see what percentage of patients did not show to their appointments, and was interested to see that a reasonably high proportion were no shows: about 20%.<br>Knowing this information, I could see why this data was collected, and why someone would be interested in analyzing it: 20% no shows could likely lead to time disruptions/wasted time for both doctors and administrative staff, patients being unable to schedule appointments as appointments may be taken by people that did not end up showing up, and so on.<br><br>\n",
    "I focused my analysis around 3 independent variables: neighborhood, whether or not an SMS message was sent, and patient age, and explored how these variables may contribute to the number of no shows.<br><br>\n",
    "In looking at neighborhood, I found that the number of no shows is pretty widely dispersed across neighborhoods, and looked at the top 5 neighborhoods with the most no shows. It would be interesting to perform additional analysis to find reasons for the high number of no shows in these neighborhoods: do they just have higher populations than other neighborhoods with fewer no shows, could they be caused by other factors as well?<br><br>\n",
    "I next looked into whether the receipt of an SMS message about the appointment would contribute to lower no shows. I first found that less than half of the patients actually received SMS messages about their appointments, and then then plotted the no shows and those who showed against whether or not they received a text message. In regards to no shows versus showed, there is a smaller difference between patients having received an SMS or not, than there is for those who showed. It seems that receiving an SMS or did not have a large influence on the number of no shows.<br><br>\n",
    "I then had a look at age in terms of no shows: Do older patients tend to miss their appointments more than younger patients? After plotting both no shows and those who showed, as well as looking at the medians and means for both groups, I concluded that generally younger patients (under the age of 31) tend to be no shows over older patients. A large number of no shows are babies (<=1 year old), then teenagers aged 17/19, and then 30 year olds."
   ]
  },
  {
   "cell_type": "markdown",
   "metadata": {},
   "source": [
    "### Limitations<br>\n",
    "In my analysis, I was interested in looking at all 110,525 appointments, and as AppointmentID was not duplicated, I moved forward with other rows that may have had other duplicate values. This could have had an effect on my results, especially when looking at age, as I did not look at distinct patients, and it is possible that each patient could have had multiple appointments, and were therefore counted multiple times.<br><br>I pointed to some areas where I saw correlation in my analysis, but I do not have enough data to and did not conduct statistical tests, and therefore hope that I did not argue causation in my analysis."
   ]
  }
 ],
 "metadata": {
  "kernelspec": {
   "display_name": "Python 3",
   "language": "python",
   "name": "python3"
  },
  "language_info": {
   "codemirror_mode": {
    "name": "ipython",
    "version": 3
   },
   "file_extension": ".py",
   "mimetype": "text/x-python",
   "name": "python",
   "nbconvert_exporter": "python",
   "pygments_lexer": "ipython3",
   "version": "3.8.2"
  }
 },
 "nbformat": 4,
 "nbformat_minor": 2
}
