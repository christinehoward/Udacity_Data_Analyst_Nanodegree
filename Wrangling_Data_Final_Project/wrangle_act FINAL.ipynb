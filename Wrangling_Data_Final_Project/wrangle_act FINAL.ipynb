{
 "cells": [
  {
   "cell_type": "markdown",
   "metadata": {},
   "source": [
    "## Gather data"
   ]
  },
  {
   "cell_type": "code",
   "execution_count": 10,
   "metadata": {},
   "outputs": [],
   "source": [
    "# import necessary packages. we may need more later, but we will start with these 3.\n",
    "import requests\n",
    "import pandas as pd\n",
    "import numpy as np"
   ]
  },
  {
   "cell_type": "code",
   "execution_count": 11,
   "metadata": {},
   "outputs": [],
   "source": [
    "df_twitter_archive = pd.read_csv('twitter-archive-enhanced.csv')\n",
    "tweet_ids_list = list(df_twitter_archive.tweet_id) # read in csv and create a list of tweet ids"
   ]
  },
  {
   "cell_type": "code",
   "execution_count": 12,
   "metadata": {},
   "outputs": [],
   "source": [
    "url = 'https://d17h27t6h515a5.cloudfront.net/topher/2017/August/599fd2ad_image-predictions/image-predictions.tsv'\n",
    "response = requests.get(url) \n",
    "# do a get request, which takes in an http request url (string)\n",
    "with open('image_predictions.tsv', mode='wb') as file: \n",
    "# with open opens a file in file system, the mode is write bytes because this .tsv is being read as bytes type\n",
    "    file.write(response.content) # writing content from the http request to a file\n",
    "df_images_preds = pd.read_csv('image_predictions.tsv', sep='\\t') # reading in .tsv file with separator as '\\t'"
   ]
  },
  {
   "cell_type": "code",
   "execution_count": 14,
   "metadata": {
    "scrolled": true
   },
   "outputs": [
    {
     "name": "stdout",
     "output_type": "stream",
     "text": [
      "[{'code': 144, 'message': 'No status found with that ID.'}]\n",
      "[{'code': 144, 'message': 'No status found with that ID.'}]\n",
      "[{'code': 144, 'message': 'No status found with that ID.'}]\n",
      "[{'code': 144, 'message': 'No status found with that ID.'}]\n",
      "[{'code': 144, 'message': 'No status found with that ID.'}]\n",
      "[{'code': 144, 'message': 'No status found with that ID.'}]\n",
      "[{'code': 144, 'message': 'No status found with that ID.'}]\n",
      "[{'code': 144, 'message': 'No status found with that ID.'}]\n",
      "[{'code': 144, 'message': 'No status found with that ID.'}]\n",
      "[{'code': 144, 'message': 'No status found with that ID.'}]\n",
      "[{'code': 144, 'message': 'No status found with that ID.'}]\n",
      "[{'code': 144, 'message': 'No status found with that ID.'}]\n",
      "[{'code': 144, 'message': 'No status found with that ID.'}]\n",
      "[{'code': 144, 'message': 'No status found with that ID.'}]\n",
      "[{'code': 144, 'message': 'No status found with that ID.'}]\n",
      "[{'code': 144, 'message': 'No status found with that ID.'}]\n",
      "[{'code': 144, 'message': 'No status found with that ID.'}]\n",
      "[{'code': 144, 'message': 'No status found with that ID.'}]\n",
      "[{'code': 144, 'message': 'No status found with that ID.'}]\n",
      "[{'code': 144, 'message': 'No status found with that ID.'}]\n",
      "[{'code': 179, 'message': 'Sorry, you are not authorized to see this status.'}]\n",
      "[{'code': 144, 'message': 'No status found with that ID.'}]\n",
      "[{'code': 144, 'message': 'No status found with that ID.'}]\n",
      "Rate limit reached. Sleeping for: 730\n",
      "[{'code': 144, 'message': 'No status found with that ID.'}]\n",
      "[{'code': 144, 'message': 'No status found with that ID.'}]\n",
      "Rate limit reached. Sleeping for: 727\n"
     ]
    }
   ],
   "source": [
    "# import tweepy\n",
    "# import json\n",
    "\n",
    "# consumer_key = 'NtjyAuOPpD4eoFYjHHcPBegHb'\n",
    "# consumer_secret = 'QOudMd40CxQZp8aCOIyJXLz1PSyQkpnaanyh6hWcNdmViF3XQj'\n",
    "# access_token = '1256694316841480193-BSV5SyjXZJi82scedZC0b7LXCwVzLb'\n",
    "# access_secret = 'RZxmo2YnDOMflF9fwPWsF0dVfa68cmiw8Mx2P40jsp4at'\n",
    "\n",
    "# auth = tweepy.OAuthHandler(consumer_key, consumer_secret)\n",
    "# auth.set_access_token(access_token, access_secret)\n",
    "\n",
    "# api = tweepy.API(auth, wait_on_rate_limit=True, wait_on_rate_limit_notify=True)\n",
    "\n",
    "# # then after we get the tweet_status we use json.dumps to turn tweet_status (which is of json type) into string type, so we can write to the tweet_json file. \n",
    "\n",
    "# with open('tweet_json.txt', mode=\"w\") as file: # here we are opening the tweet_json file, with mode w, and assigning to \"file\"    \n",
    "#     request_list = []\n",
    "#     for tweet in tweet_ids_list:\n",
    "#         try:\n",
    "#             tweet_status = api.get_status(tweet) # then we are doing a get_status with the ids\n",
    "#             # Grab only the keys we want\n",
    "#             final_result = {k:v  for k, v in tweet_status._json.items() if k in ['id','retweet_count', 'favourite_count',  'favorite_count']}\n",
    "#             request_list.append(final_result) # Append the result to the request_list\n",
    "#         except Exception as e:\n",
    "#         # If any error happens, we want to catch, so it doesn't break the loop\n",
    "#             print(e)\n",
    "#             # When I finish doing all the requests, I want to write that list into my file so I can access later\n",
    "#     file.write(str(request_list))"
   ]
  },
  {
   "cell_type": "code",
   "execution_count": 15,
   "metadata": {},
   "outputs": [],
   "source": [
    "import tweepy\n",
    "import json\n",
    "# With the content saved in a file, now it's easy to just run this part and get the data.\n",
    "with open('tweet_json.txt') as file:\n",
    "    line = file.readline()\n",
    "    line2 = line.replace('\\'', '\\\"') # replace ' with \" so it can understand JSON.\n",
    "    json_version = json.loads(line2) # Transform the str to JSON\n",
    "    # use the json_version and create a DataFrame\n",
    "    df_tweepy = pd.DataFrame(json_version, columns=['id', 'retweet_count', 'favorite_count'])  "
   ]
  },
  {
   "cell_type": "code",
   "execution_count": 16,
   "metadata": {},
   "outputs": [
    {
     "name": "stdout",
     "output_type": "stream",
     "text": [
      "Key is here.\n"
     ]
    }
   ],
   "source": [
    "for key in list(df_tweepy.id): # double check that a random key from df_twitter_archive exists in df_tweepy\n",
    "    if key == 720043174954147842:\n",
    "        print('Key is here.')"
   ]
  },
  {
   "cell_type": "markdown",
   "metadata": {},
   "source": [
    "## Assess data"
   ]
  },
  {
   "cell_type": "markdown",
   "metadata": {},
   "source": [
    ">First I assess the data visualy by having a look at random samples of each of the dataframes to see what information is present, and see where improvements could be made/cleaning could be performed."
   ]
  },
  {
   "cell_type": "code",
   "execution_count": 17,
   "metadata": {},
   "outputs": [
    {
     "data": {
      "text/html": [
       "<div>\n",
       "<style scoped>\n",
       "    .dataframe tbody tr th:only-of-type {\n",
       "        vertical-align: middle;\n",
       "    }\n",
       "\n",
       "    .dataframe tbody tr th {\n",
       "        vertical-align: top;\n",
       "    }\n",
       "\n",
       "    .dataframe thead th {\n",
       "        text-align: right;\n",
       "    }\n",
       "</style>\n",
       "<table border=\"1\" class=\"dataframe\">\n",
       "  <thead>\n",
       "    <tr style=\"text-align: right;\">\n",
       "      <th></th>\n",
       "      <th>tweet_id</th>\n",
       "      <th>in_reply_to_status_id</th>\n",
       "      <th>in_reply_to_user_id</th>\n",
       "      <th>timestamp</th>\n",
       "      <th>source</th>\n",
       "      <th>text</th>\n",
       "      <th>retweeted_status_id</th>\n",
       "      <th>retweeted_status_user_id</th>\n",
       "      <th>retweeted_status_timestamp</th>\n",
       "      <th>expanded_urls</th>\n",
       "      <th>rating_numerator</th>\n",
       "      <th>rating_denominator</th>\n",
       "      <th>name</th>\n",
       "      <th>doggo</th>\n",
       "      <th>floofer</th>\n",
       "      <th>pupper</th>\n",
       "      <th>puppo</th>\n",
       "    </tr>\n",
       "  </thead>\n",
       "  <tbody>\n",
       "    <tr>\n",
       "      <th>997</th>\n",
       "      <td>748324050481647620</td>\n",
       "      <td>NaN</td>\n",
       "      <td>NaN</td>\n",
       "      <td>2016-06-30 01:15:31 +0000</td>\n",
       "      <td>&lt;a href=\"http://twitter.com/download/iphone\" r...</td>\n",
       "      <td>This is Duke. He permanently looks like he jus...</td>\n",
       "      <td>NaN</td>\n",
       "      <td>NaN</td>\n",
       "      <td>NaN</td>\n",
       "      <td>https://twitter.com/dog_rates/status/748324050...</td>\n",
       "      <td>11</td>\n",
       "      <td>10</td>\n",
       "      <td>Duke</td>\n",
       "      <td>None</td>\n",
       "      <td>None</td>\n",
       "      <td>None</td>\n",
       "      <td>None</td>\n",
       "    </tr>\n",
       "    <tr>\n",
       "      <th>2313</th>\n",
       "      <td>666739327293083650</td>\n",
       "      <td>NaN</td>\n",
       "      <td>NaN</td>\n",
       "      <td>2015-11-17 22:06:57 +0000</td>\n",
       "      <td>&lt;a href=\"http://twitter.com/download/iphone\" r...</td>\n",
       "      <td>This is Lugan. He is a Bohemian Rhapsody. Very...</td>\n",
       "      <td>NaN</td>\n",
       "      <td>NaN</td>\n",
       "      <td>NaN</td>\n",
       "      <td>https://twitter.com/dog_rates/status/666739327...</td>\n",
       "      <td>10</td>\n",
       "      <td>10</td>\n",
       "      <td>Lugan</td>\n",
       "      <td>None</td>\n",
       "      <td>None</td>\n",
       "      <td>None</td>\n",
       "      <td>None</td>\n",
       "    </tr>\n",
       "    <tr>\n",
       "      <th>594</th>\n",
       "      <td>798705661114773508</td>\n",
       "      <td>NaN</td>\n",
       "      <td>NaN</td>\n",
       "      <td>2016-11-16 01:54:03 +0000</td>\n",
       "      <td>&lt;a href=\"http://twitter.com/download/iphone\" r...</td>\n",
       "      <td>RT @dog_rates: Meet Baloo. He's expecting a fa...</td>\n",
       "      <td>7.406770e+17</td>\n",
       "      <td>4.196984e+09</td>\n",
       "      <td>2016-06-08 22:48:46 +0000</td>\n",
       "      <td>https://twitter.com/dog_rates/status/740676976...</td>\n",
       "      <td>11</td>\n",
       "      <td>10</td>\n",
       "      <td>Baloo</td>\n",
       "      <td>None</td>\n",
       "      <td>None</td>\n",
       "      <td>pupper</td>\n",
       "      <td>None</td>\n",
       "    </tr>\n",
       "    <tr>\n",
       "      <th>820</th>\n",
       "      <td>770414278348247044</td>\n",
       "      <td>NaN</td>\n",
       "      <td>NaN</td>\n",
       "      <td>2016-08-30 00:14:12 +0000</td>\n",
       "      <td>&lt;a href=\"http://twitter.com/download/iphone\" r...</td>\n",
       "      <td>Meet Al Cabone. He's a gangsta puppa. Rather h...</td>\n",
       "      <td>NaN</td>\n",
       "      <td>NaN</td>\n",
       "      <td>NaN</td>\n",
       "      <td>https://twitter.com/dog_rates/status/770414278...</td>\n",
       "      <td>11</td>\n",
       "      <td>10</td>\n",
       "      <td>Al</td>\n",
       "      <td>None</td>\n",
       "      <td>None</td>\n",
       "      <td>None</td>\n",
       "      <td>None</td>\n",
       "    </tr>\n",
       "    <tr>\n",
       "      <th>681</th>\n",
       "      <td>788765914992902144</td>\n",
       "      <td>NaN</td>\n",
       "      <td>NaN</td>\n",
       "      <td>2016-10-19 15:37:03 +0000</td>\n",
       "      <td>&lt;a href=\"http://twitter.com/download/iphone\" r...</td>\n",
       "      <td>This is Butter. She can have whatever she want...</td>\n",
       "      <td>NaN</td>\n",
       "      <td>NaN</td>\n",
       "      <td>NaN</td>\n",
       "      <td>https://twitter.com/dog_rates/status/788765914...</td>\n",
       "      <td>12</td>\n",
       "      <td>10</td>\n",
       "      <td>Butter</td>\n",
       "      <td>None</td>\n",
       "      <td>None</td>\n",
       "      <td>None</td>\n",
       "      <td>None</td>\n",
       "    </tr>\n",
       "  </tbody>\n",
       "</table>\n",
       "</div>"
      ],
      "text/plain": [
       "                tweet_id  in_reply_to_status_id  in_reply_to_user_id  \\\n",
       "997   748324050481647620                    NaN                  NaN   \n",
       "2313  666739327293083650                    NaN                  NaN   \n",
       "594   798705661114773508                    NaN                  NaN   \n",
       "820   770414278348247044                    NaN                  NaN   \n",
       "681   788765914992902144                    NaN                  NaN   \n",
       "\n",
       "                      timestamp  \\\n",
       "997   2016-06-30 01:15:31 +0000   \n",
       "2313  2015-11-17 22:06:57 +0000   \n",
       "594   2016-11-16 01:54:03 +0000   \n",
       "820   2016-08-30 00:14:12 +0000   \n",
       "681   2016-10-19 15:37:03 +0000   \n",
       "\n",
       "                                                 source  \\\n",
       "997   <a href=\"http://twitter.com/download/iphone\" r...   \n",
       "2313  <a href=\"http://twitter.com/download/iphone\" r...   \n",
       "594   <a href=\"http://twitter.com/download/iphone\" r...   \n",
       "820   <a href=\"http://twitter.com/download/iphone\" r...   \n",
       "681   <a href=\"http://twitter.com/download/iphone\" r...   \n",
       "\n",
       "                                                   text  retweeted_status_id  \\\n",
       "997   This is Duke. He permanently looks like he jus...                  NaN   \n",
       "2313  This is Lugan. He is a Bohemian Rhapsody. Very...                  NaN   \n",
       "594   RT @dog_rates: Meet Baloo. He's expecting a fa...         7.406770e+17   \n",
       "820   Meet Al Cabone. He's a gangsta puppa. Rather h...                  NaN   \n",
       "681   This is Butter. She can have whatever she want...                  NaN   \n",
       "\n",
       "      retweeted_status_user_id retweeted_status_timestamp  \\\n",
       "997                        NaN                        NaN   \n",
       "2313                       NaN                        NaN   \n",
       "594               4.196984e+09  2016-06-08 22:48:46 +0000   \n",
       "820                        NaN                        NaN   \n",
       "681                        NaN                        NaN   \n",
       "\n",
       "                                          expanded_urls  rating_numerator  \\\n",
       "997   https://twitter.com/dog_rates/status/748324050...                11   \n",
       "2313  https://twitter.com/dog_rates/status/666739327...                10   \n",
       "594   https://twitter.com/dog_rates/status/740676976...                11   \n",
       "820   https://twitter.com/dog_rates/status/770414278...                11   \n",
       "681   https://twitter.com/dog_rates/status/788765914...                12   \n",
       "\n",
       "      rating_denominator    name doggo floofer  pupper puppo  \n",
       "997                   10    Duke  None    None    None  None  \n",
       "2313                  10   Lugan  None    None    None  None  \n",
       "594                   10   Baloo  None    None  pupper  None  \n",
       "820                   10      Al  None    None    None  None  \n",
       "681                   10  Butter  None    None    None  None  "
      ]
     },
     "execution_count": 17,
     "metadata": {},
     "output_type": "execute_result"
    }
   ],
   "source": [
    "df_twitter_archive.sample(5)"
   ]
  },
  {
   "cell_type": "code",
   "execution_count": 18,
   "metadata": {},
   "outputs": [
    {
     "data": {
      "text/html": [
       "<div>\n",
       "<style scoped>\n",
       "    .dataframe tbody tr th:only-of-type {\n",
       "        vertical-align: middle;\n",
       "    }\n",
       "\n",
       "    .dataframe tbody tr th {\n",
       "        vertical-align: top;\n",
       "    }\n",
       "\n",
       "    .dataframe thead th {\n",
       "        text-align: right;\n",
       "    }\n",
       "</style>\n",
       "<table border=\"1\" class=\"dataframe\">\n",
       "  <thead>\n",
       "    <tr style=\"text-align: right;\">\n",
       "      <th></th>\n",
       "      <th>tweet_id</th>\n",
       "      <th>jpg_url</th>\n",
       "      <th>img_num</th>\n",
       "      <th>p1</th>\n",
       "      <th>p1_conf</th>\n",
       "      <th>p1_dog</th>\n",
       "      <th>p2</th>\n",
       "      <th>p2_conf</th>\n",
       "      <th>p2_dog</th>\n",
       "      <th>p3</th>\n",
       "      <th>p3_conf</th>\n",
       "      <th>p3_dog</th>\n",
       "    </tr>\n",
       "  </thead>\n",
       "  <tbody>\n",
       "    <tr>\n",
       "      <th>1428</th>\n",
       "      <td>772826264096874500</td>\n",
       "      <td>https://pbs.twimg.com/media/CrmhYYIXEAEcyYY.jpg</td>\n",
       "      <td>1</td>\n",
       "      <td>basset</td>\n",
       "      <td>0.915351</td>\n",
       "      <td>True</td>\n",
       "      <td>Walker_hound</td>\n",
       "      <td>0.072416</td>\n",
       "      <td>True</td>\n",
       "      <td>beagle</td>\n",
       "      <td>0.008229</td>\n",
       "      <td>True</td>\n",
       "    </tr>\n",
       "    <tr>\n",
       "      <th>1536</th>\n",
       "      <td>790581949425475584</td>\n",
       "      <td>https://pbs.twimg.com/media/Cvi2FiKWgAAif1u.jpg</td>\n",
       "      <td>2</td>\n",
       "      <td>refrigerator</td>\n",
       "      <td>0.998886</td>\n",
       "      <td>False</td>\n",
       "      <td>malinois</td>\n",
       "      <td>0.000153</td>\n",
       "      <td>True</td>\n",
       "      <td>kelpie</td>\n",
       "      <td>0.000131</td>\n",
       "      <td>True</td>\n",
       "    </tr>\n",
       "    <tr>\n",
       "      <th>23</th>\n",
       "      <td>666345417576210432</td>\n",
       "      <td>https://pbs.twimg.com/media/CT9Vn7PWoAA_ZCM.jpg</td>\n",
       "      <td>1</td>\n",
       "      <td>golden_retriever</td>\n",
       "      <td>0.858744</td>\n",
       "      <td>True</td>\n",
       "      <td>Chesapeake_Bay_retriever</td>\n",
       "      <td>0.054787</td>\n",
       "      <td>True</td>\n",
       "      <td>Labrador_retriever</td>\n",
       "      <td>0.014241</td>\n",
       "      <td>True</td>\n",
       "    </tr>\n",
       "    <tr>\n",
       "      <th>1264</th>\n",
       "      <td>749064354620928000</td>\n",
       "      <td>https://pbs.twimg.com/media/CmU2DVWWgAArvp3.jpg</td>\n",
       "      <td>2</td>\n",
       "      <td>pug</td>\n",
       "      <td>0.985222</td>\n",
       "      <td>True</td>\n",
       "      <td>Brabancon_griffon</td>\n",
       "      <td>0.003314</td>\n",
       "      <td>True</td>\n",
       "      <td>Pekinese</td>\n",
       "      <td>0.002989</td>\n",
       "      <td>True</td>\n",
       "    </tr>\n",
       "    <tr>\n",
       "      <th>825</th>\n",
       "      <td>693262851218264065</td>\n",
       "      <td>https://pbs.twimg.com/media/CZ724fDUYAAytS-.jpg</td>\n",
       "      <td>1</td>\n",
       "      <td>golden_retriever</td>\n",
       "      <td>0.989333</td>\n",
       "      <td>True</td>\n",
       "      <td>Labrador_retriever</td>\n",
       "      <td>0.007946</td>\n",
       "      <td>True</td>\n",
       "      <td>kuvasz</td>\n",
       "      <td>0.000749</td>\n",
       "      <td>True</td>\n",
       "    </tr>\n",
       "  </tbody>\n",
       "</table>\n",
       "</div>"
      ],
      "text/plain": [
       "                tweet_id                                          jpg_url  \\\n",
       "1428  772826264096874500  https://pbs.twimg.com/media/CrmhYYIXEAEcyYY.jpg   \n",
       "1536  790581949425475584  https://pbs.twimg.com/media/Cvi2FiKWgAAif1u.jpg   \n",
       "23    666345417576210432  https://pbs.twimg.com/media/CT9Vn7PWoAA_ZCM.jpg   \n",
       "1264  749064354620928000  https://pbs.twimg.com/media/CmU2DVWWgAArvp3.jpg   \n",
       "825   693262851218264065  https://pbs.twimg.com/media/CZ724fDUYAAytS-.jpg   \n",
       "\n",
       "      img_num                p1   p1_conf  p1_dog                        p2  \\\n",
       "1428        1            basset  0.915351    True              Walker_hound   \n",
       "1536        2      refrigerator  0.998886   False                  malinois   \n",
       "23          1  golden_retriever  0.858744    True  Chesapeake_Bay_retriever   \n",
       "1264        2               pug  0.985222    True         Brabancon_griffon   \n",
       "825         1  golden_retriever  0.989333    True        Labrador_retriever   \n",
       "\n",
       "       p2_conf  p2_dog                  p3   p3_conf  p3_dog  \n",
       "1428  0.072416    True              beagle  0.008229    True  \n",
       "1536  0.000153    True              kelpie  0.000131    True  \n",
       "23    0.054787    True  Labrador_retriever  0.014241    True  \n",
       "1264  0.003314    True            Pekinese  0.002989    True  \n",
       "825   0.007946    True              kuvasz  0.000749    True  "
      ]
     },
     "execution_count": 18,
     "metadata": {},
     "output_type": "execute_result"
    }
   ],
   "source": [
    "df_images_preds.sample(5)"
   ]
  },
  {
   "cell_type": "code",
   "execution_count": 19,
   "metadata": {},
   "outputs": [
    {
     "data": {
      "text/html": [
       "<div>\n",
       "<style scoped>\n",
       "    .dataframe tbody tr th:only-of-type {\n",
       "        vertical-align: middle;\n",
       "    }\n",
       "\n",
       "    .dataframe tbody tr th {\n",
       "        vertical-align: top;\n",
       "    }\n",
       "\n",
       "    .dataframe thead th {\n",
       "        text-align: right;\n",
       "    }\n",
       "</style>\n",
       "<table border=\"1\" class=\"dataframe\">\n",
       "  <thead>\n",
       "    <tr style=\"text-align: right;\">\n",
       "      <th></th>\n",
       "      <th>id</th>\n",
       "      <th>retweet_count</th>\n",
       "      <th>favorite_count</th>\n",
       "    </tr>\n",
       "  </thead>\n",
       "  <tbody>\n",
       "    <tr>\n",
       "      <th>2079</th>\n",
       "      <td>670668383499735048</td>\n",
       "      <td>4815</td>\n",
       "      <td>10314</td>\n",
       "    </tr>\n",
       "    <tr>\n",
       "      <th>881</th>\n",
       "      <td>758355060040593408</td>\n",
       "      <td>1089</td>\n",
       "      <td>3430</td>\n",
       "    </tr>\n",
       "    <tr>\n",
       "      <th>851</th>\n",
       "      <td>761334018830917632</td>\n",
       "      <td>1465</td>\n",
       "      <td>5243</td>\n",
       "    </tr>\n",
       "    <tr>\n",
       "      <th>1570</th>\n",
       "      <td>686377065986265092</td>\n",
       "      <td>568</td>\n",
       "      <td>2210</td>\n",
       "    </tr>\n",
       "    <tr>\n",
       "      <th>1937</th>\n",
       "      <td>673355879178194945</td>\n",
       "      <td>554</td>\n",
       "      <td>1457</td>\n",
       "    </tr>\n",
       "  </tbody>\n",
       "</table>\n",
       "</div>"
      ],
      "text/plain": [
       "                      id  retweet_count  favorite_count\n",
       "2079  670668383499735048           4815           10314\n",
       "881   758355060040593408           1089            3430\n",
       "851   761334018830917632           1465            5243\n",
       "1570  686377065986265092            568            2210\n",
       "1937  673355879178194945            554            1457"
      ]
     },
     "execution_count": 19,
     "metadata": {},
     "output_type": "execute_result"
    }
   ],
   "source": [
    "df_tweepy.sample(5)"
   ]
  },
  {
   "cell_type": "markdown",
   "metadata": {},
   "source": [
    ">Then I assess the data programmatically, using .info, which shows how many columns/rows there are, what data type the columns have, if there are columns missing values, the names of the columns, and so on."
   ]
  },
  {
   "cell_type": "code",
   "execution_count": 20,
   "metadata": {},
   "outputs": [
    {
     "name": "stdout",
     "output_type": "stream",
     "text": [
      "<class 'pandas.core.frame.DataFrame'>\n",
      "RangeIndex: 2356 entries, 0 to 2355\n",
      "Data columns (total 17 columns):\n",
      "tweet_id                      2356 non-null int64\n",
      "in_reply_to_status_id         78 non-null float64\n",
      "in_reply_to_user_id           78 non-null float64\n",
      "timestamp                     2356 non-null object\n",
      "source                        2356 non-null object\n",
      "text                          2356 non-null object\n",
      "retweeted_status_id           181 non-null float64\n",
      "retweeted_status_user_id      181 non-null float64\n",
      "retweeted_status_timestamp    181 non-null object\n",
      "expanded_urls                 2297 non-null object\n",
      "rating_numerator              2356 non-null int64\n",
      "rating_denominator            2356 non-null int64\n",
      "name                          2356 non-null object\n",
      "doggo                         2356 non-null object\n",
      "floofer                       2356 non-null object\n",
      "pupper                        2356 non-null object\n",
      "puppo                         2356 non-null object\n",
      "dtypes: float64(4), int64(3), object(10)\n",
      "memory usage: 313.0+ KB\n"
     ]
    }
   ],
   "source": [
    "df_twitter_archive.info()"
   ]
  },
  {
   "cell_type": "code",
   "execution_count": 21,
   "metadata": {},
   "outputs": [
    {
     "name": "stdout",
     "output_type": "stream",
     "text": [
      "<class 'pandas.core.frame.DataFrame'>\n",
      "RangeIndex: 2075 entries, 0 to 2074\n",
      "Data columns (total 12 columns):\n",
      "tweet_id    2075 non-null int64\n",
      "jpg_url     2075 non-null object\n",
      "img_num     2075 non-null int64\n",
      "p1          2075 non-null object\n",
      "p1_conf     2075 non-null float64\n",
      "p1_dog      2075 non-null bool\n",
      "p2          2075 non-null object\n",
      "p2_conf     2075 non-null float64\n",
      "p2_dog      2075 non-null bool\n",
      "p3          2075 non-null object\n",
      "p3_conf     2075 non-null float64\n",
      "p3_dog      2075 non-null bool\n",
      "dtypes: bool(3), float64(3), int64(2), object(4)\n",
      "memory usage: 152.1+ KB\n"
     ]
    }
   ],
   "source": [
    "df_images_preds.info()"
   ]
  },
  {
   "cell_type": "code",
   "execution_count": 22,
   "metadata": {},
   "outputs": [
    {
     "name": "stdout",
     "output_type": "stream",
     "text": [
      "<class 'pandas.core.frame.DataFrame'>\n",
      "RangeIndex: 2331 entries, 0 to 2330\n",
      "Data columns (total 3 columns):\n",
      "id                2331 non-null int64\n",
      "retweet_count     2331 non-null int64\n",
      "favorite_count    2331 non-null int64\n",
      "dtypes: int64(3)\n",
      "memory usage: 54.7 KB\n"
     ]
    }
   ],
   "source": [
    "df_tweepy.info()"
   ]
  },
  {
   "cell_type": "markdown",
   "metadata": {},
   "source": [
    "### Messy data issues"
   ]
  },
  {
   "cell_type": "markdown",
   "metadata": {},
   "source": [
    "#### Assess"
   ]
  },
  {
   "cell_type": "markdown",
   "metadata": {},
   "source": [
    "1. Dog stage in more than 1 column.\n",
    "2. There are different numbers of rows in each dataframe."
   ]
  },
  {
   "cell_type": "markdown",
   "metadata": {},
   "source": [
    "#### Define"
   ]
  },
  {
   "cell_type": "markdown",
   "metadata": {},
   "source": [
    "1. Collapse the different dog stage columns into 1 column.\n",
    "2. Assess each df to determine which rows are shared across all 3 dataframes, and cut rows that are not shared across all 3 by merging."
   ]
  },
  {
   "cell_type": "markdown",
   "metadata": {},
   "source": [
    "### Dirty data issues"
   ]
  },
  {
   "cell_type": "markdown",
   "metadata": {},
   "source": [
    "#### Assess"
   ]
  },
  {
   "cell_type": "markdown",
   "metadata": {},
   "source": [
    "1. There are retweets along with original tweets, and there may be some without images.\n",
    "2. The tweet id columns have different names across the 3 dfs.\n",
    "3. Tweet id is integer type instead of string in all 3 dfs.\n",
    "4. There are columns that have unnecessary information for the data analysis I will complete.\n",
    "5. Dog names with words like \"quite\", \"a\", \"an\", \"the\"\n",
    "6. Timestamps as object, dog type as object.\n",
    "7. Some of the ratings denominator/numerator columns have strange values (denominators larger than 10 for example).\n",
    "8. The links included in the tweet texts are duplicated, we already have these in the original df."
   ]
  },
  {
   "cell_type": "markdown",
   "metadata": {},
   "source": [
    "#### Define"
   ]
  },
  {
   "cell_type": "markdown",
   "metadata": {},
   "source": [
    "1. Remove rows that are retweets (have non NaN values in retweeted_status_id column), and check if there are any rows without images in the image predictions df.\n",
    "2. Rename the tweet id column in the image predictions df so that we can merge the 3 dfs together, making it easier to work with the data moving forward.\n",
    "3. Change tweet id from integer type to string in all 3 dfs.\n",
    "4. Drop columns that will not be needed in data analysis to make handling the data easier.\n",
    "5. Remove words like \"quite\", \"a\", \"an\", \"the\" in the dog name column, we will not be able to recover these names.\n",
    "6. Change data types so that they make sense: timestamp as date time, dog stage as category.\n",
    "7. Replace ratings denominator/numerator columns that have strange values (such as denominators larger than 10) with NaN.\n",
    "8. Remove url from tweet text, as we already have this link in the original dataframe. Then we will have clean, shorter text."
   ]
  },
  {
   "cell_type": "markdown",
   "metadata": {},
   "source": [
    "## Clean data"
   ]
  },
  {
   "cell_type": "markdown",
   "metadata": {},
   "source": [
    "#### Messy data issue #1: Dog stage in more than 1 column."
   ]
  },
  {
   "cell_type": "markdown",
   "metadata": {},
   "source": [
    "Code:"
   ]
  },
  {
   "cell_type": "code",
   "execution_count": 104,
   "metadata": {},
   "outputs": [],
   "source": [
    "df_archive_clean = df_twitter_archive.copy()\n",
    "df_img_pred_clean = df_images_preds.copy()\n",
    "df_tweepy_clean = df_tweepy.copy() # making copies of original dataframes"
   ]
  },
  {
   "cell_type": "code",
   "execution_count": 105,
   "metadata": {},
   "outputs": [],
   "source": [
    "dog_stage = []\n",
    "# We want to find in the text column the dog stages, and put this information into a new dog stage column \n",
    "for search_text in df_archive_clean['text']:\n",
    "    for dog in ['pupper', 'puppo', 'doggo', 'floof']: # we use a loop to loop through text in each row looking for dog stages\n",
    "        if dog in str(search_text.lower()): \n",
    "            # we want to lowercase the text so we are able to find all stages, and not miss some that may be uppercase\n",
    "            dog_stage.append(dog)\n",
    "            # we append dog value (pupper, puppo, etc.) to the dog_stage list\n",
    "            break # if we find it, we break, if we do not, we append the word None\n",
    "    else:\n",
    "        dog_stage.append('None')\n",
    "        \n",
    "df_archive_clean['dog_stage'] = dog_stage # create a dog stage column with dog_stage list values"
   ]
  },
  {
   "cell_type": "code",
   "execution_count": 106,
   "metadata": {},
   "outputs": [
    {
     "data": {
      "text/plain": [
       "None      1905\n",
       "pupper    283 \n",
       "doggo     93  \n",
       "puppo     38  \n",
       "floof     37  \n",
       "Name: dog_stage, dtype: int64"
      ]
     },
     "execution_count": 106,
     "metadata": {},
     "output_type": "execute_result"
    }
   ],
   "source": [
    "df_archive_clean['dog_stage'].value_counts()"
   ]
  },
  {
   "cell_type": "code",
   "execution_count": 107,
   "metadata": {},
   "outputs": [],
   "source": [
    "df_archive_clean.drop(['doggo', 'floofer', 'pupper', 'puppo'], axis=1, inplace=True) \n",
    "# we drop the unnecessary/extra columns leaving only dog_stage"
   ]
  },
  {
   "cell_type": "markdown",
   "metadata": {},
   "source": [
    "Test:"
   ]
  },
  {
   "cell_type": "code",
   "execution_count": 108,
   "metadata": {},
   "outputs": [
    {
     "name": "stdout",
     "output_type": "stream",
     "text": [
      "<class 'pandas.core.frame.DataFrame'>\n",
      "RangeIndex: 2356 entries, 0 to 2355\n",
      "Data columns (total 14 columns):\n",
      "tweet_id                      2356 non-null int64\n",
      "in_reply_to_status_id         78 non-null float64\n",
      "in_reply_to_user_id           78 non-null float64\n",
      "timestamp                     2356 non-null object\n",
      "source                        2356 non-null object\n",
      "text                          2356 non-null object\n",
      "retweeted_status_id           181 non-null float64\n",
      "retweeted_status_user_id      181 non-null float64\n",
      "retweeted_status_timestamp    181 non-null object\n",
      "expanded_urls                 2297 non-null object\n",
      "rating_numerator              2356 non-null int64\n",
      "rating_denominator            2356 non-null int64\n",
      "name                          2356 non-null object\n",
      "dog_stage                     2356 non-null object\n",
      "dtypes: float64(4), int64(3), object(7)\n",
      "memory usage: 257.8+ KB\n"
     ]
    }
   ],
   "source": [
    "df_archive_clean.info() # new column is there, old columns have been dropped"
   ]
  },
  {
   "cell_type": "markdown",
   "metadata": {},
   "source": [
    "#### Dirty data issue #1: There are retweets along with original tweets, and there may be some without images."
   ]
  },
  {
   "cell_type": "markdown",
   "metadata": {},
   "source": [
    "Code:"
   ]
  },
  {
   "cell_type": "code",
   "execution_count": 109,
   "metadata": {},
   "outputs": [],
   "source": [
    "# We make the assumption that if a row has a value in the retweet status id column, it means it is a retweet.\n",
    "\n",
    "# We run isna on retweet status column to see where the null values are, and also so we change the values to true or false (is or is not na)\n",
    "df_archive_clean.retweeted_status_id = df_archive_clean.retweeted_status_id.isna()\n",
    "\n",
    "# Drop the values that are False, meaning they are retweets, because they have a value.\n",
    "df_archive_clean.drop(df_archive_clean[df_archive_clean.retweeted_status_id == False].index, inplace=True)"
   ]
  },
  {
   "cell_type": "code",
   "execution_count": 110,
   "metadata": {},
   "outputs": [
    {
     "name": "stdout",
     "output_type": "stream",
     "text": [
      "2073\n",
      "['https://pbs.twimg.com/tweet_video_thumb/CVKtH-4WIAAmiQ5.png', 'https://pbs.twimg.com/tweet_video_thumb/CZ0mhduWkAICSGe.png']\n"
     ]
    }
   ],
   "source": [
    "# After dropping the retweets, we look to see if there are any non-images in the jpg url column in df_img_pred_clean.\n",
    "\n",
    "count = 0 # we want to track count of .jpgs in jpgurl column / list those that aren't jpgs\n",
    "not_jpgs = []\n",
    "for img in df_img_pred_clean.jpg_url:\n",
    "    if img.find('.jpg') == -1: # if substring doesn't exist inside the string, it returns -1.\n",
    "        not_jpgs.append(img) # append to not jpgs\n",
    "    else:\n",
    "        count += 1 # in order to get total number of jpgs\n",
    "        \n",
    "print(count)\n",
    "print(not_jpgs)\n",
    "\n",
    "# there are 2 files that are not jpgs but are still image files (pngs), so we leave these alone"
   ]
  },
  {
   "cell_type": "markdown",
   "metadata": {},
   "source": [
    "Test:"
   ]
  },
  {
   "cell_type": "code",
   "execution_count": 111,
   "metadata": {},
   "outputs": [
    {
     "data": {
      "text/plain": [
       "(2175, 14)"
      ]
     },
     "execution_count": 111,
     "metadata": {},
     "output_type": "execute_result"
    }
   ],
   "source": [
    "# above we had 2356 rows in df_archive_clean, let's check to make sure the rows above were dropped.\n",
    "df_archive_clean.shape\n",
    "# we now have 2175, so clearly the this was successful"
   ]
  },
  {
   "cell_type": "markdown",
   "metadata": {},
   "source": [
    "#### Dirty data issue #2: The tweet id columns have different names across the 3 dfs."
   ]
  },
  {
   "cell_type": "markdown",
   "metadata": {},
   "source": [
    "Code:"
   ]
  },
  {
   "cell_type": "code",
   "execution_count": 112,
   "metadata": {},
   "outputs": [],
   "source": [
    "# Rename to tweet_id so we can join the 3 dataframes\n",
    "df_tweepy_clean.rename(columns={'id': 'tweet_id'}, inplace=True)"
   ]
  },
  {
   "cell_type": "markdown",
   "metadata": {},
   "source": [
    "Test:"
   ]
  },
  {
   "cell_type": "code",
   "execution_count": 113,
   "metadata": {},
   "outputs": [
    {
     "data": {
      "text/plain": [
       "Index(['tweet_id', 'retweet_count', 'favorite_count'], dtype='object')"
      ]
     },
     "execution_count": 113,
     "metadata": {},
     "output_type": "execute_result"
    }
   ],
   "source": [
    "df_tweepy_clean.columns\n",
    "# we can see that the column name has changed"
   ]
  },
  {
   "cell_type": "markdown",
   "metadata": {},
   "source": [
    "#### Dirty data issue #3: Tweet id is integer type instead of string in all 3 dfs."
   ]
  },
  {
   "cell_type": "markdown",
   "metadata": {},
   "source": [
    "Code:"
   ]
  },
  {
   "cell_type": "code",
   "execution_count": 114,
   "metadata": {},
   "outputs": [],
   "source": [
    "df_archive_clean.tweet_id = df_archive_clean.tweet_id.astype(str)\n",
    "df_img_pred_clean.tweet_id = df_img_pred_clean.tweet_id.astype(str)\n",
    "df_tweepy_clean.tweet_id = df_tweepy_clean.tweet_id.astype(str)"
   ]
  },
  {
   "cell_type": "markdown",
   "metadata": {},
   "source": [
    "Test:"
   ]
  },
  {
   "cell_type": "code",
   "execution_count": 115,
   "metadata": {},
   "outputs": [
    {
     "data": {
      "text/plain": [
       "str"
      ]
     },
     "execution_count": 115,
     "metadata": {},
     "output_type": "execute_result"
    }
   ],
   "source": [
    "type(df_archive_clean.tweet_id[0])"
   ]
  },
  {
   "cell_type": "code",
   "execution_count": 116,
   "metadata": {},
   "outputs": [
    {
     "data": {
      "text/plain": [
       "str"
      ]
     },
     "execution_count": 116,
     "metadata": {},
     "output_type": "execute_result"
    }
   ],
   "source": [
    "type(df_img_pred_clean.tweet_id[0])"
   ]
  },
  {
   "cell_type": "code",
   "execution_count": 117,
   "metadata": {},
   "outputs": [
    {
     "data": {
      "text/plain": [
       "str"
      ]
     },
     "execution_count": 117,
     "metadata": {},
     "output_type": "execute_result"
    }
   ],
   "source": [
    "type(df_tweepy_clean.tweet_id[0])"
   ]
  },
  {
   "cell_type": "markdown",
   "metadata": {},
   "source": [
    "All tweet ids have been changed to str."
   ]
  },
  {
   "cell_type": "markdown",
   "metadata": {},
   "source": [
    "#### Messy data issue #2: There are different numbers of rows in each dataframe."
   ]
  },
  {
   "cell_type": "markdown",
   "metadata": {},
   "source": [
    "Code:"
   ]
  },
  {
   "cell_type": "code",
   "execution_count": 118,
   "metadata": {},
   "outputs": [],
   "source": [
    "# Merging 3 dfs together with an inner join, so that they will share the same number of rows/same ids.\n",
    "df_merged_result = pd.merge(df_archive_clean, df_tweepy_clean, how = 'inner', on = 'tweet_id')                        \n",
    "df_merged_result = pd.merge(df_merged_result, df_img_pred_clean, how = 'inner', on = 'tweet_id')"
   ]
  },
  {
   "cell_type": "markdown",
   "metadata": {},
   "source": [
    "Test:"
   ]
  },
  {
   "cell_type": "code",
   "execution_count": 119,
   "metadata": {},
   "outputs": [
    {
     "data": {
      "text/html": [
       "<div>\n",
       "<style scoped>\n",
       "    .dataframe tbody tr th:only-of-type {\n",
       "        vertical-align: middle;\n",
       "    }\n",
       "\n",
       "    .dataframe tbody tr th {\n",
       "        vertical-align: top;\n",
       "    }\n",
       "\n",
       "    .dataframe thead th {\n",
       "        text-align: right;\n",
       "    }\n",
       "</style>\n",
       "<table border=\"1\" class=\"dataframe\">\n",
       "  <thead>\n",
       "    <tr style=\"text-align: right;\">\n",
       "      <th></th>\n",
       "      <th>tweet_id</th>\n",
       "      <th>in_reply_to_status_id</th>\n",
       "      <th>in_reply_to_user_id</th>\n",
       "      <th>timestamp</th>\n",
       "      <th>source</th>\n",
       "      <th>text</th>\n",
       "      <th>retweeted_status_id</th>\n",
       "      <th>retweeted_status_user_id</th>\n",
       "      <th>retweeted_status_timestamp</th>\n",
       "      <th>expanded_urls</th>\n",
       "      <th>...</th>\n",
       "      <th>img_num</th>\n",
       "      <th>p1</th>\n",
       "      <th>p1_conf</th>\n",
       "      <th>p1_dog</th>\n",
       "      <th>p2</th>\n",
       "      <th>p2_conf</th>\n",
       "      <th>p2_dog</th>\n",
       "      <th>p3</th>\n",
       "      <th>p3_conf</th>\n",
       "      <th>p3_dog</th>\n",
       "    </tr>\n",
       "  </thead>\n",
       "  <tbody>\n",
       "    <tr>\n",
       "      <th>1174</th>\n",
       "      <td>692752401762250755</td>\n",
       "      <td>NaN</td>\n",
       "      <td>NaN</td>\n",
       "      <td>2016-01-28 16:53:37 +0000</td>\n",
       "      <td>&lt;a href=\"http://twitter.com/download/iphone\" rel=\"nofollow\"&gt;Twitter for iPhone&lt;/a&gt;</td>\n",
       "      <td>\"Hello yes could I get one pupper to go please thank you\"\\nBoth 13/10 https://t.co/kYWcXbluUu</td>\n",
       "      <td>True</td>\n",
       "      <td>NaN</td>\n",
       "      <td>NaN</td>\n",
       "      <td>https://twitter.com/dog_rates/status/692752401762250755/photo/1</td>\n",
       "      <td>...</td>\n",
       "      <td>1</td>\n",
       "      <td>Samoyed</td>\n",
       "      <td>0.471276</td>\n",
       "      <td>True</td>\n",
       "      <td>Siberian_husky</td>\n",
       "      <td>0.15885</td>\n",
       "      <td>True</td>\n",
       "      <td>Eskimo_dog</td>\n",
       "      <td>0.138672</td>\n",
       "      <td>True</td>\n",
       "    </tr>\n",
       "  </tbody>\n",
       "</table>\n",
       "<p>1 rows × 27 columns</p>\n",
       "</div>"
      ],
      "text/plain": [
       "                tweet_id  in_reply_to_status_id  in_reply_to_user_id  \\\n",
       "1174  692752401762250755 NaN                    NaN                    \n",
       "\n",
       "                      timestamp  \\\n",
       "1174  2016-01-28 16:53:37 +0000   \n",
       "\n",
       "                                                                                  source  \\\n",
       "1174  <a href=\"http://twitter.com/download/iphone\" rel=\"nofollow\">Twitter for iPhone</a>   \n",
       "\n",
       "                                                                                               text  \\\n",
       "1174  \"Hello yes could I get one pupper to go please thank you\"\\nBoth 13/10 https://t.co/kYWcXbluUu   \n",
       "\n",
       "      retweeted_status_id  retweeted_status_user_id  \\\n",
       "1174  True                NaN                         \n",
       "\n",
       "     retweeted_status_timestamp  \\\n",
       "1174  NaN                         \n",
       "\n",
       "                                                        expanded_urls   ...    \\\n",
       "1174  https://twitter.com/dog_rates/status/692752401762250755/photo/1   ...     \n",
       "\n",
       "      img_num       p1   p1_conf p1_dog              p2  p2_conf p2_dog  \\\n",
       "1174  1        Samoyed  0.471276  True   Siberian_husky  0.15885  True    \n",
       "\n",
       "              p3   p3_conf  p3_dog  \n",
       "1174  Eskimo_dog  0.138672  True    \n",
       "\n",
       "[1 rows x 27 columns]"
      ]
     },
     "execution_count": 119,
     "metadata": {},
     "output_type": "execute_result"
    }
   ],
   "source": [
    "df_merged_result.sample()"
   ]
  },
  {
   "cell_type": "code",
   "execution_count": 120,
   "metadata": {},
   "outputs": [
    {
     "data": {
      "text/plain": [
       "(1987, 27)"
      ]
     },
     "execution_count": 120,
     "metadata": {},
     "output_type": "execute_result"
    }
   ],
   "source": [
    "df_merged_result.shape # we have successfully dropped rows"
   ]
  },
  {
   "cell_type": "code",
   "execution_count": 121,
   "metadata": {},
   "outputs": [
    {
     "data": {
      "text/plain": [
       "0"
      ]
     },
     "execution_count": 121,
     "metadata": {},
     "output_type": "execute_result"
    }
   ],
   "source": [
    "df_merged_result.duplicated().sum() # no duplicate values in the new df"
   ]
  },
  {
   "cell_type": "markdown",
   "metadata": {},
   "source": [
    "#### Dirty data issue #4: There are columns that have unnecessary information for the data analysis I will complete."
   ]
  },
  {
   "cell_type": "markdown",
   "metadata": {},
   "source": [
    "Code:"
   ]
  },
  {
   "cell_type": "code",
   "execution_count": 122,
   "metadata": {},
   "outputs": [],
   "source": [
    "columns_to_drop = ['in_reply_to_status_id', 'in_reply_to_user_id', 'source', 'retweeted_status_id', 'retweeted_status_user_id', 'retweeted_status_timestamp', 'expanded_urls', 'jpg_url', 'img_num']\n",
    "merged_clean_result = df_merged_result.drop(columns_to_drop, axis=1)"
   ]
  },
  {
   "cell_type": "markdown",
   "metadata": {},
   "source": [
    "Test:"
   ]
  },
  {
   "cell_type": "code",
   "execution_count": 123,
   "metadata": {},
   "outputs": [
    {
     "data": {
      "text/plain": [
       "Index(['tweet_id', 'timestamp', 'text', 'rating_numerator',\n",
       "       'rating_denominator', 'name', 'dog_stage', 'retweet_count',\n",
       "       'favorite_count', 'p1', 'p1_conf', 'p1_dog', 'p2', 'p2_conf', 'p2_dog',\n",
       "       'p3', 'p3_conf', 'p3_dog'],\n",
       "      dtype='object')"
      ]
     },
     "execution_count": 123,
     "metadata": {},
     "output_type": "execute_result"
    }
   ],
   "source": [
    "merged_clean_result.columns"
   ]
  },
  {
   "cell_type": "code",
   "execution_count": 124,
   "metadata": {},
   "outputs": [
    {
     "data": {
      "text/plain": [
       "(1987, 18)"
      ]
     },
     "execution_count": 124,
     "metadata": {},
     "output_type": "execute_result"
    }
   ],
   "source": [
    "merged_clean_result.shape # we dropped 9 columns"
   ]
  },
  {
   "cell_type": "markdown",
   "metadata": {},
   "source": [
    "#### Dirty data issue #5: Dog names with words like \"quite\", \"a\", \"an\", \"the\""
   ]
  },
  {
   "cell_type": "markdown",
   "metadata": {},
   "source": [
    "Code:"
   ]
  },
  {
   "cell_type": "code",
   "execution_count": 125,
   "metadata": {},
   "outputs": [
    {
     "data": {
      "text/plain": [
       "array(['very', 'unacceptable', 'this', 'the', 'such', 'space', 'quite',\n",
       "       'one', 'officially', 'not', 'my', 'light', 'just', 'infuriating',\n",
       "       'incredibly', 'his', 'getting', 'by', 'an', 'all', 'actually', 'a',\n",
       "       'Zuzu', 'Zooey', 'Zoey', 'Zoe', 'Ziva', 'Zeus', 'Zeke', 'Zeek',\n",
       "       'Zara', 'Yogi', 'Yoda', 'Wyatt', 'Wishes', 'Winston', 'Winnie',\n",
       "       'Winifred', 'Wilson', 'Willy', 'Willow', 'Willie', 'William',\n",
       "       'Willem', 'Wiggles', 'Wesley', 'Watson', 'Walter', 'Wally',\n",
       "       'Wallace', 'Walker', 'Waffles', 'Wafer', 'Vixen', 'Vinscent',\n",
       "       'Vinnie', 'Vincent', 'Vince', 'Venti', 'Ulysses', 'Tyrus', 'Tyrone',\n",
       "       'Tyr', 'Tycho', 'Tupawc', 'Tug', 'Tuco', 'Tucker', 'Tuck',\n",
       "       'Trooper', 'Tripp', 'Trip', 'Trigger', 'Trevith', 'Traviss',\n",
       "       'Travis', 'Tove', 'Torque', 'Tonks', 'Tommy', 'Tom', 'Toffee',\n",
       "       'Todo', 'Toby', 'Tobi', 'Tito', 'Titan', 'Tino', 'Timofy', 'Timmy',\n",
       "       'Timison', 'Timber', 'Tilly', 'Tiger', 'Thumas', 'Thor', 'Theodore',\n",
       "       'Theo', 'Tessa', 'Tess', 'Terry', 'Terrenth', 'Terrance', 'Tedrick',\n",
       "       'Tedders', 'Ted', 'Tebow', 'Taz', 'Tayzie', 'Tater', 'Tassy',\n",
       "       'Tanner', 'Tango', 'Taco', 'Sweet', 'Swagger', 'Superpup',\n",
       "       'Sunshine', 'Sunny', 'Sundance', 'Sully', 'Suki', 'Sugar',\n",
       "       'Stubert', 'Stuart', 'Stu', 'Strudel', 'Striker', 'Strider',\n",
       "       'Stormy', 'Storkson', 'Stewie', 'Steven', 'Steve', 'Stephanus',\n",
       "       'Stephan', 'Stella', 'Stefan', 'Stark', 'Stanley', 'Staniel',\n",
       "       'Sprout', 'Sprinkles', 'Spencer', 'Sparky', 'Spark', 'Spanky',\n",
       "       'Sora', 'Sophie', 'Sonny', 'Solomon', 'Sojourner', 'Socks', 'Sobe',\n",
       "       'Snoopy', 'Snoop', 'Snicku', 'Snickers', 'Smokey', 'Smiley', 'Skye',\n",
       "       'Sky', 'Skittles', 'Simba', 'Sierra', 'Sid', 'Siba', 'Shooter',\n",
       "       'Shnuggles', 'Shiloh', 'Shikha', 'Shelby', 'Shawwn', 'Shakespeare',\n",
       "       'Shaggy', 'Shadow', 'Shadoe', 'Severus', 'Sephie', 'Sebastian',\n",
       "       'Scruffers', 'Scout', 'Scott', 'Scooter', 'Schnozz', 'Schnitzel',\n",
       "       'Saydee', 'Sarge', 'Sansa', 'Sandy', 'Sandra', 'Samson', 'Samsom',\n",
       "       'Sampson', 'Sammy', 'Sam', 'Sailor', 'Sailer', 'Sage', 'Sadie',\n",
       "       'Rusty', 'Rupert', 'Rumpole', 'Rumble', 'Rufus', 'Rufio', 'Ruffles',\n",
       "       'Rueben', 'Ruby', 'Rubio', 'Rover', 'Rosie', 'Rose', 'Roscoe',\n",
       "       'Rory', 'Rorie', 'Roosevelt', 'Rooney', 'Rontu', 'Ronnie', 'Ronduh',\n",
       "       'Ron', 'Romeo', 'Rolf', 'Rodney', 'Rodman', 'Rocky', 'Rocco',\n",
       "       'Robin', 'Rizzy', 'Rizzo', 'River', 'Rinna', 'Rilo', 'Riley',\n",
       "       'Ridley', 'Ricky', 'Richie', 'Rhino', 'Rey', 'Reptar', 'Remy',\n",
       "       'Remus', 'Remington', 'Reginald', 'Reggie', 'Reese', 'Reagan',\n",
       "       'Raymond', 'Raphael', 'Randall', 'Rambo', 'Ralphé', 'Ralphus',\n",
       "       'Ralphson', 'Ralphie', 'Ralpher', 'Ralph', 'Ralf', 'Quinn',\n",
       "       'Pupcasso', 'Pumpkin', 'Puff', 'Pubert', 'Poppy', 'Pluto', 'Pipsy',\n",
       "       'Pippin', 'Pippa', 'Piper', 'Pip', 'Pinot', 'Pilot', 'Pickles',\n",
       "       'Phred', 'Phineas', 'Philippe', 'Philbert', 'Phil', 'Petrick',\n",
       "       'Pete', 'Perry', 'Percy', 'Pepper', 'Penny', 'Penelope', 'Peanut',\n",
       "       'Peaches', 'Pawnd', 'Pavlov', 'Paull', 'Patrick', 'Patch', 'Panda',\n",
       "       'Pancake', 'Paisley', 'Pablo', 'Ozzy', 'Ozzie', 'Otis', 'Oshie',\n",
       "       'Oscar', 'Orion', 'Oreo', 'Opie', 'Opal', 'Ollie', 'Oliviér',\n",
       "       'Olivia', 'Oliver', 'Olive', 'Ole', 'Olaf', 'Odin', 'Odie', 'Obie',\n",
       "       'Obi', 'Oakley', 'O', 'Nugget', 'Norman', 'Noosh', 'None', 'Nollie',\n",
       "       'Noah', 'Nimbus', 'Nigel', 'Nida', 'Nico', 'Newt', 'Neptune',\n",
       "       'Nelly', 'Napolean', 'Naphaniel', 'Nala', 'Mya', 'Mutt', 'Murphy',\n",
       "       'Mosby', 'Moreton', 'Moose', 'Mookie', 'Moofasa', 'Monty',\n",
       "       'Monster', 'Monkey', 'Mona', 'Molly', 'Mollie', 'Mojo', 'Moe', 'Mo',\n",
       "       'Mitch', 'Misty', 'Mister', 'Mingus', 'Mimosa', 'Milo', 'Millie',\n",
       "       'Milky', 'Miley', 'Mike', 'Miguel', 'Michelangelope', 'Mia',\n",
       "       'Meyer', 'Meera', 'Meatball', 'Maya', 'Maxwell', 'Maximus',\n",
       "       'Maxaroni', 'Max', 'Mauve', 'Maude', 'Mattie', 'Mason', 'Mary',\n",
       "       'Marvin', 'Marty', 'Marq', 'Marley', 'Marlee', 'Mark', 'Margo',\n",
       "       'Malikai', 'Malcolm', 'Maks', 'Major', 'Maisey', 'Mairi', 'Maggie',\n",
       "       'Maddie', 'Mack', 'Mac', 'Mabel', 'Luther', 'Lupe', 'Luna', 'Lulu',\n",
       "       'Lugan', 'Lucy', 'Lucky', 'Lucia', 'Luca', 'Louis', 'Louie', 'Lou',\n",
       "       'Lorenzo', 'Lorelei', 'Loomis', 'Longfellow', 'Lolo', 'Lola',\n",
       "       'Loki', 'Logan', 'Lizzie', 'Livvie', 'Lipton', 'Link', 'Linda',\n",
       "       'Lincoln', 'Lily', 'Lilly', 'Lillie', 'Lilli', 'Lili', 'Lilah',\n",
       "       'Liam', 'Levi', 'Leonidas', 'Leonard', 'Leo', 'Lenox', 'Lenny',\n",
       "       'Lennon', 'Leela', 'Layla', 'Lassie', 'Larry', 'Lance', 'Lambeau',\n",
       "       'Laika', 'Laela', 'Lacy', 'Kyro', 'Kyle', 'Kuyu', 'Kulet',\n",
       "       'Kreggory', 'Kreg', 'Kramer', 'Kota', 'Kona', 'Kollin', 'Koko',\n",
       "       'Kody', 'Koda', 'Kobe', 'Kloey', 'Klevin', 'Klein', 'Kirk', 'Kirby',\n",
       "       'Kingsley', 'Kilo', 'Kial', 'Kevon', 'Kevin', 'Keurig', 'Kenzie',\n",
       "       'Kenny', 'Kenneth', 'Kendall', 'Ken', 'Kellogg', 'Keith', 'Keet',\n",
       "       'Kayla', 'Kawhi', 'Katie', 'Kathmandu', 'Karma', 'Karll', 'Karl',\n",
       "       'Kara', 'Kanu', 'Kane', 'Kallie', 'Kaiya', 'Kaia', 'Juno', 'Julius',\n",
       "       'Julio', 'Juckson', 'Joshwa', 'Josep', 'Jordy', 'Jonah', 'Jomathan',\n",
       "       'Joey', 'Jockson', 'Jo', 'Jimothy', 'Jimison', 'Jiminy', 'Jiminus',\n",
       "       'Jimbo', 'Jim', 'Jett', 'Jessiga', 'Jessifer', 'Jesse', 'Jersey',\n",
       "       'Jerry', 'Jerome', 'Jeremy', 'Jeph', 'Jennifur', 'Jeffrie',\n",
       "       'Jeffri', 'Jeffrey', 'Jed', 'Jebberson', 'Jeb', 'Jazzy', 'Jazz',\n",
       "       'Jaycob', 'Jay', 'Jax', 'Jaspers', 'Jarvis', 'Jarod', 'Jareld',\n",
       "       'Jangle', 'Jamesy', 'Jameson', 'Jackson', 'Jackie', 'Jack', 'JD',\n",
       "       'Ivar', 'Ito', 'Iroh', 'Indie', 'Ike', 'Iggy', 'Huxley', 'Hurley',\n",
       "       'Hunter', 'Humphrey', 'Huck', 'Hubertson', 'Howie', 'Horace',\n",
       "       'Holly', 'Hobbes', 'Herschel', 'Hero', 'Hermione', 'Herm',\n",
       "       'Hercules', 'Herb', 'Herald', 'Henry', 'Heinrich', 'Hector',\n",
       "       'Hazel', 'Harvey', 'Harrison', 'Harper', 'Harold', 'Harnold',\n",
       "       'Harlso', 'Happy', 'Hanz', 'Hank', 'Hamrick', 'Hammond', 'Halo',\n",
       "       'Hall', 'Gòrdón', 'Gustav', 'Gustaf', 'Gus', 'Gunner', 'Gromit',\n",
       "       'Grizzwald', 'Grizzie', 'Grizz', 'Griswold', 'Griffin', 'Grey',\n",
       "       'Grady', 'Gordon', 'Goose', 'Goliath', 'Godzilla', 'Godi', 'Glenn',\n",
       "       'Glacier', 'Gizmo', 'Ginger', 'Gin', 'Gilbert', 'Gidget', 'Gert',\n",
       "       'Gerbald', 'Gerald', 'Georgie', 'George', 'Geoff', 'Geno',\n",
       "       'Genevieve', 'General', 'Gary', 'Gabe', 'Fynn', 'Fwed', 'Furzey',\n",
       "       'Frönq', 'Freddery', 'Fred', 'Franq', 'Franklin', 'Frankie',\n",
       "       'Frank', 'Flávio', 'Flurpson', 'Florence', 'Fletcher', 'Flash',\n",
       "       'Fizz', 'Fiona', 'Finnegus', 'Finn', 'Finley', 'Filup', 'Fillup',\n",
       "       'Fiji', 'Fido', 'Farfle', 'Fabio', 'Evy', 'Eve', 'Eugene', 'Ester',\n",
       "       'Eriq', 'Erik', 'Enchilada', 'Emmy', 'Emmie', 'Emma', 'Emanuel',\n",
       "       'Elliot', 'Ellie', 'Eli', 'Eleanor', 'Einstein', 'Eevee', 'Edmund',\n",
       "       'Edgar', 'Edd', 'Ed', 'Ebby', 'Eazy', 'Earl', 'Dylan', 'Dwight',\n",
       "       'Dutch', 'Durg', 'Dunkin', 'Duke', 'Dug', 'Dudley', 'Duddles',\n",
       "       'Duchess', 'Doug', 'Dotsy', 'Dot', 'Dook', 'Doobert', 'Donny',\n",
       "       'DonDon', 'Doc', 'Dobby', 'Django', 'Dixie', 'Divine', 'Diogi',\n",
       "       'Dietrich', 'Dido', 'Dexter', 'Dex', 'Dewey', 'Devón', 'Derek',\n",
       "       'Derby', 'Deacon', 'DayZ', 'Dawn', 'Davey', 'Dave', 'Dash',\n",
       "       'Darrel', 'Darla', 'Darby', 'Dante', 'Danny', 'Daniel', 'Damon',\n",
       "       'Dallas', 'Dale', 'Dakota', 'Daisy', 'Curtis', 'Cupid', 'Cupcake',\n",
       "       'Cuddles', 'Crystal', 'Crumpet', 'Crouton', 'Crimson', 'Creg',\n",
       "       'Crawford', 'Craig', 'Covach', 'Corey', 'Cora', 'Coopson', 'Coops',\n",
       "       'Cooper', 'Comet', 'Colin', 'Coleman', 'Colby', 'Cody', 'Coco',\n",
       "       'Clyde', 'Clybe', 'Clifford', 'Cleopatricia', 'Claude', 'Clarq',\n",
       "       'Clarkus', 'Clark', 'Clarence', 'Cilantro', 'Churlie', 'Chuq',\n",
       "       'Chuckles', 'Chuck', 'Chubbs', 'Christoper', 'Chompsky', 'Chloe',\n",
       "       'Chipson', 'Chip', 'Chevy', 'Chet', 'Chesterson', 'Chester',\n",
       "       'Chesney', 'Cheryl', 'Chelsea', 'Chef', 'Cheesy', 'Chaz', 'Chase',\n",
       "       'Charlie', 'Charleson', 'Charles', 'Charl', 'Champ', 'Chadrick',\n",
       "       'Cermet', 'Cedrick', 'Cecil', 'CeCe', 'Cassie', 'Cash', 'Caryl',\n",
       "       'Carter', 'Carper', 'Carly', 'Carll', 'Carl', 'Carbon', 'Cannon',\n",
       "       'Canela', 'Calvin', 'Callie', 'Cali', 'Calbert', 'Cal', 'Butters',\n",
       "       'Butter', 'Burt', 'Bungalo', 'Buddy', 'Buddah', 'Buckley',\n",
       "       'Bubbles', 'Bubba', 'Brutus', 'Bruno', 'Bruiser', 'Brudge', 'Bruce',\n",
       "       'Brownie', 'Brooks', 'Bronte', 'Brody', 'Brockly', 'Brian', 'Brat',\n",
       "       'Brandy', 'Brandonald', 'Brandi', 'Brady', 'Bradley', 'Bradlay',\n",
       "       'Brad', 'Bowie', 'Boston', 'Boots', 'Boomer', 'Bookstore', 'Bones',\n",
       "       'Bonaparte', 'Bodie', 'Bode', 'Bobby', 'Bobble', 'Bobbay', 'Bobb',\n",
       "       'Bob', 'Bo', 'Bluebert', 'Blue', 'Blu', 'Bloop', 'Bloo', 'Blitz',\n",
       "       'Blipson', 'Blanket', 'Blakely', 'Bisquick', 'Birf', 'Binky',\n",
       "       'Billy', 'Billl', 'Bilbo', 'Biden', 'Beya', 'Betty', 'Bertson',\n",
       "       'Bert', 'Bernie', 'Berkeley', 'Berb', 'Bentley', 'Benny', 'Benji',\n",
       "       'Benedict', 'Ben', 'Belle', 'Bella', 'Bell', 'Beemo', 'Beebop',\n",
       "       'Beckham', 'Beau', 'Bear', 'BeBe', 'Bayley', 'Baxter', 'Bauer',\n",
       "       'Batdog', 'Baron', 'Barney', 'Barclay', 'Banjo', 'Banditt', 'Baloo',\n",
       "       'Bailey', 'Axel', 'Ava', 'Autumn', 'Augie', 'Aubie', 'Atticus',\n",
       "       'Atlas', 'Aspen', 'Ashleigh', 'Asher', 'Ash', 'Arya', 'Arnold',\n",
       "       'Arnie', 'Arlo', 'Arlen', 'Archie', 'Aqua', 'Apollo', 'Antony',\n",
       "       'Anthony', 'Anna', 'Angel', 'Andy', 'Andru', 'Anakin', 'Amélie',\n",
       "       'Amy', 'Ambrose', 'Amber', 'Alice', 'Alfy', 'Alfie', 'Alf',\n",
       "       'Alexanderson', 'Alexander', 'Alejandro', 'Aldrick', 'Albus',\n",
       "       'Albert', 'Al', 'Akumi', 'Aja', 'Aiden', 'Adele', 'Acro', 'Ace',\n",
       "       'Abby'], dtype=object)"
      ]
     },
     "execution_count": 125,
     "metadata": {},
     "output_type": "execute_result"
    }
   ],
   "source": [
    "dog_names = merged_clean_result.name.unique() # we want to have a look at all of the unique names in the name column\n",
    "np.sort(dog_names)[::-1] # we use numpy sort to sort these z-a, and see lowercase \"names\" at the top"
   ]
  },
  {
   "cell_type": "code",
   "execution_count": 126,
   "metadata": {},
   "outputs": [],
   "source": [
    "missing_names = merged_clean_result[merged_clean_result.name.str.contains('^[a-z]|None')] \n",
    "# want to find names in the name column that start with a lowercase letter, as this is likely a word and not a proper name\n",
    "merged_clean_result['name'] = merged_clean_result['name'].replace(missing_names['name'].tolist(),np.NaN)\n",
    "# as we do not have a way to recover the missing dog names, we replace the words that are not names with NaN instead"
   ]
  },
  {
   "cell_type": "markdown",
   "metadata": {},
   "source": [
    "Test:"
   ]
  },
  {
   "cell_type": "code",
   "execution_count": 127,
   "metadata": {},
   "outputs": [
    {
     "data": {
      "text/html": [
       "<div>\n",
       "<style scoped>\n",
       "    .dataframe tbody tr th:only-of-type {\n",
       "        vertical-align: middle;\n",
       "    }\n",
       "\n",
       "    .dataframe tbody tr th {\n",
       "        vertical-align: top;\n",
       "    }\n",
       "\n",
       "    .dataframe thead th {\n",
       "        text-align: right;\n",
       "    }\n",
       "</style>\n",
       "<table border=\"1\" class=\"dataframe\">\n",
       "  <thead>\n",
       "    <tr style=\"text-align: right;\">\n",
       "      <th></th>\n",
       "      <th>tweet_id</th>\n",
       "      <th>timestamp</th>\n",
       "      <th>text</th>\n",
       "      <th>rating_numerator</th>\n",
       "      <th>rating_denominator</th>\n",
       "      <th>name</th>\n",
       "      <th>dog_stage</th>\n",
       "      <th>retweet_count</th>\n",
       "      <th>favorite_count</th>\n",
       "      <th>p1</th>\n",
       "      <th>p1_conf</th>\n",
       "      <th>p1_dog</th>\n",
       "      <th>p2</th>\n",
       "      <th>p2_conf</th>\n",
       "      <th>p2_dog</th>\n",
       "      <th>p3</th>\n",
       "      <th>p3_conf</th>\n",
       "      <th>p3_dog</th>\n",
       "    </tr>\n",
       "  </thead>\n",
       "  <tbody>\n",
       "  </tbody>\n",
       "</table>\n",
       "</div>"
      ],
      "text/plain": [
       "Empty DataFrame\n",
       "Columns: [tweet_id, timestamp, text, rating_numerator, rating_denominator, name, dog_stage, retweet_count, favorite_count, p1, p1_conf, p1_dog, p2, p2_conf, p2_dog, p3, p3_conf, p3_dog]\n",
       "Index: []"
      ]
     },
     "execution_count": 127,
     "metadata": {},
     "output_type": "execute_result"
    }
   ],
   "source": [
    "merged_clean_result[merged_clean_result['name'] == 'unacceptable'] # check to see if it worked"
   ]
  },
  {
   "cell_type": "markdown",
   "metadata": {},
   "source": [
    "#### 6. Change data types so that they make sense: tweet id to string, timestamp as date time, dog stage as category."
   ]
  },
  {
   "cell_type": "markdown",
   "metadata": {},
   "source": [
    "Code:"
   ]
  },
  {
   "cell_type": "code",
   "execution_count": 128,
   "metadata": {},
   "outputs": [],
   "source": [
    "merged_clean_result.timestamp = pd.to_datetime(merged_clean_result.timestamp)\n",
    "merged_clean_result.dog_stage = merged_clean_result.dog_stage.astype('category')"
   ]
  },
  {
   "cell_type": "markdown",
   "metadata": {},
   "source": [
    "Test:"
   ]
  },
  {
   "cell_type": "code",
   "execution_count": 129,
   "metadata": {},
   "outputs": [
    {
     "name": "stdout",
     "output_type": "stream",
     "text": [
      "<class 'pandas.core.frame.DataFrame'>\n",
      "Int64Index: 1987 entries, 0 to 1986\n",
      "Data columns (total 18 columns):\n",
      "tweet_id              1987 non-null object\n",
      "timestamp             1987 non-null datetime64[ns]\n",
      "text                  1987 non-null object\n",
      "rating_numerator      1987 non-null int64\n",
      "rating_denominator    1987 non-null int64\n",
      "name                  1343 non-null object\n",
      "dog_stage             1987 non-null category\n",
      "retweet_count         1987 non-null int64\n",
      "favorite_count        1987 non-null int64\n",
      "p1                    1987 non-null object\n",
      "p1_conf               1987 non-null float64\n",
      "p1_dog                1987 non-null bool\n",
      "p2                    1987 non-null object\n",
      "p2_conf               1987 non-null float64\n",
      "p2_dog                1987 non-null bool\n",
      "p3                    1987 non-null object\n",
      "p3_conf               1987 non-null float64\n",
      "p3_dog                1987 non-null bool\n",
      "dtypes: bool(3), category(1), datetime64[ns](1), float64(3), int64(4), object(6)\n",
      "memory usage: 240.8+ KB\n"
     ]
    }
   ],
   "source": [
    "merged_clean_result.info() # all of the data types look good now!"
   ]
  },
  {
   "cell_type": "markdown",
   "metadata": {},
   "source": [
    "#### Dirty data issue #7 Some of the ratings denominator/numerator columns have strange values (denominators larger than 10 for example)."
   ]
  },
  {
   "cell_type": "markdown",
   "metadata": {},
   "source": [
    "Code:"
   ]
  },
  {
   "cell_type": "code",
   "execution_count": 130,
   "metadata": {},
   "outputs": [
    {
     "data": {
      "text/plain": [
       "319     70 \n",
       "381     7  \n",
       "657     150\n",
       "794     11 \n",
       "842     170\n",
       "885     20 \n",
       "919     50 \n",
       "940     90 \n",
       "964     80 \n",
       "982     50 \n",
       "1048    50 \n",
       "1124    40 \n",
       "1296    130\n",
       "1297    110\n",
       "1322    11 \n",
       "1428    120\n",
       "1487    80 \n",
       "1966    2  \n",
       "Name: rating_denominator, dtype: int64"
      ]
     },
     "execution_count": 130,
     "metadata": {},
     "output_type": "execute_result"
    }
   ],
   "source": [
    "merged_clean_result.rating_denominator[merged_clean_result.rating_denominator!=10]\n",
    "# We look for all values in the denominator column that are not 10 (10 is the rule of thumb for denominators in WeRateDogs)"
   ]
  },
  {
   "cell_type": "code",
   "execution_count": 131,
   "metadata": {},
   "outputs": [],
   "source": [
    "pd.set_option('display.max_colwidth', -1) # we want to see the whole length of a sample text"
   ]
  },
  {
   "cell_type": "code",
   "execution_count": 132,
   "metadata": {},
   "outputs": [
    {
     "data": {
      "text/plain": [
       "940    Happy Saturday here's 9 puppers on a bench. 99/90 good work everybody https://t.co/mpvaVxKmc1\n",
       "Name: text, dtype: object"
      ]
     },
     "execution_count": 132,
     "metadata": {},
     "output_type": "execute_result"
    }
   ],
   "source": [
    "merged_clean_result[merged_clean_result['rating_denominator'] == 90].text \n",
    "# sample text, where we see rating is given as 99/90, which is not a \"valid\" rating, denominator should be 10"
   ]
  },
  {
   "cell_type": "code",
   "execution_count": 133,
   "metadata": {},
   "outputs": [],
   "source": [
    "# we find the indexes of all rows where the denominator does not equal 10\n",
    "index_not_10s = merged_clean_result.rating_denominator[merged_clean_result.rating_denominator != 10].index"
   ]
  },
  {
   "cell_type": "code",
   "execution_count": 134,
   "metadata": {},
   "outputs": [],
   "source": [
    "# we then locate these rows, and change the denominator/numerator values to NaN as they are not valid ratings/would skew analysis\n",
    "merged_clean_result.loc[index_not_10s, 'rating_denominator'] = np.NaN\n",
    "merged_clean_result.loc[index_not_10s, 'rating_numerator'] = np.NaN"
   ]
  },
  {
   "cell_type": "markdown",
   "metadata": {},
   "source": [
    "Test:"
   ]
  },
  {
   "cell_type": "code",
   "execution_count": 135,
   "metadata": {},
   "outputs": [
    {
     "data": {
      "text/html": [
       "<div>\n",
       "<style scoped>\n",
       "    .dataframe tbody tr th:only-of-type {\n",
       "        vertical-align: middle;\n",
       "    }\n",
       "\n",
       "    .dataframe tbody tr th {\n",
       "        vertical-align: top;\n",
       "    }\n",
       "\n",
       "    .dataframe thead th {\n",
       "        text-align: right;\n",
       "    }\n",
       "</style>\n",
       "<table border=\"1\" class=\"dataframe\">\n",
       "  <thead>\n",
       "    <tr style=\"text-align: right;\">\n",
       "      <th></th>\n",
       "      <th>tweet_id</th>\n",
       "      <th>timestamp</th>\n",
       "      <th>text</th>\n",
       "      <th>rating_numerator</th>\n",
       "      <th>rating_denominator</th>\n",
       "      <th>name</th>\n",
       "      <th>dog_stage</th>\n",
       "      <th>retweet_count</th>\n",
       "      <th>favorite_count</th>\n",
       "      <th>p1</th>\n",
       "      <th>p1_conf</th>\n",
       "      <th>p1_dog</th>\n",
       "      <th>p2</th>\n",
       "      <th>p2_conf</th>\n",
       "      <th>p2_dog</th>\n",
       "      <th>p3</th>\n",
       "      <th>p3_conf</th>\n",
       "      <th>p3_dog</th>\n",
       "    </tr>\n",
       "  </thead>\n",
       "  <tbody>\n",
       "  </tbody>\n",
       "</table>\n",
       "</div>"
      ],
      "text/plain": [
       "Empty DataFrame\n",
       "Columns: [tweet_id, timestamp, text, rating_numerator, rating_denominator, name, dog_stage, retweet_count, favorite_count, p1, p1_conf, p1_dog, p2, p2_conf, p2_dog, p3, p3_conf, p3_dog]\n",
       "Index: []"
      ]
     },
     "execution_count": 135,
     "metadata": {},
     "output_type": "execute_result"
    }
   ],
   "source": [
    "# search the above example again and see that it is no longer there\n",
    "merged_clean_result[merged_clean_result['rating_denominator'] == 90]"
   ]
  },
  {
   "cell_type": "markdown",
   "metadata": {},
   "source": [
    "#### Dirty data issue #8: Remove url from tweet text, as we already have access to this link in the original dataframe."
   ]
  },
  {
   "cell_type": "markdown",
   "metadata": {},
   "source": [
    "Code:"
   ]
  },
  {
   "cell_type": "code",
   "execution_count": 136,
   "metadata": {},
   "outputs": [
    {
     "data": {
      "text/html": [
       "<div>\n",
       "<style scoped>\n",
       "    .dataframe tbody tr th:only-of-type {\n",
       "        vertical-align: middle;\n",
       "    }\n",
       "\n",
       "    .dataframe tbody tr th {\n",
       "        vertical-align: top;\n",
       "    }\n",
       "\n",
       "    .dataframe thead th {\n",
       "        text-align: right;\n",
       "    }\n",
       "</style>\n",
       "<table border=\"1\" class=\"dataframe\">\n",
       "  <thead>\n",
       "    <tr style=\"text-align: right;\">\n",
       "      <th></th>\n",
       "      <th>tweet_id</th>\n",
       "      <th>timestamp</th>\n",
       "      <th>text</th>\n",
       "      <th>rating_numerator</th>\n",
       "      <th>rating_denominator</th>\n",
       "      <th>name</th>\n",
       "      <th>dog_stage</th>\n",
       "      <th>retweet_count</th>\n",
       "      <th>favorite_count</th>\n",
       "      <th>p1</th>\n",
       "      <th>p1_conf</th>\n",
       "      <th>p1_dog</th>\n",
       "      <th>p2</th>\n",
       "      <th>p2_conf</th>\n",
       "      <th>p2_dog</th>\n",
       "      <th>p3</th>\n",
       "      <th>p3_conf</th>\n",
       "      <th>p3_dog</th>\n",
       "    </tr>\n",
       "  </thead>\n",
       "  <tbody>\n",
       "    <tr>\n",
       "      <th>0</th>\n",
       "      <td>892420643555336193</td>\n",
       "      <td>2017-08-01 16:23:56</td>\n",
       "      <td>This is Phineas. He's a mystical boy. Only ever appears in the hole of a donut. 13/10 https://t.co/MgUWQ76dJU</td>\n",
       "      <td>13.0</td>\n",
       "      <td>10.0</td>\n",
       "      <td>Phineas</td>\n",
       "      <td>None</td>\n",
       "      <td>7725</td>\n",
       "      <td>36300</td>\n",
       "      <td>orange</td>\n",
       "      <td>0.097049</td>\n",
       "      <td>False</td>\n",
       "      <td>bagel</td>\n",
       "      <td>0.085851</td>\n",
       "      <td>False</td>\n",
       "      <td>banana</td>\n",
       "      <td>0.07611</td>\n",
       "      <td>False</td>\n",
       "    </tr>\n",
       "  </tbody>\n",
       "</table>\n",
       "</div>"
      ],
      "text/plain": [
       "             tweet_id           timestamp  \\\n",
       "0  892420643555336193 2017-08-01 16:23:56   \n",
       "\n",
       "                                                                                                            text  \\\n",
       "0  This is Phineas. He's a mystical boy. Only ever appears in the hole of a donut. 13/10 https://t.co/MgUWQ76dJU   \n",
       "\n",
       "   rating_numerator  rating_denominator     name dog_stage  retweet_count  \\\n",
       "0  13.0              10.0                Phineas  None      7725            \n",
       "\n",
       "   favorite_count      p1   p1_conf  p1_dog     p2   p2_conf  p2_dog      p3  \\\n",
       "0  36300           orange  0.097049  False   bagel  0.085851  False   banana   \n",
       "\n",
       "   p3_conf  p3_dog  \n",
       "0  0.07611  False   "
      ]
     },
     "execution_count": 136,
     "metadata": {},
     "output_type": "execute_result"
    }
   ],
   "source": [
    "merged_clean_result.head(1)"
   ]
  },
  {
   "cell_type": "code",
   "execution_count": 137,
   "metadata": {},
   "outputs": [],
   "source": [
    "# Import re package to make it easier to work with regular expressions\n",
    "import re\n",
    "\n",
    "# create a function to remove the url links from given string\n",
    "def remove_link(link_str): # link_str is the given string\n",
    "    return re.sub(r'http\\S+', '', link_str) # .sub extracts r'http\\S+' (regex to find http request) from link_str\n",
    "\n",
    "# apply the remove_link function and save the result to the current text column\n",
    "merged_clean_result['text'] = merged_clean_result['text'].apply(remove_link)"
   ]
  },
  {
   "cell_type": "markdown",
   "metadata": {},
   "source": [
    "Test:"
   ]
  },
  {
   "cell_type": "code",
   "execution_count": 138,
   "metadata": {},
   "outputs": [
    {
     "data": {
      "text/plain": [
       "0    This is Phineas. He's a mystical boy. Only ever appears in the hole of a donut. 13/10                                                      \n",
       "1    This is Tilly. She's just checking pup on you. Hopes you're doing ok. If not, she's available for pats, snugs, boops, the whole bit. 13/10 \n",
       "2    This is Archie. He is a rare Norwegian Pouncing Corgo. Lives in the tall grass. You never know when one may strike. 12/10                  \n",
       "3    This is Darla. She commenced a snooze mid meal. 13/10 happens to the best of us                                                            \n",
       "4    This is Franklin. He would like you to stop calling him \"cute.\" He is a very fierce shark and should be respected as such. 12/10 #BarkWeek \n",
       "Name: text, dtype: object"
      ]
     },
     "execution_count": 138,
     "metadata": {},
     "output_type": "execute_result"
    }
   ],
   "source": [
    "# Check result is correct\n",
    "merged_clean_result.text.head()"
   ]
  },
  {
   "cell_type": "markdown",
   "metadata": {},
   "source": [
    "### Save new dataframe to a csv file"
   ]
  },
  {
   "cell_type": "markdown",
   "metadata": {},
   "source": [
    "Code:"
   ]
  },
  {
   "cell_type": "code",
   "execution_count": 139,
   "metadata": {},
   "outputs": [],
   "source": [
    "merged_clean_result.to_csv('twitter_archive_master.csv', index=False)"
   ]
  },
  {
   "cell_type": "markdown",
   "metadata": {},
   "source": [
    "Test:"
   ]
  },
  {
   "cell_type": "code",
   "execution_count": 140,
   "metadata": {},
   "outputs": [
    {
     "data": {
      "text/html": [
       "<div>\n",
       "<style scoped>\n",
       "    .dataframe tbody tr th:only-of-type {\n",
       "        vertical-align: middle;\n",
       "    }\n",
       "\n",
       "    .dataframe tbody tr th {\n",
       "        vertical-align: top;\n",
       "    }\n",
       "\n",
       "    .dataframe thead th {\n",
       "        text-align: right;\n",
       "    }\n",
       "</style>\n",
       "<table border=\"1\" class=\"dataframe\">\n",
       "  <thead>\n",
       "    <tr style=\"text-align: right;\">\n",
       "      <th></th>\n",
       "      <th>tweet_id</th>\n",
       "      <th>timestamp</th>\n",
       "      <th>text</th>\n",
       "      <th>rating_numerator</th>\n",
       "      <th>rating_denominator</th>\n",
       "      <th>name</th>\n",
       "      <th>dog_stage</th>\n",
       "      <th>retweet_count</th>\n",
       "      <th>favorite_count</th>\n",
       "      <th>p1</th>\n",
       "      <th>p1_conf</th>\n",
       "      <th>p1_dog</th>\n",
       "      <th>p2</th>\n",
       "      <th>p2_conf</th>\n",
       "      <th>p2_dog</th>\n",
       "      <th>p3</th>\n",
       "      <th>p3_conf</th>\n",
       "      <th>p3_dog</th>\n",
       "    </tr>\n",
       "  </thead>\n",
       "  <tbody>\n",
       "    <tr>\n",
       "      <th>0</th>\n",
       "      <td>892420643555336193</td>\n",
       "      <td>2017-08-01 16:23:56</td>\n",
       "      <td>This is Phineas. He's a mystical boy. Only ever appears in the hole of a donut. 13/10</td>\n",
       "      <td>13.0</td>\n",
       "      <td>10.0</td>\n",
       "      <td>Phineas</td>\n",
       "      <td>None</td>\n",
       "      <td>7725</td>\n",
       "      <td>36300</td>\n",
       "      <td>orange</td>\n",
       "      <td>0.097049</td>\n",
       "      <td>False</td>\n",
       "      <td>bagel</td>\n",
       "      <td>0.085851</td>\n",
       "      <td>False</td>\n",
       "      <td>banana</td>\n",
       "      <td>0.076110</td>\n",
       "      <td>False</td>\n",
       "    </tr>\n",
       "    <tr>\n",
       "      <th>1</th>\n",
       "      <td>892177421306343426</td>\n",
       "      <td>2017-08-01 00:17:27</td>\n",
       "      <td>This is Tilly. She's just checking pup on you. Hopes you're doing ok. If not, she's available for pats, snugs, boops, the whole bit. 13/10</td>\n",
       "      <td>13.0</td>\n",
       "      <td>10.0</td>\n",
       "      <td>Tilly</td>\n",
       "      <td>None</td>\n",
       "      <td>5719</td>\n",
       "      <td>31305</td>\n",
       "      <td>Chihuahua</td>\n",
       "      <td>0.323581</td>\n",
       "      <td>True</td>\n",
       "      <td>Pekinese</td>\n",
       "      <td>0.090647</td>\n",
       "      <td>True</td>\n",
       "      <td>papillon</td>\n",
       "      <td>0.068957</td>\n",
       "      <td>True</td>\n",
       "    </tr>\n",
       "    <tr>\n",
       "      <th>2</th>\n",
       "      <td>891815181378084864</td>\n",
       "      <td>2017-07-31 00:18:03</td>\n",
       "      <td>This is Archie. He is a rare Norwegian Pouncing Corgo. Lives in the tall grass. You never know when one may strike. 12/10</td>\n",
       "      <td>12.0</td>\n",
       "      <td>10.0</td>\n",
       "      <td>Archie</td>\n",
       "      <td>None</td>\n",
       "      <td>3786</td>\n",
       "      <td>23571</td>\n",
       "      <td>Chihuahua</td>\n",
       "      <td>0.716012</td>\n",
       "      <td>True</td>\n",
       "      <td>malamute</td>\n",
       "      <td>0.078253</td>\n",
       "      <td>True</td>\n",
       "      <td>kelpie</td>\n",
       "      <td>0.031379</td>\n",
       "      <td>True</td>\n",
       "    </tr>\n",
       "    <tr>\n",
       "      <th>3</th>\n",
       "      <td>891689557279858688</td>\n",
       "      <td>2017-07-30 15:58:51</td>\n",
       "      <td>This is Darla. She commenced a snooze mid meal. 13/10 happens to the best of us</td>\n",
       "      <td>13.0</td>\n",
       "      <td>10.0</td>\n",
       "      <td>Darla</td>\n",
       "      <td>None</td>\n",
       "      <td>7888</td>\n",
       "      <td>39602</td>\n",
       "      <td>paper_towel</td>\n",
       "      <td>0.170278</td>\n",
       "      <td>False</td>\n",
       "      <td>Labrador_retriever</td>\n",
       "      <td>0.168086</td>\n",
       "      <td>True</td>\n",
       "      <td>spatula</td>\n",
       "      <td>0.040836</td>\n",
       "      <td>False</td>\n",
       "    </tr>\n",
       "    <tr>\n",
       "      <th>4</th>\n",
       "      <td>891327558926688256</td>\n",
       "      <td>2017-07-29 16:00:24</td>\n",
       "      <td>This is Franklin. He would like you to stop calling him \"cute.\" He is a very fierce shark and should be respected as such. 12/10 #BarkWeek</td>\n",
       "      <td>12.0</td>\n",
       "      <td>10.0</td>\n",
       "      <td>Franklin</td>\n",
       "      <td>None</td>\n",
       "      <td>8506</td>\n",
       "      <td>37816</td>\n",
       "      <td>basset</td>\n",
       "      <td>0.555712</td>\n",
       "      <td>True</td>\n",
       "      <td>English_springer</td>\n",
       "      <td>0.225770</td>\n",
       "      <td>True</td>\n",
       "      <td>German_short-haired_pointer</td>\n",
       "      <td>0.175219</td>\n",
       "      <td>True</td>\n",
       "    </tr>\n",
       "  </tbody>\n",
       "</table>\n",
       "</div>"
      ],
      "text/plain": [
       "             tweet_id            timestamp  \\\n",
       "0  892420643555336193  2017-08-01 16:23:56   \n",
       "1  892177421306343426  2017-08-01 00:17:27   \n",
       "2  891815181378084864  2017-07-31 00:18:03   \n",
       "3  891689557279858688  2017-07-30 15:58:51   \n",
       "4  891327558926688256  2017-07-29 16:00:24   \n",
       "\n",
       "                                                                                                                                          text  \\\n",
       "0  This is Phineas. He's a mystical boy. Only ever appears in the hole of a donut. 13/10                                                         \n",
       "1  This is Tilly. She's just checking pup on you. Hopes you're doing ok. If not, she's available for pats, snugs, boops, the whole bit. 13/10    \n",
       "2  This is Archie. He is a rare Norwegian Pouncing Corgo. Lives in the tall grass. You never know when one may strike. 12/10                     \n",
       "3  This is Darla. She commenced a snooze mid meal. 13/10 happens to the best of us                                                               \n",
       "4  This is Franklin. He would like you to stop calling him \"cute.\" He is a very fierce shark and should be respected as such. 12/10 #BarkWeek    \n",
       "\n",
       "   rating_numerator  rating_denominator      name dog_stage  retweet_count  \\\n",
       "0  13.0              10.0                Phineas   None      7725            \n",
       "1  13.0              10.0                Tilly     None      5719            \n",
       "2  12.0              10.0                Archie    None      3786            \n",
       "3  13.0              10.0                Darla     None      7888            \n",
       "4  12.0              10.0                Franklin  None      8506            \n",
       "\n",
       "   favorite_count           p1   p1_conf  p1_dog                  p2  \\\n",
       "0  36300           orange       0.097049  False   bagel                \n",
       "1  31305           Chihuahua    0.323581  True    Pekinese             \n",
       "2  23571           Chihuahua    0.716012  True    malamute             \n",
       "3  39602           paper_towel  0.170278  False   Labrador_retriever   \n",
       "4  37816           basset       0.555712  True    English_springer     \n",
       "\n",
       "    p2_conf  p2_dog                           p3   p3_conf  p3_dog  \n",
       "0  0.085851  False   banana                       0.076110  False   \n",
       "1  0.090647  True    papillon                     0.068957  True    \n",
       "2  0.078253  True    kelpie                       0.031379  True    \n",
       "3  0.168086  True    spatula                      0.040836  False   \n",
       "4  0.225770  True    German_short-haired_pointer  0.175219  True    "
      ]
     },
     "execution_count": 140,
     "metadata": {},
     "output_type": "execute_result"
    }
   ],
   "source": [
    "test_new_csv = pd.read_csv('twitter_archive_master.csv') # looks good!\n",
    "test_new_csv.head()"
   ]
  },
  {
   "cell_type": "markdown",
   "metadata": {},
   "source": [
    "### Acting on Wrangled Data"
   ]
  },
  {
   "cell_type": "markdown",
   "metadata": {},
   "source": [
    "#### Insight #1: Which dog stage is the most common, and does the dog stage seem to have a correlation with the number of retweets?"
   ]
  },
  {
   "cell_type": "markdown",
   "metadata": {},
   "source": [
    ">Steps:<br>1. Check out value counts to see if certain stages are more common than others.<br>2. Look at the average number of retweets for each dog stage using groupby.<br>3. Plot this information in a bar graph to more clearly show comparisons. The graph should be sorted from most retweets to least, with dog stage on the x-axis and total retweets on the y-axis."
   ]
  },
  {
   "cell_type": "code",
   "execution_count": 141,
   "metadata": {},
   "outputs": [
    {
     "data": {
      "text/plain": [
       "None      1620\n",
       "pupper    237 \n",
       "doggo     68  \n",
       "floof     34  \n",
       "puppo     28  \n",
       "Name: dog_stage, dtype: int64"
      ]
     },
     "execution_count": 141,
     "metadata": {},
     "output_type": "execute_result"
    }
   ],
   "source": [
    "merged_clean_result.dog_stage.value_counts()"
   ]
  },
  {
   "cell_type": "code",
   "execution_count": 142,
   "metadata": {},
   "outputs": [
    {
     "data": {
      "text/html": [
       "<div>\n",
       "<style scoped>\n",
       "    .dataframe tbody tr th:only-of-type {\n",
       "        vertical-align: middle;\n",
       "    }\n",
       "\n",
       "    .dataframe tbody tr th {\n",
       "        vertical-align: top;\n",
       "    }\n",
       "\n",
       "    .dataframe thead th {\n",
       "        text-align: right;\n",
       "    }\n",
       "</style>\n",
       "<table border=\"1\" class=\"dataframe\">\n",
       "  <thead>\n",
       "    <tr style=\"text-align: right;\">\n",
       "      <th></th>\n",
       "      <th>dog_stage</th>\n",
       "      <th>retweet_count</th>\n",
       "    </tr>\n",
       "  </thead>\n",
       "  <tbody>\n",
       "    <tr>\n",
       "      <th>0</th>\n",
       "      <td>None</td>\n",
       "      <td>2296.327160</td>\n",
       "    </tr>\n",
       "    <tr>\n",
       "      <th>1</th>\n",
       "      <td>doggo</td>\n",
       "      <td>6181.926471</td>\n",
       "    </tr>\n",
       "    <tr>\n",
       "      <th>2</th>\n",
       "      <td>floof</td>\n",
       "      <td>2547.205882</td>\n",
       "    </tr>\n",
       "    <tr>\n",
       "      <th>3</th>\n",
       "      <td>pupper</td>\n",
       "      <td>2102.080169</td>\n",
       "    </tr>\n",
       "    <tr>\n",
       "      <th>4</th>\n",
       "      <td>puppo</td>\n",
       "      <td>6032.321429</td>\n",
       "    </tr>\n",
       "  </tbody>\n",
       "</table>\n",
       "</div>"
      ],
      "text/plain": [
       "  dog_stage  retweet_count\n",
       "0  None      2296.327160  \n",
       "1  doggo     6181.926471  \n",
       "2  floof     2547.205882  \n",
       "3  pupper    2102.080169  \n",
       "4  puppo     6032.321429  "
      ]
     },
     "execution_count": 142,
     "metadata": {},
     "output_type": "execute_result"
    }
   ],
   "source": [
    "mean_retweets_dogstage = merged_clean_result.groupby('dog_stage').retweet_count.mean().reset_index('dog_stage')\n",
    "# using groupby to see the mean retweet_count for each dog_stage\n",
    "mean_retweets_dogstage"
   ]
  },
  {
   "cell_type": "code",
   "execution_count": 143,
   "metadata": {},
   "outputs": [
    {
     "data": {
      "text/html": [
       "<div>\n",
       "<style scoped>\n",
       "    .dataframe tbody tr th:only-of-type {\n",
       "        vertical-align: middle;\n",
       "    }\n",
       "\n",
       "    .dataframe tbody tr th {\n",
       "        vertical-align: top;\n",
       "    }\n",
       "\n",
       "    .dataframe thead th {\n",
       "        text-align: right;\n",
       "    }\n",
       "</style>\n",
       "<table border=\"1\" class=\"dataframe\">\n",
       "  <thead>\n",
       "    <tr style=\"text-align: right;\">\n",
       "      <th></th>\n",
       "      <th>dog_stage</th>\n",
       "      <th>retweet_count</th>\n",
       "    </tr>\n",
       "  </thead>\n",
       "  <tbody>\n",
       "    <tr>\n",
       "      <th>0</th>\n",
       "      <td>doggo</td>\n",
       "      <td>6181.926471</td>\n",
       "    </tr>\n",
       "    <tr>\n",
       "      <th>1</th>\n",
       "      <td>puppo</td>\n",
       "      <td>6032.321429</td>\n",
       "    </tr>\n",
       "    <tr>\n",
       "      <th>2</th>\n",
       "      <td>floof</td>\n",
       "      <td>2547.205882</td>\n",
       "    </tr>\n",
       "    <tr>\n",
       "      <th>3</th>\n",
       "      <td>None</td>\n",
       "      <td>2296.327160</td>\n",
       "    </tr>\n",
       "    <tr>\n",
       "      <th>4</th>\n",
       "      <td>pupper</td>\n",
       "      <td>2102.080169</td>\n",
       "    </tr>\n",
       "  </tbody>\n",
       "</table>\n",
       "</div>"
      ],
      "text/plain": [
       "  dog_stage  retweet_count\n",
       "0  doggo     6181.926471  \n",
       "1  puppo     6032.321429  \n",
       "2  floof     2547.205882  \n",
       "3  None      2296.327160  \n",
       "4  pupper    2102.080169  "
      ]
     },
     "execution_count": 143,
     "metadata": {},
     "output_type": "execute_result"
    }
   ],
   "source": [
    "df_sorted_desc = mean_retweets_dogstage.sort_values('retweet_count', ascending=False).reset_index(drop=True)\n",
    "# sorting the retweet count descending in order to graph in order from highest to lowest.\n",
    "# reseting index and setting drop to true, so that we do not end up with an extra column.\n",
    "df_sorted_desc"
   ]
  },
  {
   "cell_type": "code",
   "execution_count": 144,
   "metadata": {},
   "outputs": [
    {
     "data": {
      "image/png": "[encoded data removed]",
      "text/plain": [
       "<matplotlib.figure.Figure at 0x7f2ea8ccc978>"
      ]
     },
     "metadata": {
      "needs_background": "light"
     },
     "output_type": "display_data"
    }
   ],
   "source": [
    "import matplotlib.pyplot as plt\n",
    "%matplotlib inline\n",
    "\n",
    "locations = [0, 1, 2, 3, 4]\n",
    "heights = [df_sorted_desc.retweet_count[0], df_sorted_desc.retweet_count[1], df_sorted_desc.retweet_count[2], \n",
    "           df_sorted_desc.retweet_count[3], df_sorted_desc.retweet_count[4]]\n",
    "labels = ['doggo', 'puppo', 'floof', 'None', 'pupper']\n",
    "plt.bar(locations, heights, tick_label=labels)\n",
    "plt.title(\"Average retweet count for each dog stage\\n\")\n",
    "plt.xlabel(\"\\nDog stage\")\n",
    "plt.ylabel(\"Total retweets\\n\");"
   ]
  },
  {
   "cell_type": "markdown",
   "metadata": {},
   "source": [
    "Conclusions:<br>\n",
    ">Doggo and puppo have significantly higher average retweet counts than floof, pupper, or tweets not including the dog stage (none), more than double the retweet count. It seems tweets mentioning the dog's stage are more likely to be retweeted. "
   ]
  },
  {
   "cell_type": "markdown",
   "metadata": {},
   "source": [
    "#### Insight #2: Is there a correlation between the rating numerator and number of favorites?"
   ]
  },
  {
   "cell_type": "markdown",
   "metadata": {},
   "source": [
    ">Steps:<br>1. Use groupby for the rating numerator to find the number of favorites for each numerator.<br>2. Plot the rating numerator and number of favorites in a scatterplot, with rating numerator on the x-axis and number of favorites on the y-axis.<br>3. Look at the correlation coeffecient in order to compare the 2 statistically."
   ]
  },
  {
   "cell_type": "code",
   "execution_count": 148,
   "metadata": {},
   "outputs": [
    {
     "data": {
      "text/html": [
       "<div>\n",
       "<style scoped>\n",
       "    .dataframe tbody tr th:only-of-type {\n",
       "        vertical-align: middle;\n",
       "    }\n",
       "\n",
       "    .dataframe tbody tr th {\n",
       "        vertical-align: top;\n",
       "    }\n",
       "\n",
       "    .dataframe thead th {\n",
       "        text-align: right;\n",
       "    }\n",
       "</style>\n",
       "<table border=\"1\" class=\"dataframe\">\n",
       "  <thead>\n",
       "    <tr style=\"text-align: right;\">\n",
       "      <th></th>\n",
       "      <th>rating_numerator</th>\n",
       "      <th>favorite_count</th>\n",
       "    </tr>\n",
       "  </thead>\n",
       "  <tbody>\n",
       "    <tr>\n",
       "      <th>15</th>\n",
       "      <td>26.0</td>\n",
       "      <td>1713.0</td>\n",
       "    </tr>\n",
       "    <tr>\n",
       "      <th>16</th>\n",
       "      <td>27.0</td>\n",
       "      <td>6659.0</td>\n",
       "    </tr>\n",
       "    <tr>\n",
       "      <th>17</th>\n",
       "      <td>75.0</td>\n",
       "      <td>18649.0</td>\n",
       "    </tr>\n",
       "    <tr>\n",
       "      <th>18</th>\n",
       "      <td>420.0</td>\n",
       "      <td>23818.0</td>\n",
       "    </tr>\n",
       "    <tr>\n",
       "      <th>19</th>\n",
       "      <td>1776.0</td>\n",
       "      <td>5150.0</td>\n",
       "    </tr>\n",
       "  </tbody>\n",
       "</table>\n",
       "</div>"
      ],
      "text/plain": [
       "    rating_numerator  favorite_count\n",
       "15  26.0              1713.0        \n",
       "16  27.0              6659.0        \n",
       "17  75.0              18649.0       \n",
       "18  420.0             23818.0       \n",
       "19  1776.0            5150.0        "
      ]
     },
     "execution_count": 148,
     "metadata": {},
     "output_type": "execute_result"
    }
   ],
   "source": [
    "mean_favorites_num = merged_clean_result.groupby('rating_numerator').favorite_count.mean().reset_index('rating_numerator')\n",
    "mean_favorites_num.tail()"
   ]
  },
  {
   "cell_type": "code",
   "execution_count": 149,
   "metadata": {},
   "outputs": [
    {
     "data": {
      "image/png": "[encoded data removed]",
      "text/plain": [
       "<matplotlib.figure.Figure at 0x7f2ea8e7cf28>"
      ]
     },
     "metadata": {
      "needs_background": "light"
     },
     "output_type": "display_data"
    }
   ],
   "source": [
    "# Looking at rating_numerator and favorite_count in a scatterplot\n",
    "mean_favorites_num.plot(x=\"rating_numerator\", y=\"favorite_count\", kind=\"scatter\");"
   ]
  },
  {
   "cell_type": "code",
   "execution_count": 147,
   "metadata": {},
   "outputs": [
    {
     "data": {
      "text/html": [
       "<div>\n",
       "<style scoped>\n",
       "    .dataframe tbody tr th:only-of-type {\n",
       "        vertical-align: middle;\n",
       "    }\n",
       "\n",
       "    .dataframe tbody tr th {\n",
       "        vertical-align: top;\n",
       "    }\n",
       "\n",
       "    .dataframe thead th {\n",
       "        text-align: right;\n",
       "    }\n",
       "</style>\n",
       "<table border=\"1\" class=\"dataframe\">\n",
       "  <thead>\n",
       "    <tr style=\"text-align: right;\">\n",
       "      <th></th>\n",
       "      <th>rating_numerator</th>\n",
       "      <th>favorite_count</th>\n",
       "    </tr>\n",
       "  </thead>\n",
       "  <tbody>\n",
       "    <tr>\n",
       "      <th>13</th>\n",
       "      <td>13.0</td>\n",
       "      <td>21455.607004</td>\n",
       "    </tr>\n",
       "    <tr>\n",
       "      <th>14</th>\n",
       "      <td>14.0</td>\n",
       "      <td>27065.342857</td>\n",
       "    </tr>\n",
       "    <tr>\n",
       "      <th>15</th>\n",
       "      <td>26.0</td>\n",
       "      <td>1713.000000</td>\n",
       "    </tr>\n",
       "    <tr>\n",
       "      <th>16</th>\n",
       "      <td>27.0</td>\n",
       "      <td>6659.000000</td>\n",
       "    </tr>\n",
       "    <tr>\n",
       "      <th>17</th>\n",
       "      <td>75.0</td>\n",
       "      <td>18649.000000</td>\n",
       "    </tr>\n",
       "  </tbody>\n",
       "</table>\n",
       "</div>"
      ],
      "text/plain": [
       "    rating_numerator  favorite_count\n",
       "13  13.0              21455.607004  \n",
       "14  14.0              27065.342857  \n",
       "15  26.0              1713.000000   \n",
       "16  27.0              6659.000000   \n",
       "17  75.0              18649.000000  "
      ]
     },
     "execution_count": 147,
     "metadata": {},
     "output_type": "execute_result"
    }
   ],
   "source": [
    "# this really doesn't show us much! let's see how this looks if we were to remove the 2 largest values\n",
    "less_means_faves_num = mean_favorites_num.drop(mean_favorites_num[mean_favorites_num.rating_numerator >= 420.0].index)\n",
    "less_means_faves_num.tail()"
   ]
  },
  {
   "cell_type": "code",
   "execution_count": 150,
   "metadata": {},
   "outputs": [
    {
     "data": {
      "image/png": "[encoded data removed]",
      "text/plain": [
       "<matplotlib.figure.Figure at 0x7f2ea8e55160>"
      ]
     },
     "metadata": {
      "needs_background": "light"
     },
     "output_type": "display_data"
    }
   ],
   "source": [
    "# looking at the scatterplot again after dropping the 2 major outliers of 420 and 1776\n",
    "less_means_faves_num.plot(x=\"rating_numerator\", y=\"favorite_count\", kind=\"scatter\");"
   ]
  },
  {
   "cell_type": "markdown",
   "metadata": {},
   "source": [
    "The scatterplot unfortunately still does not show us too much: it seems there is a very strong correlation between these 2 variables. Let's take a quick look at the correlation coeffecient to determine correlation."
   ]
  },
  {
   "cell_type": "code",
   "execution_count": 151,
   "metadata": {},
   "outputs": [
    {
     "data": {
      "text/plain": [
       "array([[ 1.       ,  0.0293741],\n",
       "       [ 0.0293741,  1.       ]])"
      ]
     },
     "execution_count": 151,
     "metadata": {},
     "output_type": "execute_result"
    }
   ],
   "source": [
    "np.corrcoef(mean_favorites_num.rating_numerator, mean_favorites_num.favorite_count)"
   ]
  },
  {
   "cell_type": "code",
   "execution_count": 152,
   "metadata": {},
   "outputs": [
    {
     "data": {
      "text/plain": [
       "array([[ 1.        ,  0.39360188],\n",
       "       [ 0.39360188,  1.        ]])"
      ]
     },
     "execution_count": 152,
     "metadata": {},
     "output_type": "execute_result"
    }
   ],
   "source": [
    "np.corrcoef(less_means_faves_num.rating_numerator, less_means_faves_num.favorite_count)"
   ]
  },
  {
   "cell_type": "markdown",
   "metadata": {},
   "source": [
    "Conclusions:<br>\n",
    ">A strong correlation coeffecient is generally considered to be greater than or equal to 0.7, while moderate is between 0.3 and 0.7 and weak is between 0 and 0.3 (either positive or negative, depending on whether the correlation is positive or negative).<br><br>The correlation coeffecient for these 2 variables, before dropping any values is ≈ 0.029, and after dropping ≈ 0.39. Before dropping these 2 large outliers, the correlation is very weak and positive. After dropping these values, the correlation coeffecient suggests a moderate, positive correlation."
   ]
  },
  {
   "cell_type": "markdown",
   "metadata": {},
   "source": [
    "#### Insight #3: For how many tweets was the neural network unable to determine that the image was of a dog? Did these images have fewer retweets than those in which a dog type was identified in the first go?"
   ]
  },
  {
   "cell_type": "markdown",
   "metadata": {},
   "source": [
    ">Steps:<br>1. Find for how many tweets was the neural network unable to recognize that an image was of a dog on the first try.<br>2. Look to see if there is a correlation between retweets/favorites and identifying the image is of a dog, by comparing the average number of retweets/favorites for both."
   ]
  },
  {
   "cell_type": "code",
   "execution_count": 310,
   "metadata": {},
   "outputs": [
    {
     "data": {
      "text/html": [
       "<div>\n",
       "<style scoped>\n",
       "    .dataframe tbody tr th:only-of-type {\n",
       "        vertical-align: middle;\n",
       "    }\n",
       "\n",
       "    .dataframe tbody tr th {\n",
       "        vertical-align: top;\n",
       "    }\n",
       "\n",
       "    .dataframe thead th {\n",
       "        text-align: right;\n",
       "    }\n",
       "</style>\n",
       "<table border=\"1\" class=\"dataframe\">\n",
       "  <thead>\n",
       "    <tr style=\"text-align: right;\">\n",
       "      <th></th>\n",
       "      <th>tweet_id</th>\n",
       "      <th>timestamp</th>\n",
       "      <th>text</th>\n",
       "      <th>rating_numerator</th>\n",
       "      <th>rating_denominator</th>\n",
       "      <th>name</th>\n",
       "      <th>dog_stage</th>\n",
       "      <th>retweet_count</th>\n",
       "      <th>favorite_count</th>\n",
       "      <th>p1</th>\n",
       "      <th>p1_conf</th>\n",
       "      <th>p1_dog</th>\n",
       "      <th>p2</th>\n",
       "      <th>p2_conf</th>\n",
       "      <th>p2_dog</th>\n",
       "      <th>p3</th>\n",
       "      <th>p3_conf</th>\n",
       "      <th>p3_dog</th>\n",
       "    </tr>\n",
       "  </thead>\n",
       "  <tbody>\n",
       "    <tr>\n",
       "      <th>0</th>\n",
       "      <td>892420643555336193</td>\n",
       "      <td>2017-08-01 16:23:56</td>\n",
       "      <td>This is Phineas. He's a mystical boy. Only ever appears in the hole of a donut. 13/10</td>\n",
       "      <td>13.0</td>\n",
       "      <td>10.0</td>\n",
       "      <td>Phineas</td>\n",
       "      <td>None</td>\n",
       "      <td>7726</td>\n",
       "      <td>36298</td>\n",
       "      <td>orange</td>\n",
       "      <td>0.097049</td>\n",
       "      <td>False</td>\n",
       "      <td>bagel</td>\n",
       "      <td>0.085851</td>\n",
       "      <td>False</td>\n",
       "      <td>banana</td>\n",
       "      <td>0.07611</td>\n",
       "      <td>False</td>\n",
       "    </tr>\n",
       "  </tbody>\n",
       "</table>\n",
       "</div>"
      ],
      "text/plain": [
       "             tweet_id           timestamp  \\\n",
       "0  892420643555336193 2017-08-01 16:23:56   \n",
       "\n",
       "                                                                                     text  \\\n",
       "0  This is Phineas. He's a mystical boy. Only ever appears in the hole of a donut. 13/10    \n",
       "\n",
       "   rating_numerator  rating_denominator     name dog_stage  retweet_count  \\\n",
       "0  13.0              10.0                Phineas  None      7726            \n",
       "\n",
       "   favorite_count      p1   p1_conf  p1_dog     p2   p2_conf  p2_dog      p3  \\\n",
       "0  36298           orange  0.097049  False   bagel  0.085851  False   banana   \n",
       "\n",
       "   p3_conf  p3_dog  \n",
       "0  0.07611  False   "
      ]
     },
     "execution_count": 310,
     "metadata": {},
     "output_type": "execute_result"
    }
   ],
   "source": [
    "merged_clean_result.head(1)"
   ]
  },
  {
   "cell_type": "code",
   "execution_count": 311,
   "metadata": {},
   "outputs": [
    {
     "data": {
      "text/plain": [
       "True     1470\n",
       "False    517 \n",
       "Name: p1_dog, dtype: int64"
      ]
     },
     "execution_count": 311,
     "metadata": {},
     "output_type": "execute_result"
    }
   ],
   "source": [
    "merged_clean_result.p1_dog.value_counts()"
   ]
  },
  {
   "cell_type": "code",
   "execution_count": 312,
   "metadata": {},
   "outputs": [
    {
     "data": {
      "text/html": [
       "<div>\n",
       "<style scoped>\n",
       "    .dataframe tbody tr th:only-of-type {\n",
       "        vertical-align: middle;\n",
       "    }\n",
       "\n",
       "    .dataframe tbody tr th {\n",
       "        vertical-align: top;\n",
       "    }\n",
       "\n",
       "    .dataframe thead th {\n",
       "        text-align: right;\n",
       "    }\n",
       "</style>\n",
       "<table border=\"1\" class=\"dataframe\">\n",
       "  <thead>\n",
       "    <tr style=\"text-align: right;\">\n",
       "      <th></th>\n",
       "      <th>p1_dog</th>\n",
       "      <th>retweet_count</th>\n",
       "    </tr>\n",
       "  </thead>\n",
       "  <tbody>\n",
       "    <tr>\n",
       "      <th>0</th>\n",
       "      <td>False</td>\n",
       "      <td>2443.512573</td>\n",
       "    </tr>\n",
       "    <tr>\n",
       "      <th>1</th>\n",
       "      <td>True</td>\n",
       "      <td>2470.801361</td>\n",
       "    </tr>\n",
       "  </tbody>\n",
       "</table>\n",
       "</div>"
      ],
      "text/plain": [
       "   p1_dog  retweet_count\n",
       "0  False   2443.512573  \n",
       "1  True    2470.801361  "
      ]
     },
     "execution_count": 312,
     "metadata": {},
     "output_type": "execute_result"
    }
   ],
   "source": [
    "p1dog_retweet_mean = merged_clean_result.groupby('p1_dog').retweet_count.mean().reset_index('p1_dog')\n",
    "p1dog_retweet_mean"
   ]
  },
  {
   "cell_type": "markdown",
   "metadata": {},
   "source": [
    "It is clear to see that this had almost no effect on retweet count, as there is only a difference of 27 retweets between true and false. Let's have a quick look at favorites too."
   ]
  },
  {
   "cell_type": "code",
   "execution_count": 313,
   "metadata": {},
   "outputs": [
    {
     "data": {
      "text/html": [
       "<div>\n",
       "<style scoped>\n",
       "    .dataframe tbody tr th:only-of-type {\n",
       "        vertical-align: middle;\n",
       "    }\n",
       "\n",
       "    .dataframe tbody tr th {\n",
       "        vertical-align: top;\n",
       "    }\n",
       "\n",
       "    .dataframe thead th {\n",
       "        text-align: right;\n",
       "    }\n",
       "</style>\n",
       "<table border=\"1\" class=\"dataframe\">\n",
       "  <thead>\n",
       "    <tr style=\"text-align: right;\">\n",
       "      <th></th>\n",
       "      <th>p1_dog</th>\n",
       "      <th>favorite_count</th>\n",
       "    </tr>\n",
       "  </thead>\n",
       "  <tbody>\n",
       "    <tr>\n",
       "      <th>0</th>\n",
       "      <td>False</td>\n",
       "      <td>7404.551257</td>\n",
       "    </tr>\n",
       "    <tr>\n",
       "      <th>1</th>\n",
       "      <td>True</td>\n",
       "      <td>8611.938095</td>\n",
       "    </tr>\n",
       "  </tbody>\n",
       "</table>\n",
       "</div>"
      ],
      "text/plain": [
       "   p1_dog  favorite_count\n",
       "0  False   7404.551257   \n",
       "1  True    8611.938095   "
      ]
     },
     "execution_count": 313,
     "metadata": {},
     "output_type": "execute_result"
    }
   ],
   "source": [
    "p1dog_fave_mean = merged_clean_result.groupby('p1_dog').favorite_count.mean().reset_index('p1_dog')\n",
    "p1dog_fave_mean"
   ]
  },
  {
   "cell_type": "markdown",
   "metadata": {},
   "source": [
    "Here are these differences plotted in a stacked bar chart."
   ]
  },
  {
   "cell_type": "code",
   "execution_count": 315,
   "metadata": {},
   "outputs": [
    {
     "data": {
      "image/png": "[encoded data removed]",
      "text/plain": [
       "<matplotlib.figure.Figure at 0x7f344c8c1518>"
      ]
     },
     "metadata": {
      "needs_background": "light"
     },
     "output_type": "display_data"
    }
   ],
   "source": [
    "N = 2 # we want 2 bars in total\n",
    "ind = np.arange(N) # arranges bars in N order.\n",
    "not_predicted = (p1dog_retweet_mean.retweet_count[0], p1dog_fave_mean.favorite_count[0])\n",
    "predicted = (p1dog_retweet_mean.retweet_count[1], p1dog_fave_mean.favorite_count[1])\n",
    "# not_predicted and predicted = variables to include for the stacked bars \n",
    "width = 0.50 # width of bars\n",
    "plt.figure(figsize=(4, 6)) # size of graph\n",
    "p1 = plt.bar(ind, not_predicted, width) # components of each part of stacked bar\n",
    "p2 = plt.bar(ind, predicted, width, bottom=not_predicted) # bottom: we want not_predicted at the bottom of stack\n",
    "\n",
    "plt.ylabel('Total Count\\n')\n",
    "plt.title('Average count of retweets/favorites\\nbased on whether dog was predicted\\n')\n",
    "plt.xticks(ind, ('Retweets', 'Favorites'))\n",
    "plt.yticks(np.arange(0, 17000, 1000)) # set minimum y-value as 0, maximum as 17000, in increments of 1000\n",
    "plt.legend((p1, p2), ('Not predicted', 'Predicted'));\n",
    "\n",
    "plt.show()"
   ]
  },
  {
   "cell_type": "markdown",
   "metadata": {},
   "source": [
    "Conclusions:<br>\n",
    ">We can see more clearly here that the difference is more significant between not predicted/predicted for favorites that retweets. This could suggest that tweets are more popular when the dog in the image is more clearly recognizable as a dog/when there are less background objects that may distract from the dog itself. "
   ]
  }
 ],
 "metadata": {
  "kernelspec": {
   "display_name": "Python 3",
   "language": "python",
   "name": "python3"
  },
  "language_info": {
   "codemirror_mode": {
    "name": "ipython",
    "version": 3
   },
   "file_extension": ".py",
   "mimetype": "text/x-python",
   "name": "python",
   "nbconvert_exporter": "python",
   "pygments_lexer": "ipython3",
   "version": "3.6.3"
  }
 },
 "nbformat": 4,
 "nbformat_minor": 2
}
